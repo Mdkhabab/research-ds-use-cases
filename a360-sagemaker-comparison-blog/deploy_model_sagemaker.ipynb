{
 "cells": [
  {
   "cell_type": "markdown",
   "id": "aa9ee233",
   "metadata": {},
   "source": [
    "# SageMaker Deployment"
   ]
  },
  {
   "cell_type": "code",
   "execution_count": 28,
   "id": "01a13d94",
   "metadata": {},
   "outputs": [],
   "source": [
    "with tarfile.open('model.tar.gz', \"w:gz\") as tar:\n",
    "    tar.add('model.joblib')"
   ]
  },
  {
   "cell_type": "code",
   "execution_count": 29,
   "id": "9fcbd796",
   "metadata": {},
   "outputs": [
    {
     "name": "stdout",
     "output_type": "stream",
     "text": [
      "None\n"
     ]
    }
   ],
   "source": [
    "session = boto3.Session()\n",
    "s3 = session.resource('s3')\n",
    "\n",
    "local_path = 'model.tar.gz' \n",
    "s3_filename =  'model.tar.gz' \n",
    "result = s3.Bucket(bucket).upload_file(local_path, s3_filename)  \n",
    "print(result)"
   ]
  },
  {
   "cell_type": "code",
   "execution_count": 39,
   "id": "04ea8239",
   "metadata": {},
   "outputs": [],
   "source": [
    "sm_model = SKLearnModel(\n",
    "    model_data='s3://' + bucket + '/model.tar.gz',\n",
    "    role=get_execution_role(),\n",
    "    entry_point='script.py',\n",
    "    framework_version='0.23-1')"
   ]
  },
  {
   "cell_type": "code",
   "execution_count": 41,
   "id": "5d24d53c",
   "metadata": {},
   "outputs": [
    {
     "name": "stdout",
     "output_type": "stream",
     "text": [
      "-----!"
     ]
    }
   ],
   "source": [
    "predictor = sm_model.deploy(\n",
    "    instance_type='ml.c5.large',\n",
    "    initial_instance_count=1)"
   ]
  },
  {
   "cell_type": "code",
   "execution_count": null,
   "id": "6bd1ad94",
   "metadata": {},
   "outputs": [],
   "source": [
    "pred_test = predictor.predict(X_test)"
   ]
  },
  {
   "cell_type": "code",
   "execution_count": null,
   "id": "85c6625a",
   "metadata": {},
   "outputs": [],
   "source": [
    "pred_test[0:10]"
   ]
  },
  {
   "cell_type": "markdown",
   "id": "92a91c7c",
   "metadata": {},
   "source": [
    "### Clean up"
   ]
  },
  {
   "cell_type": "code",
   "execution_count": null,
   "id": "dcbd41be",
   "metadata": {},
   "outputs": [],
   "source": [
    "predictor.delete_endpoint() "
   ]
  },
  {
   "cell_type": "code",
   "execution_count": null,
   "id": "9e2f263f",
   "metadata": {},
   "outputs": [],
   "source": [
    "predictor.delete_model()"
   ]
  }
 ],
 "metadata": {
  "kernelspec": {
   "display_name": "Python 3",
   "language": "python",
   "name": "python3"
  },
  "language_info": {
   "codemirror_mode": {
    "name": "ipython",
    "version": 3
   },
   "file_extension": ".py",
   "mimetype": "text/x-python",
   "name": "python",
   "nbconvert_exporter": "python",
   "pygments_lexer": "ipython3",
   "version": "3.8.8"
  }
 },
 "nbformat": 4,
 "nbformat_minor": 5
}
