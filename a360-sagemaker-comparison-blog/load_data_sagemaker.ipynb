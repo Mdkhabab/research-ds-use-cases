{
 "cells": [
  {
   "cell_type": "markdown",
   "id": "f4c092af",
   "metadata": {},
   "source": [
    "# SageMaker"
   ]
  },
  {
   "cell_type": "code",
   "execution_count": null,
   "id": "3b0f841d",
   "metadata": {},
   "outputs": [],
   "source": [
    "import pandas as pd\n",
    "import boto3, re, sys, math, json, os, sagemaker, urllib.request\n",
    "from sagemaker import get_execution_role\n",
    "role = get_execution_role()"
   ]
  },
  {
   "cell_type": "markdown",
   "id": "1656ba01",
   "metadata": {},
   "source": [
    "## Load data from S3"
   ]
  },
  {
   "cell_type": "code",
   "execution_count": 38,
   "id": "33847981",
   "metadata": {},
   "outputs": [
    {
     "data": {
      "text/plain": [
       "'arn:aws:iam::190183093544:role/service-role/AmazonSageMaker-ExecutionRole-20220602T141236'"
      ]
     },
     "execution_count": 38,
     "metadata": {},
     "output_type": "execute_result"
    }
   ],
   "source": [
    "role"
   ]
  },
  {
   "cell_type": "code",
   "execution_count": 18,
   "id": "9d670d36",
   "metadata": {},
   "outputs": [],
   "source": [
    "session = boto3.Session()"
   ]
  },
  {
   "cell_type": "code",
   "execution_count": 19,
   "id": "ab02020b",
   "metadata": {},
   "outputs": [],
   "source": [
    "bucket='data-aman-use-case'  \n",
    "file_key = 'X.csv' \n",
    "  \n",
    "s3_client = boto3.client('s3')  \n",
    "obj = s3_client.get_object(Bucket=bucket, Key=file_key)  \n",
    "X = pd.read_csv(io.BytesIO(obj['Body'].read()))  "
   ]
  },
  {
   "cell_type": "code",
   "execution_count": 20,
   "id": "ea6a3c39",
   "metadata": {},
   "outputs": [],
   "source": [
    "bucket='data-aman-use-case'  \n",
    "file_key = 'y.csv' \n",
    "  \n",
    "s3_client = boto3.client('s3')  \n",
    "obj = s3_client.get_object(Bucket=bucket, Key=file_key)  \n",
    "y = pd.read_csv(io.BytesIO(obj['Body'].read()))  "
   ]
  }
 ],
 "metadata": {
  "kernelspec": {
   "display_name": "Python 3",
   "language": "python",
   "name": "python3"
  },
  "language_info": {
   "codemirror_mode": {
    "name": "ipython",
    "version": 3
   },
   "file_extension": ".py",
   "mimetype": "text/x-python",
   "name": "python",
   "nbconvert_exporter": "python",
   "pygments_lexer": "ipython3",
   "version": "3.8.8"
  }
 },
 "nbformat": 4,
 "nbformat_minor": 5
}
