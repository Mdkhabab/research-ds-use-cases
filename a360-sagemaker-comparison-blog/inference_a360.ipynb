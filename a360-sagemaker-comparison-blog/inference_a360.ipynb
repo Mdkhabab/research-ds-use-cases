{
 "cells": [
  {
   "cell_type": "markdown",
   "id": "80bcb0e4-81f4-4a02-b235-a7b84af328e8",
   "metadata": {},
   "source": [
    "# Inference "
   ]
  },
  {
   "cell_type": "markdown",
   "id": "66bc2220-dd74-437d-a881-f5d045a4ebce",
   "metadata": {},
   "source": [
    "## Test one data point"
   ]
  },
  {
   "cell_type": "code",
   "execution_count": 7,
   "id": "4707e2e6-ea40-4fab-8179-e575036aa70b",
   "metadata": {},
   "outputs": [],
   "source": [
    "url = \"https://qa-models.a360.ai/use-case-logistics-logistics-dt-1/\"\n",
    "with open('header.json') as json_file:\n",
    "    headers = json.load(json_file)"
   ]
  },
  {
   "cell_type": "code",
   "execution_count": 8,
   "id": "e2910e65-abbf-4f11-8c84-0d2d10e76547",
   "metadata": {},
   "outputs": [],
   "source": [
    "data = df.iloc[2]\n",
    "out = data.to_json() \n",
    "prediction = requests.post(url,data=out,headers=headers).text.split(':')[-1].split(\"}\")[0]"
   ]
  },
  {
   "cell_type": "code",
   "execution_count": 9,
   "id": "01ed6a4b-0d1b-4fe0-862a-9d9e272246dd",
   "metadata": {},
   "outputs": [
    {
     "data": {
      "text/plain": [
       "'1.0'"
      ]
     },
     "execution_count": 9,
     "metadata": {},
     "output_type": "execute_result"
    }
   ],
   "source": [
    "prediction"
   ]
  }
 ],
 "metadata": {
  "kernelspec": {
   "display_name": "Python 3",
   "language": "python",
   "name": "python3"
  },
  "language_info": {
   "codemirror_mode": {
    "name": "ipython",
    "version": 3
   },
   "file_extension": ".py",
   "mimetype": "text/x-python",
   "name": "python",
   "nbconvert_exporter": "python",
   "pygments_lexer": "ipython3",
   "version": "3.8.8"
  }
 },
 "nbformat": 4,
 "nbformat_minor": 5
}
