{
 "cells": [
  {
   "cell_type": "markdown",
   "id": "e08429ee",
   "metadata": {},
   "source": [
    "# 2.b Data Preprocessing and Feature Engineering (Sliding Window (Open))"
   ]
  },
  {
   "cell_type": "markdown",
   "id": "430d589e",
   "metadata": {},
   "source": [
    "### Import necessary Packages"
   ]
  },
  {
   "cell_type": "code",
   "execution_count": 369,
   "id": "1ad65991",
   "metadata": {},
   "outputs": [],
   "source": [
    "import numpy as np\n",
    "import math\n",
    "import pandas as pd\n",
    "from sklearn.preprocessing import MinMaxScaler\n",
    "from sklearn.model_selection import train_test_split\n",
    "import boto3 \n",
    "import io  \n",
    "from sagemaker import get_execution_role\n",
    "role = get_execution_role()\n",
    "# Library to suppress warnings or deprecation notes\n",
    "import warnings\n",
    "warnings.filterwarnings(\"ignore\")"
   ]
  },
  {
   "cell_type": "code",
   "execution_count": 370,
   "id": "c6c42f4b",
   "metadata": {},
   "outputs": [],
   "source": [
    "session = boto3.Session()"
   ]
  },
  {
   "cell_type": "code",
   "execution_count": 371,
   "id": "8f75b235",
   "metadata": {},
   "outputs": [
    {
     "data": {
      "text/plain": [
       "'arn:aws:iam::190183093544:role/service-role/AmazonSageMaker-ExecutionRole-20220602T141236'"
      ]
     },
     "execution_count": 371,
     "metadata": {},
     "output_type": "execute_result"
    }
   ],
   "source": [
    "role"
   ]
  },
  {
   "cell_type": "markdown",
   "id": "cef3b33d",
   "metadata": {},
   "source": [
    "### Getting Data from Yahoo Finance¶"
   ]
  },
  {
   "cell_type": "code",
   "execution_count": 372,
   "id": "2d7995e5",
   "metadata": {},
   "outputs": [],
   "source": [
    "btc = f'https://query1.finance.yahoo.com/v7/finance/download/BTC-USD?period1=1410912000&period2=1656633600&interval=1d&events=history&includeAdjustedClose=true'"
   ]
  },
  {
   "cell_type": "markdown",
   "id": "b8f295d0",
   "metadata": {},
   "source": [
    "### Load the Data"
   ]
  },
  {
   "cell_type": "code",
   "execution_count": 373,
   "id": "34fc3c13",
   "metadata": {},
   "outputs": [],
   "source": [
    "data= pd.read_csv(btc)\n"
   ]
  },
  {
   "cell_type": "markdown",
   "id": "b31bf26e",
   "metadata": {},
   "source": [
    "### Making new dataframe with requried features"
   ]
  },
  {
   "cell_type": "code",
   "execution_count": 374,
   "id": "15653017",
   "metadata": {},
   "outputs": [],
   "source": [
    "data = data[['Open']]"
   ]
  },
  {
   "cell_type": "code",
   "execution_count": 375,
   "id": "d4411f5b",
   "metadata": {},
   "outputs": [
    {
     "data": {
      "text/html": [
       "<div>\n",
       "<style scoped>\n",
       "    .dataframe tbody tr th:only-of-type {\n",
       "        vertical-align: middle;\n",
       "    }\n",
       "\n",
       "    .dataframe tbody tr th {\n",
       "        vertical-align: top;\n",
       "    }\n",
       "\n",
       "    .dataframe thead th {\n",
       "        text-align: right;\n",
       "    }\n",
       "</style>\n",
       "<table border=\"1\" class=\"dataframe\">\n",
       "  <thead>\n",
       "    <tr style=\"text-align: right;\">\n",
       "      <th></th>\n",
       "      <th>Open</th>\n",
       "    </tr>\n",
       "  </thead>\n",
       "  <tbody>\n",
       "    <tr>\n",
       "      <th>0</th>\n",
       "      <td>465.864014</td>\n",
       "    </tr>\n",
       "    <tr>\n",
       "      <th>1</th>\n",
       "      <td>456.859985</td>\n",
       "    </tr>\n",
       "    <tr>\n",
       "      <th>2</th>\n",
       "      <td>424.102997</td>\n",
       "    </tr>\n",
       "    <tr>\n",
       "      <th>3</th>\n",
       "      <td>394.673004</td>\n",
       "    </tr>\n",
       "    <tr>\n",
       "      <th>4</th>\n",
       "      <td>408.084991</td>\n",
       "    </tr>\n",
       "    <tr>\n",
       "      <th>...</th>\n",
       "      <td>...</td>\n",
       "    </tr>\n",
       "    <tr>\n",
       "      <th>2840</th>\n",
       "      <td>21028.238281</td>\n",
       "    </tr>\n",
       "    <tr>\n",
       "      <th>2841</th>\n",
       "      <td>20731.544922</td>\n",
       "    </tr>\n",
       "    <tr>\n",
       "      <th>2842</th>\n",
       "      <td>20281.169922</td>\n",
       "    </tr>\n",
       "    <tr>\n",
       "      <th>2843</th>\n",
       "      <td>20108.312500</td>\n",
       "    </tr>\n",
       "    <tr>\n",
       "      <th>2844</th>\n",
       "      <td>19820.470703</td>\n",
       "    </tr>\n",
       "  </tbody>\n",
       "</table>\n",
       "<p>2845 rows × 1 columns</p>\n",
       "</div>"
      ],
      "text/plain": [
       "              Open\n",
       "0       465.864014\n",
       "1       456.859985\n",
       "2       424.102997\n",
       "3       394.673004\n",
       "4       408.084991\n",
       "...            ...\n",
       "2840  21028.238281\n",
       "2841  20731.544922\n",
       "2842  20281.169922\n",
       "2843  20108.312500\n",
       "2844  19820.470703\n",
       "\n",
       "[2845 rows x 1 columns]"
      ]
     },
     "execution_count": 375,
     "metadata": {},
     "output_type": "execute_result"
    }
   ],
   "source": [
    "data"
   ]
  },
  {
   "cell_type": "code",
   "execution_count": 376,
   "id": "6d5c8d49",
   "metadata": {},
   "outputs": [
    {
     "data": {
      "text/plain": [
       "(2845, 1)"
      ]
     },
     "execution_count": 376,
     "metadata": {},
     "output_type": "execute_result"
    }
   ],
   "source": [
    "data.shape"
   ]
  },
  {
   "cell_type": "code",
   "execution_count": 377,
   "id": "cbe3702c",
   "metadata": {},
   "outputs": [
    {
     "data": {
      "text/html": [
       "<div>\n",
       "<style scoped>\n",
       "    .dataframe tbody tr th:only-of-type {\n",
       "        vertical-align: middle;\n",
       "    }\n",
       "\n",
       "    .dataframe tbody tr th {\n",
       "        vertical-align: top;\n",
       "    }\n",
       "\n",
       "    .dataframe thead th {\n",
       "        text-align: right;\n",
       "    }\n",
       "</style>\n",
       "<table border=\"1\" class=\"dataframe\">\n",
       "  <thead>\n",
       "    <tr style=\"text-align: right;\">\n",
       "      <th></th>\n",
       "      <th>Open</th>\n",
       "    </tr>\n",
       "  </thead>\n",
       "  <tbody>\n",
       "    <tr>\n",
       "      <th>0</th>\n",
       "      <td>465.864014</td>\n",
       "    </tr>\n",
       "    <tr>\n",
       "      <th>1</th>\n",
       "      <td>456.859985</td>\n",
       "    </tr>\n",
       "    <tr>\n",
       "      <th>2</th>\n",
       "      <td>424.102997</td>\n",
       "    </tr>\n",
       "    <tr>\n",
       "      <th>3</th>\n",
       "      <td>394.673004</td>\n",
       "    </tr>\n",
       "    <tr>\n",
       "      <th>4</th>\n",
       "      <td>408.084991</td>\n",
       "    </tr>\n",
       "  </tbody>\n",
       "</table>\n",
       "</div>"
      ],
      "text/plain": [
       "         Open\n",
       "0  465.864014\n",
       "1  456.859985\n",
       "2  424.102997\n",
       "3  394.673004\n",
       "4  408.084991"
      ]
     },
     "execution_count": 377,
     "metadata": {},
     "output_type": "execute_result"
    }
   ],
   "source": [
    "data.head()"
   ]
  },
  {
   "cell_type": "markdown",
   "id": "005ddead",
   "metadata": {},
   "source": [
    "### Creating a function for sliding window"
   ]
  },
  {
   "cell_type": "code",
   "execution_count": 378,
   "id": "6f1d0c78",
   "metadata": {},
   "outputs": [],
   "source": [
    "def mv_window(row, col, i_start_a, win_1, dataset):\n",
    "    import numpy as np\n",
    "    X = np.zeros((row, col))\n",
    "    for d in range(0,win_1):\n",
    "        for i in range(0,row):\n",
    "            X[i][d] = dataset['Open'][i+i_start_a+d]\n",
    "    return X"
   ]
  },
  {
   "cell_type": "code",
   "execution_count": 379,
   "id": "8437cbc3",
   "metadata": {},
   "outputs": [],
   "source": [
    "#selecting the window and size\n",
    "sliding=mv_window(2815, 30, 0, 30, data)"
   ]
  },
  {
   "cell_type": "code",
   "execution_count": 380,
   "id": "e0f00539",
   "metadata": {},
   "outputs": [],
   "source": [
    "sliding = pd.DataFrame(data=sliding)"
   ]
  },
  {
   "cell_type": "code",
   "execution_count": 381,
   "id": "24634263",
   "metadata": {},
   "outputs": [
    {
     "data": {
      "text/html": [
       "<div>\n",
       "<style scoped>\n",
       "    .dataframe tbody tr th:only-of-type {\n",
       "        vertical-align: middle;\n",
       "    }\n",
       "\n",
       "    .dataframe tbody tr th {\n",
       "        vertical-align: top;\n",
       "    }\n",
       "\n",
       "    .dataframe thead th {\n",
       "        text-align: right;\n",
       "    }\n",
       "</style>\n",
       "<table border=\"1\" class=\"dataframe\">\n",
       "  <thead>\n",
       "    <tr style=\"text-align: right;\">\n",
       "      <th></th>\n",
       "      <th>0</th>\n",
       "      <th>1</th>\n",
       "      <th>2</th>\n",
       "      <th>3</th>\n",
       "      <th>4</th>\n",
       "      <th>5</th>\n",
       "      <th>6</th>\n",
       "      <th>7</th>\n",
       "      <th>8</th>\n",
       "      <th>9</th>\n",
       "      <th>...</th>\n",
       "      <th>20</th>\n",
       "      <th>21</th>\n",
       "      <th>22</th>\n",
       "      <th>23</th>\n",
       "      <th>24</th>\n",
       "      <th>25</th>\n",
       "      <th>26</th>\n",
       "      <th>27</th>\n",
       "      <th>28</th>\n",
       "      <th>29</th>\n",
       "    </tr>\n",
       "  </thead>\n",
       "  <tbody>\n",
       "    <tr>\n",
       "      <th>2810</th>\n",
       "      <td>28622.625000</td>\n",
       "      <td>29019.867188</td>\n",
       "      <td>29443.365234</td>\n",
       "      <td>31723.865234</td>\n",
       "      <td>31792.554688</td>\n",
       "      <td>29794.890625</td>\n",
       "      <td>30467.806641</td>\n",
       "      <td>29706.138672</td>\n",
       "      <td>29835.117188</td>\n",
       "      <td>29910.283203</td>\n",
       "      <td>...</td>\n",
       "      <td>20385.718750</td>\n",
       "      <td>20473.425781</td>\n",
       "      <td>19010.902344</td>\n",
       "      <td>20553.371094</td>\n",
       "      <td>20594.294922</td>\n",
       "      <td>20719.414063</td>\n",
       "      <td>19986.607422</td>\n",
       "      <td>21084.648438</td>\n",
       "      <td>21233.609375</td>\n",
       "      <td>21496.494141</td>\n",
       "    </tr>\n",
       "    <tr>\n",
       "      <th>2811</th>\n",
       "      <td>29019.867188</td>\n",
       "      <td>29443.365234</td>\n",
       "      <td>31723.865234</td>\n",
       "      <td>31792.554688</td>\n",
       "      <td>29794.890625</td>\n",
       "      <td>30467.806641</td>\n",
       "      <td>29706.138672</td>\n",
       "      <td>29835.117188</td>\n",
       "      <td>29910.283203</td>\n",
       "      <td>31371.742188</td>\n",
       "      <td>...</td>\n",
       "      <td>20473.425781</td>\n",
       "      <td>19010.902344</td>\n",
       "      <td>20553.371094</td>\n",
       "      <td>20594.294922</td>\n",
       "      <td>20719.414063</td>\n",
       "      <td>19986.607422</td>\n",
       "      <td>21084.648438</td>\n",
       "      <td>21233.609375</td>\n",
       "      <td>21496.494141</td>\n",
       "      <td>21028.238281</td>\n",
       "    </tr>\n",
       "    <tr>\n",
       "      <th>2812</th>\n",
       "      <td>29443.365234</td>\n",
       "      <td>31723.865234</td>\n",
       "      <td>31792.554688</td>\n",
       "      <td>29794.890625</td>\n",
       "      <td>30467.806641</td>\n",
       "      <td>29706.138672</td>\n",
       "      <td>29835.117188</td>\n",
       "      <td>29910.283203</td>\n",
       "      <td>31371.742188</td>\n",
       "      <td>31151.480469</td>\n",
       "      <td>...</td>\n",
       "      <td>19010.902344</td>\n",
       "      <td>20553.371094</td>\n",
       "      <td>20594.294922</td>\n",
       "      <td>20719.414063</td>\n",
       "      <td>19986.607422</td>\n",
       "      <td>21084.648438</td>\n",
       "      <td>21233.609375</td>\n",
       "      <td>21496.494141</td>\n",
       "      <td>21028.238281</td>\n",
       "      <td>20731.544922</td>\n",
       "    </tr>\n",
       "    <tr>\n",
       "      <th>2813</th>\n",
       "      <td>31723.865234</td>\n",
       "      <td>31792.554688</td>\n",
       "      <td>29794.890625</td>\n",
       "      <td>30467.806641</td>\n",
       "      <td>29706.138672</td>\n",
       "      <td>29835.117188</td>\n",
       "      <td>29910.283203</td>\n",
       "      <td>31371.742188</td>\n",
       "      <td>31151.480469</td>\n",
       "      <td>30215.279297</td>\n",
       "      <td>...</td>\n",
       "      <td>20553.371094</td>\n",
       "      <td>20594.294922</td>\n",
       "      <td>20719.414063</td>\n",
       "      <td>19986.607422</td>\n",
       "      <td>21084.648438</td>\n",
       "      <td>21233.609375</td>\n",
       "      <td>21496.494141</td>\n",
       "      <td>21028.238281</td>\n",
       "      <td>20731.544922</td>\n",
       "      <td>20281.169922</td>\n",
       "    </tr>\n",
       "    <tr>\n",
       "      <th>2814</th>\n",
       "      <td>31792.554688</td>\n",
       "      <td>29794.890625</td>\n",
       "      <td>30467.806641</td>\n",
       "      <td>29706.138672</td>\n",
       "      <td>29835.117188</td>\n",
       "      <td>29910.283203</td>\n",
       "      <td>31371.742188</td>\n",
       "      <td>31151.480469</td>\n",
       "      <td>30215.279297</td>\n",
       "      <td>30110.330078</td>\n",
       "      <td>...</td>\n",
       "      <td>20594.294922</td>\n",
       "      <td>20719.414063</td>\n",
       "      <td>19986.607422</td>\n",
       "      <td>21084.648438</td>\n",
       "      <td>21233.609375</td>\n",
       "      <td>21496.494141</td>\n",
       "      <td>21028.238281</td>\n",
       "      <td>20731.544922</td>\n",
       "      <td>20281.169922</td>\n",
       "      <td>20108.312500</td>\n",
       "    </tr>\n",
       "  </tbody>\n",
       "</table>\n",
       "<p>5 rows × 30 columns</p>\n",
       "</div>"
      ],
      "text/plain": [
       "                0             1             2             3             4   \\\n",
       "2810  28622.625000  29019.867188  29443.365234  31723.865234  31792.554688   \n",
       "2811  29019.867188  29443.365234  31723.865234  31792.554688  29794.890625   \n",
       "2812  29443.365234  31723.865234  31792.554688  29794.890625  30467.806641   \n",
       "2813  31723.865234  31792.554688  29794.890625  30467.806641  29706.138672   \n",
       "2814  31792.554688  29794.890625  30467.806641  29706.138672  29835.117188   \n",
       "\n",
       "                5             6             7             8             9   \\\n",
       "2810  29794.890625  30467.806641  29706.138672  29835.117188  29910.283203   \n",
       "2811  30467.806641  29706.138672  29835.117188  29910.283203  31371.742188   \n",
       "2812  29706.138672  29835.117188  29910.283203  31371.742188  31151.480469   \n",
       "2813  29835.117188  29910.283203  31371.742188  31151.480469  30215.279297   \n",
       "2814  29910.283203  31371.742188  31151.480469  30215.279297  30110.330078   \n",
       "\n",
       "      ...            20            21            22            23  \\\n",
       "2810  ...  20385.718750  20473.425781  19010.902344  20553.371094   \n",
       "2811  ...  20473.425781  19010.902344  20553.371094  20594.294922   \n",
       "2812  ...  19010.902344  20553.371094  20594.294922  20719.414063   \n",
       "2813  ...  20553.371094  20594.294922  20719.414063  19986.607422   \n",
       "2814  ...  20594.294922  20719.414063  19986.607422  21084.648438   \n",
       "\n",
       "                24            25            26            27            28  \\\n",
       "2810  20594.294922  20719.414063  19986.607422  21084.648438  21233.609375   \n",
       "2811  20719.414063  19986.607422  21084.648438  21233.609375  21496.494141   \n",
       "2812  19986.607422  21084.648438  21233.609375  21496.494141  21028.238281   \n",
       "2813  21084.648438  21233.609375  21496.494141  21028.238281  20731.544922   \n",
       "2814  21233.609375  21496.494141  21028.238281  20731.544922  20281.169922   \n",
       "\n",
       "                29  \n",
       "2810  21496.494141  \n",
       "2811  21028.238281  \n",
       "2812  20731.544922  \n",
       "2813  20281.169922  \n",
       "2814  20108.312500  \n",
       "\n",
       "[5 rows x 30 columns]"
      ]
     },
     "execution_count": 381,
     "metadata": {},
     "output_type": "execute_result"
    }
   ],
   "source": [
    "sliding.tail()"
   ]
  },
  {
   "cell_type": "code",
   "execution_count": 382,
   "id": "eb05feeb",
   "metadata": {},
   "outputs": [],
   "source": [
    "#since first 30 get ommited\n",
    "y=data[\"Open\"][30:]"
   ]
  },
  {
   "cell_type": "code",
   "execution_count": 383,
   "id": "0fb80f5e",
   "metadata": {},
   "outputs": [],
   "source": [
    "y=pd.DataFrame(y)"
   ]
  },
  {
   "cell_type": "markdown",
   "id": "20642693",
   "metadata": {},
   "source": [
    "### Splitting the last 30 days as the validation set"
   ]
  },
  {
   "cell_type": "code",
   "execution_count": 384,
   "id": "8807e590",
   "metadata": {},
   "outputs": [],
   "source": [
    "y_val = y[2785:]"
   ]
  },
  {
   "cell_type": "code",
   "execution_count": 385,
   "id": "3cd58638",
   "metadata": {},
   "outputs": [],
   "source": [
    "X_val=sliding[2785:]"
   ]
  },
  {
   "cell_type": "code",
   "execution_count": 386,
   "id": "9a9c461e",
   "metadata": {},
   "outputs": [],
   "source": [
    "#last 30 get ommited as they are the validation set\n",
    "X=sliding[:2785]\n",
    "y1=y[:2785]"
   ]
  },
  {
   "cell_type": "markdown",
   "id": "0df214f3",
   "metadata": {},
   "source": [
    "### Split Data to prepare train and test set"
   ]
  },
  {
   "cell_type": "code",
   "execution_count": 387,
   "id": "74eb6385",
   "metadata": {},
   "outputs": [],
   "source": [
    "X_train, X_test, y_train, y_test = train_test_split(\n",
    "    X, y1, test_size=0.30, random_state=1\n",
    ")"
   ]
  },
  {
   "cell_type": "code",
   "execution_count": 388,
   "id": "4a6bc8d5",
   "metadata": {},
   "outputs": [
    {
     "name": "stdout",
     "output_type": "stream",
     "text": [
      "Shape of Training set :  (1949, 30)\n",
      "Shape of test set :  (836, 30)\n"
     ]
    }
   ],
   "source": [
    "print(\"Shape of Training set : \", X_train.shape)\n",
    "print(\"Shape of test set : \", X_test.shape)"
   ]
  },
  {
   "cell_type": "markdown",
   "id": "b8e93bfc",
   "metadata": {},
   "source": [
    "### Export Data for Model Training"
   ]
  },
  {
   "cell_type": "code",
   "execution_count": 389,
   "id": "7b29c353",
   "metadata": {},
   "outputs": [],
   "source": [
    "#for method 1\n",
    "np.save(\"X_train.npy\", X_train)\n",
    "np.save(\"y_train.npy\", y_train)\n",
    "np.save(\"X_test.npy\", X_test)\n",
    "np.save(\"y_test.npy\", y_test)\n",
    "np.save(\"X_val.npy\", X_val)\n",
    "np.save(\"y_val.npy\", y_val)"
   ]
  },
  {
   "cell_type": "code",
   "execution_count": 390,
   "id": "69d7c5cc",
   "metadata": {},
   "outputs": [
    {
     "name": "stdout",
     "output_type": "stream",
     "text": [
      "None\n"
     ]
    }
   ],
   "source": [
    "s3 = session.resource('s3') \n",
    "local_path = 'X_train.npy' \n",
    "s3_filename =  'X_train.npy' \n",
    "result = s3.Bucket('data-use-case-btc-prediction').upload_file(local_path,s3_filename)  \n",
    "print(result)"
   ]
  },
  {
   "cell_type": "code",
   "execution_count": 391,
   "id": "28ea6c4c",
   "metadata": {},
   "outputs": [
    {
     "name": "stdout",
     "output_type": "stream",
     "text": [
      "None\n"
     ]
    }
   ],
   "source": [
    "s3 = session.resource('s3') \n",
    "local_path = 'y_train.npy' \n",
    "s3_filename =  'y_train.npy' \n",
    "result = s3.Bucket('data-use-case-btc-prediction').upload_file(local_path,s3_filename)  \n",
    "print(result)"
   ]
  },
  {
   "cell_type": "code",
   "execution_count": 392,
   "id": "2c91cb7b",
   "metadata": {},
   "outputs": [
    {
     "name": "stdout",
     "output_type": "stream",
     "text": [
      "None\n"
     ]
    }
   ],
   "source": [
    "s3 = session.resource('s3') \n",
    "local_path = 'X_test.npy' \n",
    "s3_filename =  'X_test.npy' \n",
    "result = s3.Bucket('data-use-case-btc-prediction').upload_file(local_path,s3_filename)  \n",
    "print(result)"
   ]
  },
  {
   "cell_type": "code",
   "execution_count": 393,
   "id": "76945933",
   "metadata": {},
   "outputs": [
    {
     "name": "stdout",
     "output_type": "stream",
     "text": [
      "None\n"
     ]
    }
   ],
   "source": [
    "s3 = session.resource('s3') \n",
    "local_path = 'y_test.npy' \n",
    "s3_filename =  'y_test.npy' \n",
    "result = s3.Bucket('data-use-case-btc-prediction').upload_file(local_path,s3_filename)  \n",
    "print(result)"
   ]
  },
  {
   "cell_type": "code",
   "execution_count": 394,
   "id": "8c251dc7",
   "metadata": {},
   "outputs": [
    {
     "name": "stdout",
     "output_type": "stream",
     "text": [
      "None\n"
     ]
    }
   ],
   "source": [
    "s3 = session.resource('s3') \n",
    "local_path = 'X_val.npy' \n",
    "s3_filename =  'X_val.npy' \n",
    "result = s3.Bucket('data-use-case-btc-prediction').upload_file(local_path,s3_filename)  \n",
    "print(result)"
   ]
  },
  {
   "cell_type": "code",
   "execution_count": 395,
   "id": "569839cf",
   "metadata": {},
   "outputs": [
    {
     "name": "stdout",
     "output_type": "stream",
     "text": [
      "None\n"
     ]
    }
   ],
   "source": [
    "s3 = session.resource('s3') \n",
    "local_path = 'y_val.npy' \n",
    "s3_filename =  'y_val.npy' \n",
    "result = s3.Bucket('data-use-case-btc-prediction').upload_file(local_path,s3_filename)  \n",
    "print(result)"
   ]
  }
 ],
 "metadata": {
  "kernelspec": {
   "display_name": "conda_python3",
   "language": "python",
   "name": "conda_python3"
  },
  "language_info": {
   "codemirror_mode": {
    "name": "ipython",
    "version": 3
   },
   "file_extension": ".py",
   "mimetype": "text/x-python",
   "name": "python",
   "nbconvert_exporter": "python",
   "pygments_lexer": "ipython3",
   "version": "3.8.12"
  }
 },
 "nbformat": 4,
 "nbformat_minor": 5
}
