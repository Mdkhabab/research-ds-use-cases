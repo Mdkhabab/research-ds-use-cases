{
 "cells": [
  {
   "cell_type": "markdown",
   "id": "27cf1c5a",
   "metadata": {},
   "source": [
    "# 3.a Model Development (Close)"
   ]
  },
  {
   "cell_type": "code",
   "execution_count": 22,
   "id": "5f4668ca",
   "metadata": {},
   "outputs": [],
   "source": [
    "import numpy as np\n",
    "import math\n",
    "import pandas as pd\n",
    "from sklearn.preprocessing import MinMaxScaler\n",
    "import matplotlib.pyplot as plt\n",
    "import seaborn as sns\n",
    "from sklearn.model_selection import train_test_split\n",
    "import boto3 \n",
    "import io  \n",
    "from sagemaker import get_execution_role\n",
    "role = get_execution_role()\n",
    "import tensorflow as tf\n",
    "from tensorflow import keras\n",
    "from tensorflow.keras import layers"
   ]
  },
  {
   "cell_type": "code",
   "execution_count": 23,
   "id": "37c430db",
   "metadata": {},
   "outputs": [
    {
     "data": {
      "text/plain": [
       "'arn:aws:iam::190183093544:role/service-role/AmazonSageMaker-ExecutionRole-20220602T141236'"
      ]
     },
     "execution_count": 23,
     "metadata": {},
     "output_type": "execute_result"
    }
   ],
   "source": [
    "role"
   ]
  },
  {
   "cell_type": "code",
   "execution_count": 24,
   "id": "db72077a",
   "metadata": {},
   "outputs": [],
   "source": [
    "session = boto3.Session()"
   ]
  },
  {
   "cell_type": "markdown",
   "id": "da895599",
   "metadata": {},
   "source": [
    "### Load the Data from S3"
   ]
  },
  {
   "cell_type": "code",
   "execution_count": 26,
   "id": "3a030259",
   "metadata": {},
   "outputs": [],
   "source": [
    "bucket='data-aman-use-case'  \n",
    "file_key = 'x_train_close.npy' \n",
    "  \n",
    "s3_client = boto3.client('s3')  \n",
    "obj = s3_client.get_object(Bucket=bucket, Key=file_key)  \n",
    "x_train_close = np.load(io.BytesIO(obj['Body'].read()))  "
   ]
  },
  {
   "cell_type": "code",
   "execution_count": 29,
   "id": "5f9567ef",
   "metadata": {},
   "outputs": [],
   "source": [
    "bucket='data-aman-use-case'  \n",
    "file_key = 'x_test_close.npy' \n",
    "  \n",
    "s3_client = boto3.client('s3')  \n",
    "obj = s3_client.get_object(Bucket=bucket, Key=file_key)  \n",
    "x_test_close = np.load(io.BytesIO(obj['Body'].read()))  "
   ]
  },
  {
   "cell_type": "code",
   "execution_count": 30,
   "id": "d1d39eda",
   "metadata": {},
   "outputs": [],
   "source": [
    "bucket='data-aman-use-case'  \n",
    "file_key = 'y_train_close.npy' \n",
    "  \n",
    "s3_client = boto3.client('s3')  \n",
    "obj = s3_client.get_object(Bucket=bucket, Key=file_key)  \n",
    "y_train_close = np.load(io.BytesIO(obj['Body'].read()))  "
   ]
  },
  {
   "cell_type": "code",
   "execution_count": 31,
   "id": "0d3623fe",
   "metadata": {},
   "outputs": [],
   "source": [
    "bucket='data-aman-use-case'  \n",
    "file_key = 'y_test_close.npy' \n",
    "  \n",
    "s3_client = boto3.client('s3')  \n",
    "obj = s3_client.get_object(Bucket=bucket, Key=file_key)  \n",
    "y_test_close = np.load(io.BytesIO(obj['Body'].read()))  "
   ]
  },
  {
   "cell_type": "markdown",
   "id": "0cd06533",
   "metadata": {},
   "source": [
    "### Building the LSTM RNN Model for close prices"
   ]
  },
  {
   "cell_type": "code",
   "execution_count": 32,
   "id": "33f09c36",
   "metadata": {},
   "outputs": [
    {
     "name": "stdout",
     "output_type": "stream",
     "text": [
      "Model: \"sequential_1\"\n",
      "_________________________________________________________________\n",
      "Layer (type)                 Output Shape              Param #   \n",
      "=================================================================\n",
      "lstm_2 (LSTM)                (None, 60, 100)           40800     \n",
      "_________________________________________________________________\n",
      "lstm_3 (LSTM)                (None, 100)               80400     \n",
      "_________________________________________________________________\n",
      "dense_2 (Dense)              (None, 25)                2525      \n",
      "_________________________________________________________________\n",
      "dense_3 (Dense)              (None, 1)                 26        \n",
      "=================================================================\n",
      "Total params: 123,751\n",
      "Trainable params: 123,751\n",
      "Non-trainable params: 0\n",
      "_________________________________________________________________\n"
     ]
    }
   ],
   "source": [
    "model = keras.Sequential()\n",
    "model.add(layers.LSTM(100, return_sequences=True, input_shape=(x_train_close.shape[1], 1)))\n",
    "model.add(layers.LSTM(100, return_sequences=False))\n",
    "model.add(layers.Dense(25))\n",
    "model.add(layers.Dense(1))\n",
    "model.summary()"
   ]
  },
  {
   "cell_type": "markdown",
   "id": "6a8d8a29",
   "metadata": {},
   "source": [
    "### Compiling and fitting the LSTM RNN Model"
   ]
  },
  {
   "cell_type": "code",
   "execution_count": 19,
   "id": "2be3414d",
   "metadata": {},
   "outputs": [
    {
     "name": "stdout",
     "output_type": "stream",
     "text": [
      "Epoch 1/20\n",
      "2216/2216 [==============================] - 69s 31ms/step - loss: 1.8930e-04\n",
      "Epoch 2/20\n",
      "2216/2216 [==============================] - 67s 30ms/step - loss: 9.0390e-05\n",
      "Epoch 3/20\n",
      "2216/2216 [==============================] - 68s 31ms/step - loss: 7.4484e-05\n",
      "Epoch 4/20\n",
      "2216/2216 [==============================] - 80s 36ms/step - loss: 7.0842e-05\n",
      "Epoch 5/20\n",
      "2216/2216 [==============================] - 86s 39ms/step - loss: 5.3213e-05\n",
      "Epoch 6/20\n",
      "2216/2216 [==============================] - 87s 39ms/step - loss: 4.7495e-05\n",
      "Epoch 7/20\n",
      "2216/2216 [==============================] - 88s 40ms/step - loss: 4.7693e-05\n",
      "Epoch 8/20\n",
      "2216/2216 [==============================] - 88s 40ms/step - loss: 4.9415e-05\n",
      "Epoch 9/20\n",
      "2216/2216 [==============================] - 89s 40ms/step - loss: 4.9452e-05\n",
      "Epoch 10/20\n",
      "2216/2216 [==============================] - 91s 41ms/step - loss: 4.4105e-05\n",
      "Epoch 11/20\n",
      "2216/2216 [==============================] - 90s 41ms/step - loss: 4.2248e-05\n",
      "Epoch 12/20\n",
      "2216/2216 [==============================] - 92s 42ms/step - loss: 4.1901e-05\n",
      "Epoch 13/20\n",
      "2216/2216 [==============================] - 90s 40ms/step - loss: 4.6544e-05\n",
      "Epoch 14/20\n",
      "2216/2216 [==============================] - 89s 40ms/step - loss: 4.2634e-05\n",
      "Epoch 15/20\n",
      "2216/2216 [==============================] - 89s 40ms/step - loss: 3.9134e-05\n",
      "Epoch 16/20\n",
      "2216/2216 [==============================] - 88s 40ms/step - loss: 3.8510e-05\n",
      "Epoch 17/20\n",
      "2216/2216 [==============================] - 87s 39ms/step - loss: 3.7633e-05\n",
      "Epoch 18/20\n",
      "2216/2216 [==============================] - 87s 39ms/step - loss: 3.7363e-05\n",
      "Epoch 19/20\n",
      "2216/2216 [==============================] - 86s 39ms/step - loss: 3.7325e-05\n",
      "Epoch 20/20\n",
      "2216/2216 [==============================] - 87s 39ms/step - loss: 3.3070e-05\n"
     ]
    },
    {
     "data": {
      "text/plain": [
       "<tensorflow.python.keras.callbacks.History at 0x7fab80254518>"
      ]
     },
     "execution_count": 19,
     "metadata": {},
     "output_type": "execute_result"
    }
   ],
   "source": [
    "model.compile(optimizer='adam', loss='mean_squared_error')\n",
    "model.fit(x_train_close, y_train_close, batch_size= 1, epochs=20)"
   ]
  },
  {
   "cell_type": "markdown",
   "id": "5281b192",
   "metadata": {},
   "source": [
    "### Making predictions and looking at the RMSE"
   ]
  },
  {
   "cell_type": "code",
   "execution_count": 20,
   "id": "c5486fb1",
   "metadata": {},
   "outputs": [
    {
     "data": {
      "text/plain": [
       "8790.574030061509"
      ]
     },
     "execution_count": 20,
     "metadata": {},
     "output_type": "execute_result"
    }
   ],
   "source": [
    "predictions = model.predict(x_test_close)\n",
    "predictions = scaler.inverse_transform(predictions)\n",
    "rmse = np.sqrt(np.mean(predictions - y_test_close)**2)\n",
    "rmse"
   ]
  },
  {
   "cell_type": "markdown",
   "id": "5a69ab0e",
   "metadata": {},
   "source": [
    "### Visualizing model performance"
   ]
  },
  {
   "cell_type": "code",
   "execution_count": 21,
   "id": "c41d3628",
   "metadata": {},
   "outputs": [
    {
     "name": "stderr",
     "output_type": "stream",
     "text": [
      "/home/ec2-user/anaconda3/envs/amazonei_tensorflow2_p36/lib/python3.6/site-packages/ipykernel/__main__.py:4: SettingWithCopyWarning: \n",
      "A value is trying to be set on a copy of a slice from a DataFrame.\n",
      "Try using .loc[row_indexer,col_indexer] = value instead\n",
      "\n",
      "See the caveats in the documentation: https://pandas.pydata.org/pandas-docs/stable/user_guide/indexing.html#returning-a-view-versus-a-copy\n"
     ]
    },
    {
     "data": {
      "image/png": "[encoded data removed]",
      "text/plain": [
       "<Figure size 1152x576 with 1 Axes>"
      ]
     },
     "metadata": {
      "needs_background": "light"
     },
     "output_type": "display_data"
    }
   ],
   "source": [
    "data = data.filter(['Close'])\n",
    "train = data[:training_data_len_close]\n",
    "validation = data[training_data_len_close:]\n",
    "validation['Predictions'] = predictions\n",
    "plt.figure(figsize=(16,8))\n",
    "plt.title('Model')\n",
    "plt.xlabel('Date')\n",
    "plt.ylabel('Close Price USD ($)')\n",
    "plt.plot(train)\n",
    "plt.plot(validation[['Close', 'Predictions']])\n",
    "plt.legend(['Train', 'Val', 'Predictions'], loc='lower right')\n",
    "plt.show()"
   ]
  }
 ],
 "metadata": {
  "kernelspec": {
   "display_name": "conda_amazonei_tensorflow2_p36",
   "language": "python",
   "name": "conda_amazonei_tensorflow2_p36"
  },
  "language_info": {
   "codemirror_mode": {
    "name": "ipython",
    "version": 3
   },
   "file_extension": ".py",
   "mimetype": "text/x-python",
   "name": "python",
   "nbconvert_exporter": "python",
   "pygments_lexer": "ipython3",
   "version": "3.6.13"
  }
 },
 "nbformat": 4,
 "nbformat_minor": 5
}
