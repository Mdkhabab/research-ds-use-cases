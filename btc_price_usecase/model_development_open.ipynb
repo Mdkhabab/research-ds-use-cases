{
 "cells": [
  {
   "cell_type": "markdown",
   "id": "7fa112b7",
   "metadata": {},
   "source": [
    "# 3.b Model Development (Open)"
   ]
  },
  {
   "cell_type": "code",
   "execution_count": 1,
   "id": "d53d9b56",
   "metadata": {},
   "outputs": [],
   "source": [
    "import numpy as np\n",
    "import math\n",
    "import pandas as pd\n",
    "from sklearn.preprocessing import MinMaxScaler\n",
    "import matplotlib.pyplot as plt\n",
    "import seaborn as sns\n",
    "from sklearn.model_selection import train_test_split\n",
    "import boto3 \n",
    "import io  \n",
    "from sagemaker import get_execution_role\n",
    "role = get_execution_role()\n",
    "import tensorflow as tf\n",
    "from tensorflow import keras\n",
    "from tensorflow.keras import layers"
   ]
  },
  {
   "cell_type": "code",
   "execution_count": 2,
   "id": "e24a7754",
   "metadata": {},
   "outputs": [
    {
     "data": {
      "text/plain": [
       "'arn:aws:iam::190183093544:role/service-role/AmazonSageMaker-ExecutionRole-20220602T141236'"
      ]
     },
     "execution_count": 2,
     "metadata": {},
     "output_type": "execute_result"
    }
   ],
   "source": [
    "role"
   ]
  },
  {
   "cell_type": "code",
   "execution_count": 3,
   "id": "668bc36c",
   "metadata": {},
   "outputs": [],
   "source": [
    "session = boto3.Session()"
   ]
  },
  {
   "cell_type": "markdown",
   "id": "8b1fde77",
   "metadata": {},
   "source": [
    "### Load the Data from S3"
   ]
  },
  {
   "cell_type": "code",
   "execution_count": 4,
   "id": "f07932c0",
   "metadata": {},
   "outputs": [
    {
     "name": "stderr",
     "output_type": "stream",
     "text": [
      "/home/ec2-user/anaconda3/envs/amazonei_tensorflow2_p36/lib/python3.6/site-packages/boto3/compat.py:88: PythonDeprecationWarning: Boto3 will no longer support Python 3.6 starting May 30, 2022. To continue receiving service updates, bug fixes, and security updates please upgrade to Python 3.7 or later. More information can be found here: https://aws.amazon.com/blogs/developer/python-support-policy-updates-for-aws-sdks-and-tools/\n",
      "  warnings.warn(warning, PythonDeprecationWarning)\n"
     ]
    }
   ],
   "source": [
    "bucket='data-aman-use-case'  \n",
    "file_key = 'x_train_open.npy' \n",
    "  \n",
    "s3_client = boto3.client('s3')  \n",
    "obj = s3_client.get_object(Bucket=bucket, Key=file_key)  \n",
    "x_train_open = np.load(io.BytesIO(obj['Body'].read()))  "
   ]
  },
  {
   "cell_type": "code",
   "execution_count": 5,
   "id": "8d9de4f2",
   "metadata": {},
   "outputs": [],
   "source": [
    "bucket='data-aman-use-case'  \n",
    "file_key = 'x_test_open.npy' \n",
    "  \n",
    "s3_client = boto3.client('s3')  \n",
    "obj = s3_client.get_object(Bucket=bucket, Key=file_key)  \n",
    "x_test_open = np.load(io.BytesIO(obj['Body'].read()))  "
   ]
  },
  {
   "cell_type": "code",
   "execution_count": 6,
   "id": "36befe77",
   "metadata": {},
   "outputs": [],
   "source": [
    "bucket='data-aman-use-case'  \n",
    "file_key = 'y_train_open.npy' \n",
    "  \n",
    "s3_client = boto3.client('s3')  \n",
    "obj = s3_client.get_object(Bucket=bucket, Key=file_key)  \n",
    "y_train_open = np.load(io.BytesIO(obj['Body'].read()))  "
   ]
  },
  {
   "cell_type": "code",
   "execution_count": 7,
   "id": "5296668d",
   "metadata": {},
   "outputs": [],
   "source": [
    "bucket='data-aman-use-case'  \n",
    "file_key = 'y_test_open.npy' \n",
    "  \n",
    "s3_client = boto3.client('s3')  \n",
    "obj = s3_client.get_object(Bucket=bucket, Key=file_key)  \n",
    "y_test_open = np.load(io.BytesIO(obj['Body'].read()))  "
   ]
  },
  {
   "cell_type": "markdown",
   "id": "620f2d29",
   "metadata": {},
   "source": [
    "### Building the LSTM RNN Model"
   ]
  },
  {
   "cell_type": "code",
   "execution_count": 8,
   "id": "7cdc082f",
   "metadata": {},
   "outputs": [
    {
     "name": "stdout",
     "output_type": "stream",
     "text": [
      "Model: \"sequential\"\n",
      "_________________________________________________________________\n",
      "Layer (type)                 Output Shape              Param #   \n",
      "=================================================================\n",
      "lstm (LSTM)                  (None, 60, 100)           40800     \n",
      "_________________________________________________________________\n",
      "lstm_1 (LSTM)                (None, 100)               80400     \n",
      "_________________________________________________________________\n",
      "dense (Dense)                (None, 25)                2525      \n",
      "_________________________________________________________________\n",
      "dense_1 (Dense)              (None, 1)                 26        \n",
      "=================================================================\n",
      "Total params: 123,751\n",
      "Trainable params: 123,751\n",
      "Non-trainable params: 0\n",
      "_________________________________________________________________\n"
     ]
    }
   ],
   "source": [
    "model = keras.Sequential()\n",
    "model.add(layers.LSTM(100, return_sequences=True, input_shape=(x_train_open.shape[1], 1)))\n",
    "model.add(layers.LSTM(100, return_sequences=False))\n",
    "model.add(layers.Dense(25))\n",
    "model.add(layers.Dense(1))\n",
    "model.summary()"
   ]
  },
  {
   "cell_type": "code",
   "execution_count": 9,
   "id": "a484fd5c",
   "metadata": {},
   "outputs": [
    {
     "name": "stdout",
     "output_type": "stream",
     "text": [
      "Epoch 1/12\n",
      "2216/2216 [==============================] - 68s 31ms/step - loss: 2.1025e-04\n",
      "Epoch 2/12\n",
      "2216/2216 [==============================] - 69s 31ms/step - loss: 8.6258e-05\n",
      "Epoch 3/12\n",
      "2216/2216 [==============================] - 67s 30ms/step - loss: 8.1022e-05\n",
      "Epoch 4/12\n",
      "2216/2216 [==============================] - 68s 31ms/step - loss: 6.4587e-05\n",
      "Epoch 5/12\n",
      "2216/2216 [==============================] - 66s 30ms/step - loss: 6.0659e-05\n",
      "Epoch 6/12\n",
      "2216/2216 [==============================] - 65s 30ms/step - loss: 4.9606e-05\n",
      "Epoch 7/12\n",
      "2216/2216 [==============================] - 71s 32ms/step - loss: 4.8595e-05\n",
      "Epoch 8/12\n",
      "2216/2216 [==============================] - 70s 32ms/step - loss: 4.5203e-05\n",
      "Epoch 9/12\n",
      "2216/2216 [==============================] - 66s 30ms/step - loss: 4.4573e-05\n",
      "Epoch 10/12\n",
      "2216/2216 [==============================] - 70s 32ms/step - loss: 4.4526e-05\n",
      "Epoch 11/12\n",
      "2216/2216 [==============================] - 70s 32ms/step - loss: 4.4603e-05\n",
      "Epoch 12/12\n",
      "2216/2216 [==============================] - 68s 31ms/step - loss: 4.1043e-05\n"
     ]
    },
    {
     "data": {
      "text/plain": [
       "<tensorflow.python.keras.callbacks.History at 0x7f0e94694b70>"
      ]
     },
     "execution_count": 9,
     "metadata": {},
     "output_type": "execute_result"
    }
   ],
   "source": [
    "model.compile(optimizer='adam', loss='mean_squared_error')\n",
    "model.fit(x_train_open, y_train_open, batch_size= 1, epochs=12)"
   ]
  },
  {
   "cell_type": "markdown",
   "id": "38342bfc",
   "metadata": {},
   "source": [
    "### Scaling values in local env"
   ]
  },
  {
   "cell_type": "code",
   "execution_count": 16,
   "id": "241d004f",
   "metadata": {},
   "outputs": [],
   "source": [
    "btc = f'https://query1.finance.yahoo.com/v7/finance/download/BTC-USD?period1=1410912000&period2=1656633600&interval=1d&events=history&includeAdjustedClose=true'"
   ]
  },
  {
   "cell_type": "code",
   "execution_count": 17,
   "id": "1a1f49cb",
   "metadata": {},
   "outputs": [],
   "source": [
    "data= pd.read_csv(btc, parse_dates=['Date'], index_col=['Date'])"
   ]
  },
  {
   "cell_type": "code",
   "execution_count": 19,
   "id": "e6a24429",
   "metadata": {},
   "outputs": [],
   "source": [
    "open_prices = data['Open']\n",
    "values_open = open_prices.values\n",
    "training_data_len_open = math.ceil(len(values_open)* 0.8)\n",
    "\n",
    "scaler = MinMaxScaler(feature_range=(0,1))\n",
    "scaled_data_open = scaler.fit_transform(values_open.reshape(-1, 1))\n",
    "train_data_open = scaled_data_open[0: training_data_len_open, :]\n",
    "\n",
    "x_train_open = []\n",
    "y_train_open = []\n",
    "\n",
    "for i in range(60, len(train_data_open)):\n",
    "    x_train_open.append(train_data_open[i-60:i, 0])\n",
    "    y_train_open.append(train_data_open[i, 0])\n",
    "x_train_open, y_train_open = np.array(x_train_open), np.array(y_train_open)\n",
    "x_train_open = np.reshape(x_train_open, (x_train_open.shape[0], x_train_open.shape[1], 1))"
   ]
  },
  {
   "cell_type": "code",
   "execution_count": 20,
   "id": "f9cf00f6",
   "metadata": {},
   "outputs": [],
   "source": [
    "test_data_open= scaled_data_open[training_data_len_open-60: , : ]\n",
    "x_test_open = []\n",
    "y_test_open = values_open[training_data_len_open:]\n",
    "\n",
    "for i in range(60, len(test_data_open)):\n",
    "    x_test_open.append(test_data_open[i-60:i, 0])\n",
    "\n",
    "x_test_open = np.array(x_test_open)\n",
    "x_test_open = np.reshape(x_test_open, (x_test_open.shape[0], x_test_open.shape[1], 1))"
   ]
  },
  {
   "cell_type": "markdown",
   "id": "0d066f54",
   "metadata": {},
   "source": [
    "### Making predictions and looking at the RMSE"
   ]
  },
  {
   "cell_type": "code",
   "execution_count": 21,
   "id": "cbc0342d",
   "metadata": {},
   "outputs": [
    {
     "data": {
      "text/plain": [
       "3010.8376058539097"
      ]
     },
     "execution_count": 21,
     "metadata": {},
     "output_type": "execute_result"
    }
   ],
   "source": [
    "predictions = model.predict(x_test_open)\n",
    "predictions = scaler.inverse_transform(predictions)\n",
    "rmse = np.sqrt(np.mean(predictions - y_test_open)**2)\n",
    "rmse"
   ]
  },
  {
   "cell_type": "markdown",
   "id": "f6033f45",
   "metadata": {},
   "source": [
    "### Visualizing model performance"
   ]
  },
  {
   "cell_type": "code",
   "execution_count": 22,
   "id": "f7ef7421",
   "metadata": {},
   "outputs": [
    {
     "name": "stderr",
     "output_type": "stream",
     "text": [
      "/home/ec2-user/anaconda3/envs/amazonei_tensorflow2_p36/lib/python3.6/site-packages/ipykernel/__main__.py:4: SettingWithCopyWarning: \n",
      "A value is trying to be set on a copy of a slice from a DataFrame.\n",
      "Try using .loc[row_indexer,col_indexer] = value instead\n",
      "\n",
      "See the caveats in the documentation: https://pandas.pydata.org/pandas-docs/stable/user_guide/indexing.html#returning-a-view-versus-a-copy\n"
     ]
    },
    {
     "data": {
      "image/png": "[encoded data removed]",
      "text/plain": [
       "<Figure size 1152x576 with 1 Axes>"
      ]
     },
     "metadata": {
      "needs_background": "light"
     },
     "output_type": "display_data"
    }
   ],
   "source": [
    "data = data.filter(['Open'])\n",
    "train = data[:training_data_len_open]\n",
    "validation = data[training_data_len_open:]\n",
    "validation['Predictions'] = predictions\n",
    "plt.figure(figsize=(16,8))\n",
    "plt.title('Model')\n",
    "plt.xlabel('Date')\n",
    "plt.ylabel('Open Price USD ($)')\n",
    "plt.plot(train)\n",
    "plt.plot(validation[['Open', 'Predictions']])\n",
    "plt.legend(['Train', 'Val', 'Predictions'], loc='lower right')\n",
    "plt.show()"
   ]
  }
 ],
 "metadata": {
  "kernelspec": {
   "display_name": "conda_amazonei_tensorflow2_p36",
   "language": "python",
   "name": "conda_amazonei_tensorflow2_p36"
  },
  "language_info": {
   "codemirror_mode": {
    "name": "ipython",
    "version": 3
   },
   "file_extension": ".py",
   "mimetype": "text/x-python",
   "name": "python",
   "nbconvert_exporter": "python",
   "pygments_lexer": "ipython3",
   "version": "3.6.13"
  }
 },
 "nbformat": 4,
 "nbformat_minor": 5
}
