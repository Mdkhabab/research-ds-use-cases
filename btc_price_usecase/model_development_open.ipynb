{
 "cells": [
  {
   "cell_type": "markdown",
   "id": "24992b21",
   "metadata": {},
   "source": [
    "# 3.b Model Development (Open)"
   ]
  },
  {
   "cell_type": "code",
   "execution_count": 17,
   "id": "a4320ba4",
   "metadata": {},
   "outputs": [],
   "source": [
    "import numpy as np\n",
    "import math\n",
    "import pandas as pd\n",
    "from sklearn.preprocessing import MinMaxScaler\n",
    "import matplotlib.pyplot as plt\n",
    "import seaborn as sns\n",
    "from sklearn.model_selection import train_test_split\n",
    "import boto3 \n",
    "import io  \n",
    "from sagemaker import get_execution_role\n",
    "role = get_execution_role()\n",
    "import tensorflow as tf\n",
    "from tensorflow import keras\n",
    "from tensorflow.keras import layers"
   ]
  },
  {
   "cell_type": "code",
   "execution_count": 18,
   "id": "76f356aa",
   "metadata": {},
   "outputs": [
    {
     "data": {
      "text/plain": [
       "'arn:aws:iam::190183093544:role/service-role/AmazonSageMaker-ExecutionRole-20220602T141236'"
      ]
     },
     "execution_count": 18,
     "metadata": {},
     "output_type": "execute_result"
    }
   ],
   "source": [
    "role"
   ]
  },
  {
   "cell_type": "code",
   "execution_count": 19,
   "id": "46d32a36",
   "metadata": {},
   "outputs": [],
   "source": [
    "session = boto3.Session()"
   ]
  },
  {
   "cell_type": "markdown",
   "id": "2c0cfeec",
   "metadata": {},
   "source": [
    "### Load the Data from S3"
   ]
  },
  {
   "cell_type": "code",
   "execution_count": 20,
   "id": "c6ed7b7f",
   "metadata": {},
   "outputs": [],
   "source": [
    "bucket='data-aman-use-case'  \n",
    "file_key = 'x_train_open.npy' \n",
    "  \n",
    "s3_client = boto3.client('s3')  \n",
    "obj = s3_client.get_object(Bucket=bucket, Key=file_key)  \n",
    "x_train_open = np.load(io.BytesIO(obj['Body'].read()))  "
   ]
  },
  {
   "cell_type": "code",
   "execution_count": 21,
   "id": "973f8d35",
   "metadata": {},
   "outputs": [],
   "source": [
    "bucket='data-aman-use-case'  \n",
    "file_key = 'x_test_open.npy' \n",
    "  \n",
    "s3_client = boto3.client('s3')  \n",
    "obj = s3_client.get_object(Bucket=bucket, Key=file_key)  \n",
    "x_test_open = np.load(io.BytesIO(obj['Body'].read()))  "
   ]
  },
  {
   "cell_type": "code",
   "execution_count": 22,
   "id": "9c962f8a",
   "metadata": {},
   "outputs": [],
   "source": [
    "bucket='data-aman-use-case'  \n",
    "file_key = 'y_train_open.npy' \n",
    "  \n",
    "s3_client = boto3.client('s3')  \n",
    "obj = s3_client.get_object(Bucket=bucket, Key=file_key)  \n",
    "y_train_open = np.load(io.BytesIO(obj['Body'].read()))  "
   ]
  },
  {
   "cell_type": "code",
   "execution_count": 23,
   "id": "8b1d8aa2",
   "metadata": {},
   "outputs": [],
   "source": [
    "bucket='data-aman-use-case'  \n",
    "file_key = 'y_test_open.npy' \n",
    "  \n",
    "s3_client = boto3.client('s3')  \n",
    "obj = s3_client.get_object(Bucket=bucket, Key=file_key)  \n",
    "y_test_open = np.load(io.BytesIO(obj['Body'].read()))  "
   ]
  },
  {
   "cell_type": "markdown",
   "id": "1f789e96",
   "metadata": {},
   "source": [
    "### Building the LSTM RNN Model"
   ]
  },
  {
   "cell_type": "code",
   "execution_count": 24,
   "id": "1073c636",
   "metadata": {},
   "outputs": [
    {
     "name": "stdout",
     "output_type": "stream",
     "text": [
      "Model: \"sequential_1\"\n",
      "_________________________________________________________________\n",
      "Layer (type)                 Output Shape              Param #   \n",
      "=================================================================\n",
      "lstm_2 (LSTM)                (None, 60, 100)           40800     \n",
      "_________________________________________________________________\n",
      "lstm_3 (LSTM)                (None, 100)               80400     \n",
      "_________________________________________________________________\n",
      "dense_2 (Dense)              (None, 25)                2525      \n",
      "_________________________________________________________________\n",
      "dense_3 (Dense)              (None, 1)                 26        \n",
      "=================================================================\n",
      "Total params: 123,751\n",
      "Trainable params: 123,751\n",
      "Non-trainable params: 0\n",
      "_________________________________________________________________\n"
     ]
    }
   ],
   "source": [
    "model = keras.Sequential()\n",
    "model.add(layers.LSTM(100, return_sequences=True, input_shape=(x_train_open.shape[1], 1)))\n",
    "model.add(layers.LSTM(100, return_sequences=False))\n",
    "model.add(layers.Dense(25))\n",
    "model.add(layers.Dense(1))\n",
    "model.summary()"
   ]
  },
  {
   "cell_type": "code",
   "execution_count": 10,
   "id": "6f66dfcc",
   "metadata": {},
   "outputs": [
    {
     "name": "stdout",
     "output_type": "stream",
     "text": [
      "Epoch 1/20\n",
      "2216/2216 [==============================] - 87s 39ms/step - loss: 1.9947e-04\n",
      "Epoch 2/20\n",
      "2216/2216 [==============================] - 86s 39ms/step - loss: 8.8718e-05\n",
      "Epoch 3/20\n",
      "2216/2216 [==============================] - 88s 40ms/step - loss: 7.8665e-05\n",
      "Epoch 4/20\n",
      "2216/2216 [==============================] - 87s 39ms/step - loss: 5.5642e-05\n",
      "Epoch 5/20\n",
      "2216/2216 [==============================] - 89s 40ms/step - loss: 6.4416e-05\n",
      "Epoch 6/20\n",
      "2216/2216 [==============================] - 90s 41ms/step - loss: 6.3891e-05\n",
      "Epoch 7/20\n",
      "2216/2216 [==============================] - 89s 40ms/step - loss: 4.7844e-05\n",
      "Epoch 8/20\n",
      "2216/2216 [==============================] - 92s 42ms/step - loss: 4.4583e-05\n",
      "Epoch 9/20\n",
      "2216/2216 [==============================] - 90s 40ms/step - loss: 5.0412e-05\n",
      "Epoch 10/20\n",
      "2216/2216 [==============================] - 89s 40ms/step - loss: 4.7948e-05\n",
      "Epoch 11/20\n",
      "2216/2216 [==============================] - 88s 40ms/step - loss: 4.2996e-05\n",
      "Epoch 12/20\n",
      "2216/2216 [==============================] - 88s 40ms/step - loss: 4.1724e-05\n",
      "Epoch 13/20\n",
      "2216/2216 [==============================] - 87s 39ms/step - loss: 4.2101e-05\n",
      "Epoch 14/20\n",
      "2216/2216 [==============================] - 87s 39ms/step - loss: 3.7580e-05\n",
      "Epoch 15/20\n",
      "2216/2216 [==============================] - 87s 39ms/step - loss: 4.0276e-05\n",
      "Epoch 16/20\n",
      "2216/2216 [==============================] - 86s 39ms/step - loss: 4.0392e-05\n",
      "Epoch 17/20\n",
      "2216/2216 [==============================] - 82s 37ms/step - loss: 3.8831e-05\n",
      "Epoch 18/20\n",
      "2216/2216 [==============================] - 67s 30ms/step - loss: 4.2265e-05\n",
      "Epoch 19/20\n",
      "2216/2216 [==============================] - 62s 28ms/step - loss: 3.4980e-05\n",
      "Epoch 20/20\n",
      "2216/2216 [==============================] - 63s 28ms/step - loss: 3.7751e-05\n"
     ]
    },
    {
     "data": {
      "text/plain": [
       "<tensorflow.python.keras.callbacks.History at 0x7f32f09acb38>"
      ]
     },
     "execution_count": 10,
     "metadata": {},
     "output_type": "execute_result"
    }
   ],
   "source": [
    "model.compile(optimizer='adam', loss='mean_squared_error')\n",
    "model.fit(x_train_open, y_train_open, batch_size= 1, epochs=20)"
   ]
  },
  {
   "cell_type": "code",
   "execution_count": 11,
   "id": "ad1355d8",
   "metadata": {},
   "outputs": [
    {
     "data": {
      "text/plain": [
       "28502.28568199146"
      ]
     },
     "execution_count": 11,
     "metadata": {},
     "output_type": "execute_result"
    }
   ],
   "source": [
    "predictions = model.predict(x_test_open)\n",
    "predictions = scaler.inverse_transform(predictions)\n",
    "rmse = np.sqrt(np.mean(predictions - y_test_open)**2)\n",
    "rmse"
   ]
  },
  {
   "cell_type": "code",
   "execution_count": 12,
   "id": "2730c3e9",
   "metadata": {},
   "outputs": [
    {
     "name": "stderr",
     "output_type": "stream",
     "text": [
      "/home/ec2-user/anaconda3/envs/amazonei_tensorflow2_p36/lib/python3.6/site-packages/ipykernel/__main__.py:4: SettingWithCopyWarning: \n",
      "A value is trying to be set on a copy of a slice from a DataFrame.\n",
      "Try using .loc[row_indexer,col_indexer] = value instead\n",
      "\n",
      "See the caveats in the documentation: https://pandas.pydata.org/pandas-docs/stable/user_guide/indexing.html#returning-a-view-versus-a-copy\n"
     ]
    },
    {
     "data": {
      "image/png": "[encoded data removed]",
      "text/plain": [
       "<Figure size 1152x576 with 1 Axes>"
      ]
     },
     "metadata": {
      "needs_background": "light"
     },
     "output_type": "display_data"
    }
   ],
   "source": [
    "data = data.filter(['Open'])\n",
    "train = data[:training_data_len_open]\n",
    "validation = data[training_data_len_open:]\n",
    "validation['Predictions'] = predictions\n",
    "plt.figure(figsize=(16,8))\n",
    "plt.title('Model')\n",
    "plt.xlabel('Date')\n",
    "plt.ylabel('Open Price USD ($)')\n",
    "plt.plot(train)\n",
    "plt.plot(validation[['Open', 'Predictions']])\n",
    "plt.legend(['Train', 'Val', 'Predictions'], loc='lower right')\n",
    "plt.show()"
   ]
  },
  {
   "cell_type": "code",
   "execution_count": null,
   "id": "ea22f88b",
   "metadata": {},
   "outputs": [],
   "source": []
  }
 ],
 "metadata": {
  "kernelspec": {
   "display_name": "conda_amazonei_tensorflow2_p36",
   "language": "python",
   "name": "conda_amazonei_tensorflow2_p36"
  },
  "language_info": {
   "codemirror_mode": {
    "name": "ipython",
    "version": 3
   },
   "file_extension": ".py",
   "mimetype": "text/x-python",
   "name": "python",
   "nbconvert_exporter": "python",
   "pygments_lexer": "ipython3",
   "version": "3.6.13"
  }
 },
 "nbformat": 4,
 "nbformat_minor": 5
}
