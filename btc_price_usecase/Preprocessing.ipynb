{
 "cells": [
  {
   "cell_type": "markdown",
   "id": "fdf48859",
   "metadata": {},
   "source": [
    "# 2.a Data Preprocessing and Feature Engineering (LSTM)"
   ]
  },
  {
   "cell_type": "markdown",
   "id": "9929efcd",
   "metadata": {},
   "source": [
    "### Import necessary Packages"
   ]
  },
  {
   "cell_type": "code",
   "execution_count": 1,
   "id": "a3c85f87",
   "metadata": {},
   "outputs": [],
   "source": [
    "import numpy as np\n",
    "import math\n",
    "import pandas as pd\n",
    "from sklearn.preprocessing import MinMaxScaler\n",
    "import matplotlib.pyplot as plt\n",
    "import seaborn as sns\n",
    "from sklearn.model_selection import train_test_split\n",
    "import boto3 \n",
    "import io  \n",
    "from sagemaker import get_execution_role\n",
    "role = get_execution_role()"
   ]
  },
  {
   "cell_type": "code",
   "execution_count": 2,
   "id": "0fb7fd47",
   "metadata": {},
   "outputs": [],
   "source": [
    "session = boto3.Session()"
   ]
  },
  {
   "cell_type": "code",
   "execution_count": 3,
   "id": "add8b8ac",
   "metadata": {},
   "outputs": [],
   "source": [
    "import tensorflow as tf\n",
    "from tensorflow import keras\n",
    "from tensorflow.keras import layers\n",
    "import sagemaker\n",
    "from sagemaker import get_execution_role"
   ]
  },
  {
   "cell_type": "markdown",
   "id": "e9a2433f",
   "metadata": {},
   "source": [
    "### Getting Data from Yahoo Finance¶"
   ]
  },
  {
   "cell_type": "code",
   "execution_count": 4,
   "id": "e4dcda0b",
   "metadata": {},
   "outputs": [],
   "source": [
    "btc = f'https://query1.finance.yahoo.com/v7/finance/download/BTC-USD?period1=1410912000&period2=1656633600&interval=1d&events=history&includeAdjustedClose=true'"
   ]
  },
  {
   "cell_type": "markdown",
   "id": "1d48e3fc",
   "metadata": {},
   "source": [
    "### Load the Data"
   ]
  },
  {
   "cell_type": "code",
   "execution_count": 5,
   "id": "bfb53c6b",
   "metadata": {},
   "outputs": [],
   "source": [
    "data= pd.read_csv(btc)"
   ]
  },
  {
   "cell_type": "code",
   "execution_count": 6,
   "id": "3a9f5477",
   "metadata": {},
   "outputs": [
    {
     "data": {
      "text/plain": [
       "Index(['Date', 'Open', 'High', 'Low', 'Close', 'Adj Close', 'Volume'], dtype='object')"
      ]
     },
     "execution_count": 6,
     "metadata": {},
     "output_type": "execute_result"
    }
   ],
   "source": [
    "data.columns"
   ]
  },
  {
   "cell_type": "code",
   "execution_count": 7,
   "id": "7d95e53b",
   "metadata": {},
   "outputs": [
    {
     "data": {
      "text/plain": [
       "(2845, 7)"
      ]
     },
     "execution_count": 7,
     "metadata": {},
     "output_type": "execute_result"
    }
   ],
   "source": [
    "data.shape"
   ]
  },
  {
   "cell_type": "markdown",
   "id": "90783ef5",
   "metadata": {},
   "source": [
    "### Making new dataframe with requried features"
   ]
  },
  {
   "cell_type": "code",
   "execution_count": 8,
   "id": "e0d5ec75",
   "metadata": {},
   "outputs": [],
   "source": [
    "data = data[['Date','Open','Close']]"
   ]
  },
  {
   "cell_type": "markdown",
   "id": "2fee74ba",
   "metadata": {},
   "source": [
    "### Setting date as the index"
   ]
  },
  {
   "cell_type": "code",
   "execution_count": 9,
   "id": "49f3a994",
   "metadata": {},
   "outputs": [],
   "source": [
    "data.set_index('Date',drop=True,inplace=True) "
   ]
  },
  {
   "cell_type": "code",
   "execution_count": 10,
   "id": "5f02e23c",
   "metadata": {},
   "outputs": [
    {
     "data": {
      "text/html": [
       "<div>\n",
       "<style scoped>\n",
       "    .dataframe tbody tr th:only-of-type {\n",
       "        vertical-align: middle;\n",
       "    }\n",
       "\n",
       "    .dataframe tbody tr th {\n",
       "        vertical-align: top;\n",
       "    }\n",
       "\n",
       "    .dataframe thead th {\n",
       "        text-align: right;\n",
       "    }\n",
       "</style>\n",
       "<table border=\"1\" class=\"dataframe\">\n",
       "  <thead>\n",
       "    <tr style=\"text-align: right;\">\n",
       "      <th></th>\n",
       "      <th>Open</th>\n",
       "      <th>Close</th>\n",
       "    </tr>\n",
       "    <tr>\n",
       "      <th>Date</th>\n",
       "      <th></th>\n",
       "      <th></th>\n",
       "    </tr>\n",
       "  </thead>\n",
       "  <tbody>\n",
       "    <tr>\n",
       "      <th>2014-09-17</th>\n",
       "      <td>465.864014</td>\n",
       "      <td>457.334015</td>\n",
       "    </tr>\n",
       "    <tr>\n",
       "      <th>2014-09-18</th>\n",
       "      <td>456.859985</td>\n",
       "      <td>424.440002</td>\n",
       "    </tr>\n",
       "    <tr>\n",
       "      <th>2014-09-19</th>\n",
       "      <td>424.102997</td>\n",
       "      <td>394.795990</td>\n",
       "    </tr>\n",
       "    <tr>\n",
       "      <th>2014-09-20</th>\n",
       "      <td>394.673004</td>\n",
       "      <td>408.903992</td>\n",
       "    </tr>\n",
       "    <tr>\n",
       "      <th>2014-09-21</th>\n",
       "      <td>408.084991</td>\n",
       "      <td>398.821014</td>\n",
       "    </tr>\n",
       "  </tbody>\n",
       "</table>\n",
       "</div>"
      ],
      "text/plain": [
       "                  Open       Close\n",
       "Date                              \n",
       "2014-09-17  465.864014  457.334015\n",
       "2014-09-18  456.859985  424.440002\n",
       "2014-09-19  424.102997  394.795990\n",
       "2014-09-20  394.673004  408.903992\n",
       "2014-09-21  408.084991  398.821014"
      ]
     },
     "execution_count": 10,
     "metadata": {},
     "output_type": "execute_result"
    }
   ],
   "source": [
    "data.head()"
   ]
  },
  {
   "cell_type": "markdown",
   "id": "e64cb43b",
   "metadata": {},
   "source": [
    "In the table above, we see that Date is set as the index and two features have been seleced which are the Opening and Closing price of Bitcoin on that day"
   ]
  },
  {
   "cell_type": "markdown",
   "id": "1622349c",
   "metadata": {},
   "source": [
    "### Plotting the Open and Close trend"
   ]
  },
  {
   "cell_type": "code",
   "execution_count": 11,
   "id": "6e2bcbae",
   "metadata": {},
   "outputs": [
    {
     "data": {
      "text/plain": [
       "<matplotlib.legend.Legend at 0x7fb0a2a566d8>"
      ]
     },
     "execution_count": 11,
     "metadata": {},
     "output_type": "execute_result"
    },
    {
     "data": {
      "image/png": "[encoded data removed]",
      "text/plain": [
       "<Figure size 1440x504 with 2 Axes>"
      ]
     },
     "metadata": {
      "needs_background": "light"
     },
     "output_type": "display_data"
    }
   ],
   "source": [
    "fg, ax =plt.subplots(1,2,figsize=(20,7))\n",
    "ax[0].plot(data['Open'],label='Open',color='green')\n",
    "ax[0].set_xlabel('Date',size=15)\n",
    "ax[0].set_ylabel('Price',size=15)\n",
    "ax[0].legend()\n",
    "\n",
    "ax[1].plot(data['Close'],label='Close',color='red')\n",
    "ax[1].set_xlabel('Date',size=15)\n",
    "ax[1].set_ylabel('Price',size=15)\n",
    "ax[1].legend()\n"
   ]
  },
  {
   "cell_type": "code",
   "execution_count": 12,
   "id": "a5e17e9a",
   "metadata": {},
   "outputs": [
    {
     "name": "stdout",
     "output_type": "stream",
     "text": [
      "<class 'pandas.core.frame.DataFrame'>\n",
      "Index: 2845 entries, 2014-09-17 to 2022-07-01\n",
      "Data columns (total 2 columns):\n",
      " #   Column  Non-Null Count  Dtype  \n",
      "---  ------  --------------  -----  \n",
      " 0   Open    2845 non-null   float64\n",
      " 1   Close   2845 non-null   float64\n",
      "dtypes: float64(2)\n",
      "memory usage: 66.7+ KB\n"
     ]
    }
   ],
   "source": [
    "data.info()"
   ]
  },
  {
   "cell_type": "markdown",
   "id": "01249297",
   "metadata": {},
   "source": [
    "### Taking a look at the skewed data"
   ]
  },
  {
   "cell_type": "code",
   "execution_count": 13,
   "id": "1c71896b",
   "metadata": {},
   "outputs": [],
   "source": [
    "def histogram_boxplot(data, feature, figsize=(15, 10), kde=False, bins=None):\n",
    "\n",
    "    f2, (ax_box2, ax_hist2) = plt.subplots(\n",
    "        nrows=2,  # Number of rows of the subplot grid= 2\n",
    "        sharex=True,  # x-axis will be shared among all subplots\n",
    "        gridspec_kw={\"height_ratios\": (0.25, 0.75)},\n",
    "        figsize=figsize,\n",
    "    )  # creating the 2 subplots\n",
    "    sns.boxplot(\n",
    "        data=data, x=feature, ax=ax_box2, showmeans=True, color=\"violet\"\n",
    "    )  # boxplot will be created and a star will indicate the mean value of the column\n",
    "    sns.histplot(\n",
    "        data=data, x=feature, kde=kde, ax=ax_hist2, bins=bins, palette=\"winter\"\n",
    "    ) if bins else sns.histplot(\n",
    "        data=data, x=feature, kde=kde, ax=ax_hist2\n",
    "    )  # For histogram\n",
    "    ax_hist2.axvline(\n",
    "        data[feature].mean(), color=\"green\", linestyle=\"--\"\n",
    "    )  # Add mean to the histogram\n",
    "    ax_hist2.axvline(\n",
    "        data[feature].median(), color=\"black\", linestyle=\"-\"\n",
    "    )  # Add median to the histogram"
   ]
  },
  {
   "cell_type": "code",
   "execution_count": 14,
   "id": "3a901f60",
   "metadata": {},
   "outputs": [
    {
     "data": {
      "image/png": "[encoded data removed]",
      "text/plain": [
       "<Figure size 1080x720 with 2 Axes>"
      ]
     },
     "metadata": {
      "needs_background": "light"
     },
     "output_type": "display_data"
    }
   ],
   "source": [
    "histogram_boxplot(data,\"Open\",bins=70)"
   ]
  },
  {
   "cell_type": "code",
   "execution_count": 15,
   "id": "edd7dcb5",
   "metadata": {},
   "outputs": [
    {
     "data": {
      "image/png": "[encoded data removed]",
      "text/plain": [
       "<Figure size 1080x720 with 2 Axes>"
      ]
     },
     "metadata": {
      "needs_background": "light"
     },
     "output_type": "display_data"
    }
   ],
   "source": [
    "histogram_boxplot(data,\"Close\",bins=70)"
   ]
  },
  {
   "cell_type": "markdown",
   "id": "28a5b2dd",
   "metadata": {},
   "source": [
    "We see that the data is spread across a wide range from 0 dollars to 70000 dolars. We will fix the issue by scaling and normalizing the data to be between 0 and 1"
   ]
  },
  {
   "cell_type": "markdown",
   "id": "23ffbe58",
   "metadata": {},
   "source": [
    "### Scaling the data and splitting the data for Open and close prices"
   ]
  },
  {
   "cell_type": "markdown",
   "id": "03f62b86",
   "metadata": {},
   "source": [
    "#### Close Prices"
   ]
  },
  {
   "cell_type": "code",
   "execution_count": 30,
   "id": "89121589",
   "metadata": {},
   "outputs": [],
   "source": [
    "close_prices = data['Close']\n",
    "values = close_prices.values\n",
    "training_data_len_close = math.ceil(len(values)* 0.8)\n",
    "\n",
    "scaler = MinMaxScaler(feature_range=(0,1))\n",
    "scaled_data_close = scaler.fit_transform(values.reshape(-1, 1))\n",
    "train_data_close = scaled_data_close[0: training_data_len_close, :]\n",
    "\n",
    "x_train_close = []\n",
    "y_train_close = []\n",
    "\n",
    "for i in range(60, len(train_data_close)):\n",
    "    x_train_close.append(train_data_close[i-60:i, 0])\n",
    "    y_train_close.append(train_data_close[i, 0])\n",
    "x_train_close, y_train_close = np.array(x_train_close), np.array(y_train_close)\n",
    "x_train_close = np.reshape(x_train_close, (x_train_close.shape[0], x_train_close.shape[1], 1))"
   ]
  },
  {
   "cell_type": "code",
   "execution_count": 31,
   "id": "2a1f17ad",
   "metadata": {},
   "outputs": [],
   "source": [
    "test_data_close = scaled_data_close[training_data_len_close-60: , : ]\n",
    "x_test_close = []\n",
    "y_test_close = values[training_data_len_close:]\n",
    "\n",
    "for i in range(60, len(test_data_close)):\n",
    "    x_test_close.append(test_data_close[i-60:i, 0])\n",
    "\n",
    "x_test_close = np.array(x_test_close)\n",
    "x_test_close = np.reshape(x_test_close, (x_test_close.shape[0], x_test_close.shape[1], 1))"
   ]
  },
  {
   "cell_type": "markdown",
   "id": "5e72287a",
   "metadata": {},
   "source": [
    "#### Open Prices"
   ]
  },
  {
   "cell_type": "code",
   "execution_count": 32,
   "id": "b53ca8e7",
   "metadata": {},
   "outputs": [],
   "source": [
    "open_prices = data['Open']\n",
    "values_open = open_prices.values\n",
    "training_data_len_open = math.ceil(len(values_open)* 0.8)\n",
    "\n",
    "scaler = MinMaxScaler(feature_range=(0,1))\n",
    "scaled_data_open = scaler.fit_transform(values_open.reshape(-1, 1))\n",
    "train_data_open = scaled_data_open[0: training_data_len_open, :]\n",
    "\n",
    "x_train_open = []\n",
    "y_train_open = []\n",
    "\n",
    "for i in range(60, len(train_data_open)):\n",
    "    x_train_open.append(train_data_open[i-60:i, 0])\n",
    "    y_train_open.append(train_data_open[i, 0])\n",
    "x_train_open, y_train_open = np.array(x_train_open), np.array(y_train_open)\n",
    "x_train_open = np.reshape(x_train_open, (x_train_open.shape[0], x_train_open.shape[1], 1))"
   ]
  },
  {
   "cell_type": "code",
   "execution_count": 33,
   "id": "e4c01143",
   "metadata": {},
   "outputs": [],
   "source": [
    "test_data_open= scaled_data_open[training_data_len_open-60: , : ]\n",
    "x_test_open = []\n",
    "y_test_open = values_open[training_data_len_open:]\n",
    "\n",
    "for i in range(60, len(test_data_open)):\n",
    "    x_test_open.append(test_data_open[i-60:i, 0])\n",
    "\n",
    "x_test_open = np.array(x_test_open)\n",
    "x_test_open = np.reshape(x_test_open, (x_test_open.shape[0], x_test_open.shape[1], 1))"
   ]
  },
  {
   "cell_type": "markdown",
   "id": "319678b1",
   "metadata": {},
   "source": [
    "### Looking at the shape of the Train and Test data"
   ]
  },
  {
   "cell_type": "markdown",
   "id": "665c96a8",
   "metadata": {},
   "source": [
    "#### Close"
   ]
  },
  {
   "cell_type": "code",
   "execution_count": 15,
   "id": "dfe0aaff",
   "metadata": {},
   "outputs": [
    {
     "name": "stdout",
     "output_type": "stream",
     "text": [
      "(2216, 60, 1)\n",
      "(569, 60, 1)\n"
     ]
    }
   ],
   "source": [
    "print(x_train_close.shape)\n",
    "print(x_test_close.shape)"
   ]
  },
  {
   "cell_type": "code",
   "execution_count": 16,
   "id": "90dc3732",
   "metadata": {},
   "outputs": [
    {
     "name": "stdout",
     "output_type": "stream",
     "text": [
      "(2216,)\n",
      "(569,)\n"
     ]
    }
   ],
   "source": [
    "print(y_train_close.shape)\n",
    "print(y_test_close.shape)"
   ]
  },
  {
   "cell_type": "markdown",
   "id": "076b350b",
   "metadata": {},
   "source": [
    "#### Open"
   ]
  },
  {
   "cell_type": "code",
   "execution_count": 17,
   "id": "042f8aa5",
   "metadata": {},
   "outputs": [
    {
     "name": "stdout",
     "output_type": "stream",
     "text": [
      "(2216, 60, 1)\n",
      "(569, 60, 1)\n"
     ]
    }
   ],
   "source": [
    "print(x_train_open.shape)\n",
    "print(x_test_open.shape)"
   ]
  },
  {
   "cell_type": "code",
   "execution_count": 18,
   "id": "b86d37f9",
   "metadata": {},
   "outputs": [
    {
     "name": "stdout",
     "output_type": "stream",
     "text": [
      "(2216,)\n",
      "(569,)\n"
     ]
    }
   ],
   "source": [
    "print(y_train_open.shape)\n",
    "print(y_test_open.shape)"
   ]
  },
  {
   "cell_type": "markdown",
   "id": "6a13973d",
   "metadata": {},
   "source": [
    "### Export Data for Model Training"
   ]
  },
  {
   "cell_type": "code",
   "execution_count": 19,
   "id": "23cd8bd1",
   "metadata": {},
   "outputs": [],
   "source": [
    "np.save(\"x_train_close.npy\", x_train_close)\n",
    "np.save(\"x_test_close.npy\", x_test_close)\n",
    "np.save(\"y_train_close.npy\", y_train_close)\n",
    "np.save(\"y_test_close.npy\", y_test_close)\n",
    "np.save(\"x_train_open.npy\", x_train_open)\n",
    "np.save(\"x_test_open.npy\", x_test_open)\n",
    "np.save(\"y_train_open.npy\", y_train_open)\n",
    "np.save(\"y_test_open.npy\", y_test_open)"
   ]
  },
  {
   "cell_type": "code",
   "execution_count": 20,
   "id": "fc863e32",
   "metadata": {},
   "outputs": [
    {
     "name": "stdout",
     "output_type": "stream",
     "text": [
      "None\n"
     ]
    }
   ],
   "source": [
    "s3 = session.resource('s3') \n",
    "local_path = 'x_train_close.npy' \n",
    "s3_filename =  'x_train_close.npy' \n",
    "result = s3.Bucket('data-aman-use-case').upload_file(local_path,s3_filename)  \n",
    "print(result)"
   ]
  },
  {
   "cell_type": "code",
   "execution_count": 21,
   "id": "42a17a9a",
   "metadata": {},
   "outputs": [
    {
     "name": "stdout",
     "output_type": "stream",
     "text": [
      "None\n"
     ]
    }
   ],
   "source": [
    "s3 = session.resource('s3') \n",
    "local_path = 'x_test_close.npy' \n",
    "s3_filename =  'x_test_close.npy' \n",
    "result = s3.Bucket('data-aman-use-case').upload_file(local_path,s3_filename)  \n",
    "print(result)"
   ]
  },
  {
   "cell_type": "code",
   "execution_count": 22,
   "id": "d397a849",
   "metadata": {},
   "outputs": [
    {
     "name": "stdout",
     "output_type": "stream",
     "text": [
      "None\n"
     ]
    }
   ],
   "source": [
    "s3 = session.resource('s3') \n",
    "local_path = 'y_train_close.npy' \n",
    "s3_filename =  'y_train_close.npy' \n",
    "result = s3.Bucket('data-aman-use-case').upload_file(local_path,s3_filename)  \n",
    "print(result)"
   ]
  },
  {
   "cell_type": "code",
   "execution_count": 23,
   "id": "bc725ed0",
   "metadata": {},
   "outputs": [
    {
     "name": "stdout",
     "output_type": "stream",
     "text": [
      "None\n"
     ]
    }
   ],
   "source": [
    "s3 = session.resource('s3') \n",
    "local_path = 'y_test_close.npy' \n",
    "s3_filename =  'y_test_close.npy' \n",
    "result = s3.Bucket('data-aman-use-case').upload_file(local_path,s3_filename)  \n",
    "print(result)"
   ]
  },
  {
   "cell_type": "code",
   "execution_count": 24,
   "id": "337acb9d",
   "metadata": {},
   "outputs": [
    {
     "name": "stdout",
     "output_type": "stream",
     "text": [
      "None\n"
     ]
    }
   ],
   "source": [
    "s3 = session.resource('s3') \n",
    "local_path = 'x_train_open.npy' \n",
    "s3_filename =  'x_train_open.npy' \n",
    "result = s3.Bucket('data-aman-use-case').upload_file(local_path,s3_filename)  \n",
    "print(result)"
   ]
  },
  {
   "cell_type": "code",
   "execution_count": 25,
   "id": "78e9b096",
   "metadata": {},
   "outputs": [
    {
     "name": "stdout",
     "output_type": "stream",
     "text": [
      "None\n"
     ]
    }
   ],
   "source": [
    "s3 = session.resource('s3') \n",
    "local_path = 'x_test_open.npy' \n",
    "s3_filename =  'x_test_open.npy' \n",
    "result = s3.Bucket('data-aman-use-case').upload_file(local_path,s3_filename)  \n",
    "print(result)"
   ]
  },
  {
   "cell_type": "code",
   "execution_count": 26,
   "id": "500aab30",
   "metadata": {},
   "outputs": [
    {
     "name": "stdout",
     "output_type": "stream",
     "text": [
      "None\n"
     ]
    }
   ],
   "source": [
    "s3 = session.resource('s3') \n",
    "local_path = 'y_train_open.npy' \n",
    "s3_filename =  'y_train_open.npy' \n",
    "result = s3.Bucket('data-aman-use-case').upload_file(local_path,s3_filename)  \n",
    "print(result)"
   ]
  },
  {
   "cell_type": "code",
   "execution_count": 27,
   "id": "8725b13c",
   "metadata": {},
   "outputs": [
    {
     "name": "stdout",
     "output_type": "stream",
     "text": [
      "None\n"
     ]
    }
   ],
   "source": [
    "s3 = session.resource('s3') \n",
    "local_path = 'y_test_open.npy' \n",
    "s3_filename =  'y_test_open.npy' \n",
    "result = s3.Bucket('data-aman-use-case').upload_file(local_path,s3_filename)  \n",
    "print(result)"
   ]
  }
 ],
 "metadata": {
  "kernelspec": {
   "display_name": "conda_amazonei_tensorflow2_p36",
   "language": "python",
   "name": "conda_amazonei_tensorflow2_p36"
  },
  "language_info": {
   "codemirror_mode": {
    "name": "ipython",
    "version": 3
   },
   "file_extension": ".py",
   "mimetype": "text/x-python",
   "name": "python",
   "nbconvert_exporter": "python",
   "pygments_lexer": "ipython3",
   "version": "3.6.13"
  }
 },
 "nbformat": 4,
 "nbformat_minor": 5
}
