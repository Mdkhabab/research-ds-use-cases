{
 "cells": [
  {
   "cell_type": "markdown",
   "id": "ca1e91c9",
   "metadata": {},
   "source": [
    "# 2.c Data Preprocessing and Feature Engineering (Sliding Window (Close))"
   ]
  },
  {
   "cell_type": "code",
   "execution_count": 53,
   "id": "f272f603",
   "metadata": {},
   "outputs": [],
   "source": [
    "import numpy as np\n",
    "import math\n",
    "import pandas as pd\n",
    "from sklearn.preprocessing import MinMaxScaler\n",
    "from sklearn.model_selection import train_test_split\n",
    "import boto3 \n",
    "import io  \n",
    "from sagemaker import get_execution_role\n",
    "role = get_execution_role()\n",
    "# Library to suppress warnings or deprecation notes\n",
    "import warnings\n",
    "warnings.filterwarnings(\"ignore\")"
   ]
  },
  {
   "cell_type": "code",
   "execution_count": 54,
   "id": "4f7be46d",
   "metadata": {},
   "outputs": [],
   "source": [
    "session = boto3.Session()"
   ]
  },
  {
   "cell_type": "code",
   "execution_count": 55,
   "id": "49a2ea66",
   "metadata": {},
   "outputs": [
    {
     "data": {
      "text/plain": [
       "'arn:aws:iam::190183093544:role/service-role/AmazonSageMaker-ExecutionRole-20220602T141236'"
      ]
     },
     "execution_count": 55,
     "metadata": {},
     "output_type": "execute_result"
    }
   ],
   "source": [
    "role"
   ]
  },
  {
   "cell_type": "markdown",
   "id": "811abeb8",
   "metadata": {},
   "source": [
    "### Getting Data from Yahoo Finance¶"
   ]
  },
  {
   "cell_type": "code",
   "execution_count": 56,
   "id": "b155aa11",
   "metadata": {},
   "outputs": [],
   "source": [
    "btc = f'https://query1.finance.yahoo.com/v7/finance/download/BTC-USD?period1=1410912000&period2=1656633600&interval=1d&events=history&includeAdjustedClose=true'"
   ]
  },
  {
   "cell_type": "markdown",
   "id": "d141fb88",
   "metadata": {},
   "source": [
    "### Load the Data"
   ]
  },
  {
   "cell_type": "code",
   "execution_count": 57,
   "id": "dd3ab823",
   "metadata": {},
   "outputs": [],
   "source": [
    "data= pd.read_csv(btc)\n"
   ]
  },
  {
   "cell_type": "markdown",
   "id": "bc71cd33",
   "metadata": {},
   "source": [
    "### Making new dataframe with requried features"
   ]
  },
  {
   "cell_type": "code",
   "execution_count": 58,
   "id": "a227ecd9",
   "metadata": {},
   "outputs": [],
   "source": [
    "data = data[['Close']]"
   ]
  },
  {
   "cell_type": "code",
   "execution_count": 59,
   "id": "b2e2f9e0",
   "metadata": {},
   "outputs": [
    {
     "data": {
      "text/html": [
       "<div>\n",
       "<style scoped>\n",
       "    .dataframe tbody tr th:only-of-type {\n",
       "        vertical-align: middle;\n",
       "    }\n",
       "\n",
       "    .dataframe tbody tr th {\n",
       "        vertical-align: top;\n",
       "    }\n",
       "\n",
       "    .dataframe thead th {\n",
       "        text-align: right;\n",
       "    }\n",
       "</style>\n",
       "<table border=\"1\" class=\"dataframe\">\n",
       "  <thead>\n",
       "    <tr style=\"text-align: right;\">\n",
       "      <th></th>\n",
       "      <th>Close</th>\n",
       "    </tr>\n",
       "  </thead>\n",
       "  <tbody>\n",
       "    <tr>\n",
       "      <th>0</th>\n",
       "      <td>457.334015</td>\n",
       "    </tr>\n",
       "    <tr>\n",
       "      <th>1</th>\n",
       "      <td>424.440002</td>\n",
       "    </tr>\n",
       "    <tr>\n",
       "      <th>2</th>\n",
       "      <td>394.795990</td>\n",
       "    </tr>\n",
       "    <tr>\n",
       "      <th>3</th>\n",
       "      <td>408.903992</td>\n",
       "    </tr>\n",
       "    <tr>\n",
       "      <th>4</th>\n",
       "      <td>398.821014</td>\n",
       "    </tr>\n",
       "    <tr>\n",
       "      <th>...</th>\n",
       "      <td>...</td>\n",
       "    </tr>\n",
       "    <tr>\n",
       "      <th>2840</th>\n",
       "      <td>20735.478516</td>\n",
       "    </tr>\n",
       "    <tr>\n",
       "      <th>2841</th>\n",
       "      <td>20280.634766</td>\n",
       "    </tr>\n",
       "    <tr>\n",
       "      <th>2842</th>\n",
       "      <td>20104.023438</td>\n",
       "    </tr>\n",
       "    <tr>\n",
       "      <th>2843</th>\n",
       "      <td>19784.726563</td>\n",
       "    </tr>\n",
       "    <tr>\n",
       "      <th>2844</th>\n",
       "      <td>19269.367188</td>\n",
       "    </tr>\n",
       "  </tbody>\n",
       "</table>\n",
       "<p>2845 rows × 1 columns</p>\n",
       "</div>"
      ],
      "text/plain": [
       "             Close\n",
       "0       457.334015\n",
       "1       424.440002\n",
       "2       394.795990\n",
       "3       408.903992\n",
       "4       398.821014\n",
       "...            ...\n",
       "2840  20735.478516\n",
       "2841  20280.634766\n",
       "2842  20104.023438\n",
       "2843  19784.726563\n",
       "2844  19269.367188\n",
       "\n",
       "[2845 rows x 1 columns]"
      ]
     },
     "execution_count": 59,
     "metadata": {},
     "output_type": "execute_result"
    }
   ],
   "source": [
    "data"
   ]
  },
  {
   "cell_type": "code",
   "execution_count": 60,
   "id": "585be2db",
   "metadata": {},
   "outputs": [
    {
     "data": {
      "text/plain": [
       "(2845, 1)"
      ]
     },
     "execution_count": 60,
     "metadata": {},
     "output_type": "execute_result"
    }
   ],
   "source": [
    "data.shape"
   ]
  },
  {
   "cell_type": "code",
   "execution_count": 61,
   "id": "c59c05c8",
   "metadata": {},
   "outputs": [
    {
     "data": {
      "text/html": [
       "<div>\n",
       "<style scoped>\n",
       "    .dataframe tbody tr th:only-of-type {\n",
       "        vertical-align: middle;\n",
       "    }\n",
       "\n",
       "    .dataframe tbody tr th {\n",
       "        vertical-align: top;\n",
       "    }\n",
       "\n",
       "    .dataframe thead th {\n",
       "        text-align: right;\n",
       "    }\n",
       "</style>\n",
       "<table border=\"1\" class=\"dataframe\">\n",
       "  <thead>\n",
       "    <tr style=\"text-align: right;\">\n",
       "      <th></th>\n",
       "      <th>Close</th>\n",
       "    </tr>\n",
       "  </thead>\n",
       "  <tbody>\n",
       "    <tr>\n",
       "      <th>0</th>\n",
       "      <td>457.334015</td>\n",
       "    </tr>\n",
       "    <tr>\n",
       "      <th>1</th>\n",
       "      <td>424.440002</td>\n",
       "    </tr>\n",
       "    <tr>\n",
       "      <th>2</th>\n",
       "      <td>394.795990</td>\n",
       "    </tr>\n",
       "    <tr>\n",
       "      <th>3</th>\n",
       "      <td>408.903992</td>\n",
       "    </tr>\n",
       "    <tr>\n",
       "      <th>4</th>\n",
       "      <td>398.821014</td>\n",
       "    </tr>\n",
       "  </tbody>\n",
       "</table>\n",
       "</div>"
      ],
      "text/plain": [
       "        Close\n",
       "0  457.334015\n",
       "1  424.440002\n",
       "2  394.795990\n",
       "3  408.903992\n",
       "4  398.821014"
      ]
     },
     "execution_count": 61,
     "metadata": {},
     "output_type": "execute_result"
    }
   ],
   "source": [
    "data.head()"
   ]
  },
  {
   "cell_type": "markdown",
   "id": "9b0ed6cb",
   "metadata": {},
   "source": [
    "### Creating a function for sliding window"
   ]
  },
  {
   "cell_type": "code",
   "execution_count": 62,
   "id": "2394a490",
   "metadata": {},
   "outputs": [],
   "source": [
    "def mv_window(row, col, i_start_a, win_1, dataset):\n",
    "    import numpy as np\n",
    "    X = np.zeros((row, col))\n",
    "    for d in range(0,win_1):\n",
    "        for i in range(0,row):\n",
    "            X[i][d] = dataset['Close'][i+i_start_a+d]\n",
    "    return X"
   ]
  },
  {
   "cell_type": "code",
   "execution_count": 63,
   "id": "cec72c68",
   "metadata": {},
   "outputs": [],
   "source": [
    "#selecting the window and size\n",
    "sliding=mv_window(2815, 30, 0, 30, data)"
   ]
  },
  {
   "cell_type": "code",
   "execution_count": 64,
   "id": "c112fd70",
   "metadata": {},
   "outputs": [],
   "source": [
    "sliding = pd.DataFrame(data=sliding)"
   ]
  },
  {
   "cell_type": "code",
   "execution_count": 65,
   "id": "9e32e979",
   "metadata": {},
   "outputs": [
    {
     "data": {
      "text/html": [
       "<div>\n",
       "<style scoped>\n",
       "    .dataframe tbody tr th:only-of-type {\n",
       "        vertical-align: middle;\n",
       "    }\n",
       "\n",
       "    .dataframe tbody tr th {\n",
       "        vertical-align: top;\n",
       "    }\n",
       "\n",
       "    .dataframe thead th {\n",
       "        text-align: right;\n",
       "    }\n",
       "</style>\n",
       "<table border=\"1\" class=\"dataframe\">\n",
       "  <thead>\n",
       "    <tr style=\"text-align: right;\">\n",
       "      <th></th>\n",
       "      <th>0</th>\n",
       "      <th>1</th>\n",
       "      <th>2</th>\n",
       "      <th>3</th>\n",
       "      <th>4</th>\n",
       "      <th>5</th>\n",
       "      <th>6</th>\n",
       "      <th>7</th>\n",
       "      <th>8</th>\n",
       "      <th>9</th>\n",
       "      <th>...</th>\n",
       "      <th>20</th>\n",
       "      <th>21</th>\n",
       "      <th>22</th>\n",
       "      <th>23</th>\n",
       "      <th>24</th>\n",
       "      <th>25</th>\n",
       "      <th>26</th>\n",
       "      <th>27</th>\n",
       "      <th>28</th>\n",
       "      <th>29</th>\n",
       "    </tr>\n",
       "  </thead>\n",
       "  <tbody>\n",
       "    <tr>\n",
       "      <th>2810</th>\n",
       "      <td>28814.900391</td>\n",
       "      <td>29445.957031</td>\n",
       "      <td>31726.390625</td>\n",
       "      <td>31792.310547</td>\n",
       "      <td>29799.080078</td>\n",
       "      <td>30467.488281</td>\n",
       "      <td>29704.390625</td>\n",
       "      <td>29832.914063</td>\n",
       "      <td>29906.662109</td>\n",
       "      <td>31370.671875</td>\n",
       "      <td>...</td>\n",
       "      <td>20471.482422</td>\n",
       "      <td>19017.642578</td>\n",
       "      <td>20553.271484</td>\n",
       "      <td>20599.537109</td>\n",
       "      <td>20710.597656</td>\n",
       "      <td>19987.029297</td>\n",
       "      <td>21085.876953</td>\n",
       "      <td>21231.656250</td>\n",
       "      <td>21502.337891</td>\n",
       "      <td>21027.294922</td>\n",
       "    </tr>\n",
       "    <tr>\n",
       "      <th>2811</th>\n",
       "      <td>29445.957031</td>\n",
       "      <td>31726.390625</td>\n",
       "      <td>31792.310547</td>\n",
       "      <td>29799.080078</td>\n",
       "      <td>30467.488281</td>\n",
       "      <td>29704.390625</td>\n",
       "      <td>29832.914063</td>\n",
       "      <td>29906.662109</td>\n",
       "      <td>31370.671875</td>\n",
       "      <td>31155.478516</td>\n",
       "      <td>...</td>\n",
       "      <td>19017.642578</td>\n",
       "      <td>20553.271484</td>\n",
       "      <td>20599.537109</td>\n",
       "      <td>20710.597656</td>\n",
       "      <td>19987.029297</td>\n",
       "      <td>21085.876953</td>\n",
       "      <td>21231.656250</td>\n",
       "      <td>21502.337891</td>\n",
       "      <td>21027.294922</td>\n",
       "      <td>20735.478516</td>\n",
       "    </tr>\n",
       "    <tr>\n",
       "      <th>2812</th>\n",
       "      <td>31726.390625</td>\n",
       "      <td>31792.310547</td>\n",
       "      <td>29799.080078</td>\n",
       "      <td>30467.488281</td>\n",
       "      <td>29704.390625</td>\n",
       "      <td>29832.914063</td>\n",
       "      <td>29906.662109</td>\n",
       "      <td>31370.671875</td>\n",
       "      <td>31155.478516</td>\n",
       "      <td>30214.355469</td>\n",
       "      <td>...</td>\n",
       "      <td>20553.271484</td>\n",
       "      <td>20599.537109</td>\n",
       "      <td>20710.597656</td>\n",
       "      <td>19987.029297</td>\n",
       "      <td>21085.876953</td>\n",
       "      <td>21231.656250</td>\n",
       "      <td>21502.337891</td>\n",
       "      <td>21027.294922</td>\n",
       "      <td>20735.478516</td>\n",
       "      <td>20280.634766</td>\n",
       "    </tr>\n",
       "    <tr>\n",
       "      <th>2813</th>\n",
       "      <td>31792.310547</td>\n",
       "      <td>29799.080078</td>\n",
       "      <td>30467.488281</td>\n",
       "      <td>29704.390625</td>\n",
       "      <td>29832.914063</td>\n",
       "      <td>29906.662109</td>\n",
       "      <td>31370.671875</td>\n",
       "      <td>31155.478516</td>\n",
       "      <td>30214.355469</td>\n",
       "      <td>30111.998047</td>\n",
       "      <td>...</td>\n",
       "      <td>20599.537109</td>\n",
       "      <td>20710.597656</td>\n",
       "      <td>19987.029297</td>\n",
       "      <td>21085.876953</td>\n",
       "      <td>21231.656250</td>\n",
       "      <td>21502.337891</td>\n",
       "      <td>21027.294922</td>\n",
       "      <td>20735.478516</td>\n",
       "      <td>20280.634766</td>\n",
       "      <td>20104.023438</td>\n",
       "    </tr>\n",
       "    <tr>\n",
       "      <th>2814</th>\n",
       "      <td>29799.080078</td>\n",
       "      <td>30467.488281</td>\n",
       "      <td>29704.390625</td>\n",
       "      <td>29832.914063</td>\n",
       "      <td>29906.662109</td>\n",
       "      <td>31370.671875</td>\n",
       "      <td>31155.478516</td>\n",
       "      <td>30214.355469</td>\n",
       "      <td>30111.998047</td>\n",
       "      <td>29083.804688</td>\n",
       "      <td>...</td>\n",
       "      <td>20710.597656</td>\n",
       "      <td>19987.029297</td>\n",
       "      <td>21085.876953</td>\n",
       "      <td>21231.656250</td>\n",
       "      <td>21502.337891</td>\n",
       "      <td>21027.294922</td>\n",
       "      <td>20735.478516</td>\n",
       "      <td>20280.634766</td>\n",
       "      <td>20104.023438</td>\n",
       "      <td>19784.726563</td>\n",
       "    </tr>\n",
       "  </tbody>\n",
       "</table>\n",
       "<p>5 rows × 30 columns</p>\n",
       "</div>"
      ],
      "text/plain": [
       "                0             1             2             3             4   \\\n",
       "2810  28814.900391  29445.957031  31726.390625  31792.310547  29799.080078   \n",
       "2811  29445.957031  31726.390625  31792.310547  29799.080078  30467.488281   \n",
       "2812  31726.390625  31792.310547  29799.080078  30467.488281  29704.390625   \n",
       "2813  31792.310547  29799.080078  30467.488281  29704.390625  29832.914063   \n",
       "2814  29799.080078  30467.488281  29704.390625  29832.914063  29906.662109   \n",
       "\n",
       "                5             6             7             8             9   \\\n",
       "2810  30467.488281  29704.390625  29832.914063  29906.662109  31370.671875   \n",
       "2811  29704.390625  29832.914063  29906.662109  31370.671875  31155.478516   \n",
       "2812  29832.914063  29906.662109  31370.671875  31155.478516  30214.355469   \n",
       "2813  29906.662109  31370.671875  31155.478516  30214.355469  30111.998047   \n",
       "2814  31370.671875  31155.478516  30214.355469  30111.998047  29083.804688   \n",
       "\n",
       "      ...            20            21            22            23  \\\n",
       "2810  ...  20471.482422  19017.642578  20553.271484  20599.537109   \n",
       "2811  ...  19017.642578  20553.271484  20599.537109  20710.597656   \n",
       "2812  ...  20553.271484  20599.537109  20710.597656  19987.029297   \n",
       "2813  ...  20599.537109  20710.597656  19987.029297  21085.876953   \n",
       "2814  ...  20710.597656  19987.029297  21085.876953  21231.656250   \n",
       "\n",
       "                24            25            26            27            28  \\\n",
       "2810  20710.597656  19987.029297  21085.876953  21231.656250  21502.337891   \n",
       "2811  19987.029297  21085.876953  21231.656250  21502.337891  21027.294922   \n",
       "2812  21085.876953  21231.656250  21502.337891  21027.294922  20735.478516   \n",
       "2813  21231.656250  21502.337891  21027.294922  20735.478516  20280.634766   \n",
       "2814  21502.337891  21027.294922  20735.478516  20280.634766  20104.023438   \n",
       "\n",
       "                29  \n",
       "2810  21027.294922  \n",
       "2811  20735.478516  \n",
       "2812  20280.634766  \n",
       "2813  20104.023438  \n",
       "2814  19784.726563  \n",
       "\n",
       "[5 rows x 30 columns]"
      ]
     },
     "execution_count": 65,
     "metadata": {},
     "output_type": "execute_result"
    }
   ],
   "source": [
    "sliding.tail()"
   ]
  },
  {
   "cell_type": "code",
   "execution_count": 66,
   "id": "71d3d424",
   "metadata": {},
   "outputs": [],
   "source": [
    "#since first 30 get ommited\n",
    "y=data[\"Close\"][30:]"
   ]
  },
  {
   "cell_type": "code",
   "execution_count": 67,
   "id": "5252d1b9",
   "metadata": {},
   "outputs": [],
   "source": [
    "y=pd.DataFrame(y)"
   ]
  },
  {
   "cell_type": "markdown",
   "id": "0d0984c6",
   "metadata": {},
   "source": [
    "### Splitting the last 30 days as the validation set"
   ]
  },
  {
   "cell_type": "code",
   "execution_count": 68,
   "id": "643e43f4",
   "metadata": {},
   "outputs": [],
   "source": [
    "y_val = y[2785:]"
   ]
  },
  {
   "cell_type": "code",
   "execution_count": 69,
   "id": "68f91e98",
   "metadata": {},
   "outputs": [],
   "source": [
    "X_val=sliding[2785:]"
   ]
  },
  {
   "cell_type": "code",
   "execution_count": 80,
   "id": "a6193ac9",
   "metadata": {},
   "outputs": [],
   "source": [
    "#last 30 get ommited as they are the validation set\n",
    "X=sliding[:2785]\n",
    "y1=y[:2785]"
   ]
  },
  {
   "cell_type": "markdown",
   "id": "d43d8e9d",
   "metadata": {},
   "source": [
    "### Split Data to prepare train and test set"
   ]
  },
  {
   "cell_type": "code",
   "execution_count": 71,
   "id": "978cf1b5",
   "metadata": {},
   "outputs": [],
   "source": [
    "X_train, X_test, y_train, y_test = train_test_split(\n",
    "    X, y1, test_size=0.30, random_state=1\n",
    ")"
   ]
  },
  {
   "cell_type": "code",
   "execution_count": 72,
   "id": "57ed3ca9",
   "metadata": {},
   "outputs": [
    {
     "name": "stdout",
     "output_type": "stream",
     "text": [
      "Shape of Training set :  (1949, 30)\n",
      "Shape of test set :  (836, 30)\n"
     ]
    }
   ],
   "source": [
    "print(\"Shape of Training set : \", X_train.shape)\n",
    "print(\"Shape of test set : \", X_test.shape)"
   ]
  },
  {
   "cell_type": "markdown",
   "id": "b6a4bb08",
   "metadata": {},
   "source": [
    "### Export Data to S3 for Model Training"
   ]
  },
  {
   "cell_type": "code",
   "execution_count": 73,
   "id": "2473c01a",
   "metadata": {},
   "outputs": [],
   "source": [
    "#for method 1\n",
    "np.save(\"X_train_close.npy\", X_train)\n",
    "np.save(\"y_train_close.npy\", y_train)\n",
    "np.save(\"X_test_close.npy\", X_test)\n",
    "np.save(\"y_test_close.npy\", y_test)\n",
    "np.save(\"X_val_close.npy\", X_val)\n",
    "np.save(\"y_val_close.npy\", y_val)"
   ]
  },
  {
   "cell_type": "code",
   "execution_count": 74,
   "id": "29286213",
   "metadata": {},
   "outputs": [
    {
     "name": "stdout",
     "output_type": "stream",
     "text": [
      "None\n"
     ]
    }
   ],
   "source": [
    "s3 = session.resource('s3') \n",
    "local_path = 'X_train_close.npy' \n",
    "s3_filename =  'X_train_close.npy' \n",
    "result = s3.Bucket('data-use-case-btc-prediction').upload_file(local_path,s3_filename)  \n",
    "print(result)"
   ]
  },
  {
   "cell_type": "code",
   "execution_count": 75,
   "id": "cf96bc32",
   "metadata": {},
   "outputs": [
    {
     "name": "stdout",
     "output_type": "stream",
     "text": [
      "None\n"
     ]
    }
   ],
   "source": [
    "s3 = session.resource('s3') \n",
    "local_path = 'y_train_close.npy' \n",
    "s3_filename =  'y_train_close.npy' \n",
    "result = s3.Bucket('data-use-case-btc-prediction').upload_file(local_path,s3_filename)  \n",
    "print(result)"
   ]
  },
  {
   "cell_type": "code",
   "execution_count": 76,
   "id": "6fa887e0",
   "metadata": {},
   "outputs": [
    {
     "name": "stdout",
     "output_type": "stream",
     "text": [
      "None\n"
     ]
    }
   ],
   "source": [
    "s3 = session.resource('s3') \n",
    "local_path = 'X_test_close.npy' \n",
    "s3_filename =  'X_test_close.npy' \n",
    "result = s3.Bucket('data-use-case-btc-prediction').upload_file(local_path,s3_filename)  \n",
    "print(result)"
   ]
  },
  {
   "cell_type": "code",
   "execution_count": 77,
   "id": "e6937b2b",
   "metadata": {},
   "outputs": [
    {
     "name": "stdout",
     "output_type": "stream",
     "text": [
      "None\n"
     ]
    }
   ],
   "source": [
    "s3 = session.resource('s3') \n",
    "local_path = 'y_test_close.npy' \n",
    "s3_filename =  'y_test_close.npy' \n",
    "result = s3.Bucket('data-use-case-btc-prediction').upload_file(local_path,s3_filename)  \n",
    "print(result)"
   ]
  },
  {
   "cell_type": "code",
   "execution_count": 78,
   "id": "e735ec27",
   "metadata": {},
   "outputs": [
    {
     "name": "stdout",
     "output_type": "stream",
     "text": [
      "None\n"
     ]
    }
   ],
   "source": [
    "s3 = session.resource('s3') \n",
    "local_path = 'X_val_close.npy' \n",
    "s3_filename =  'X_val_close.npy' \n",
    "result = s3.Bucket('data-use-case-btc-prediction').upload_file(local_path,s3_filename)  \n",
    "print(result)"
   ]
  },
  {
   "cell_type": "code",
   "execution_count": 79,
   "id": "c6ef6a70",
   "metadata": {},
   "outputs": [
    {
     "name": "stdout",
     "output_type": "stream",
     "text": [
      "None\n"
     ]
    }
   ],
   "source": [
    "s3 = session.resource('s3') \n",
    "local_path = 'y_val_close.npy' \n",
    "s3_filename =  'y_val_close.npy' \n",
    "result = s3.Bucket('data-use-case-btc-prediction').upload_file(local_path,s3_filename)  \n",
    "print(result)"
   ]
  }
 ],
 "metadata": {
  "kernelspec": {
   "display_name": "conda_python3",
   "language": "python",
   "name": "conda_python3"
  },
  "language_info": {
   "codemirror_mode": {
    "name": "ipython",
    "version": 3
   },
   "file_extension": ".py",
   "mimetype": "text/x-python",
   "name": "python",
   "nbconvert_exporter": "python",
   "pygments_lexer": "ipython3",
   "version": "3.8.12"
  }
 },
 "nbformat": 4,
 "nbformat_minor": 5
}
