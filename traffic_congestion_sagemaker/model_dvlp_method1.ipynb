{
 "cells": [
  {
   "cell_type": "markdown",
   "id": "aa9ee233",
   "metadata": {},
   "source": [
    "# 4.a Model Development (Method 1)"
   ]
  },
  {
   "cell_type": "markdown",
   "id": "d2592a36",
   "metadata": {},
   "source": [
    "### Import Necessary Packages"
   ]
  },
  {
   "cell_type": "code",
   "execution_count": 15,
   "id": "d2def70a",
   "metadata": {},
   "outputs": [
    {
     "name": "stdout",
     "output_type": "stream",
     "text": [
      "Success - the MySageMakerInstance is in the us-east-1 region. You will use the 811284229777.dkr.ecr.us-east-1.amazonaws.com/xgboost:latest container for your SageMaker endpoint.\n"
     ]
    }
   ],
   "source": [
    "# Library to suppress warnings or deprecation notes\n",
    "import warnings\n",
    "warnings.filterwarnings(\"ignore\")\n",
    "# Libraries to help with reading and manipulating data\n",
    "import numpy as np\n",
    "import pandas as pd\n",
    "# Libraries to help with data visualization\n",
    "import matplotlib.pyplot as plt\n",
    "%matplotlib inline\n",
    "import seaborn as sns\n",
    "# Libraries to split data, impute missing values\n",
    "from sklearn.model_selection import train_test_split\n",
    "from sklearn.impute import SimpleImputer\n",
    "# Libraries to import decision tree classifier \n",
    "from sklearn.ensemble import RandomForestClassifier\n",
    "from sklearn.tree import DecisionTreeClassifier\n",
    "# Libtune to tune model, get different metric scores\n",
    "from sklearn import metrics\n",
    "from sklearn.metrics import (\n",
    "    confusion_matrix,\n",
    "    classification_report,\n",
    "    accuracy_score,\n",
    "    precision_score,\n",
    "    recall_score,\n",
    ")\n",
    "from sklearn.metrics import f1_score, roc_auc_score\n",
    "from sklearn.model_selection import GridSearchCV\n",
    "import boto3, re, sys, math, json, os, sagemaker, urllib.request\n",
    "from sagemaker import get_execution_role\n",
    "import numpy as np\n",
    "import pandas as pd\n",
    "import matplotlib.pyplot as plt\n",
    "from IPython.display import Image\n",
    "from IPython.display import display\n",
    "from time import gmtime, strftime\n",
    "from sagemaker.predictor import csv_serializer\n",
    "\n",
    "# Define IAM role\n",
    "role = get_execution_role()\n",
    "prefix = 'sagemaker/DEMO-xgboost-dm'\n",
    "my_region = boto3.session.Session().region_name # set the region of the instance\n",
    "import io  \n",
    "import joblib\n",
    "import tarfile\n",
    "from sagemaker.sklearn.model import SKLearnModel\n",
    "\n",
    "# this line automatically looks for the XGBoost image URI and builds an XGBoost container.\n",
    "xgboost_container = sagemaker.image_uris.retrieve(\"xgboost\", my_region, \"latest\")\n",
    "\n",
    "print(\"Success - the MySageMakerInstance is in the \" + my_region + \" region. You will use the \" + xgboost_container + \" container for your SageMaker endpoint.\")"
   ]
  },
  {
   "cell_type": "markdown",
   "id": "1656ba01",
   "metadata": {},
   "source": [
    "## Load data from S3"
   ]
  },
  {
   "cell_type": "code",
   "execution_count": 38,
   "id": "33847981",
   "metadata": {},
   "outputs": [
    {
     "data": {
      "text/plain": [
       "'arn:aws:iam::190183093544:role/service-role/AmazonSageMaker-ExecutionRole-20220602T141236'"
      ]
     },
     "execution_count": 38,
     "metadata": {},
     "output_type": "execute_result"
    }
   ],
   "source": [
    "role"
   ]
  },
  {
   "cell_type": "code",
   "execution_count": 18,
   "id": "9d670d36",
   "metadata": {},
   "outputs": [],
   "source": [
    "session = boto3.Session()"
   ]
  },
  {
   "cell_type": "code",
   "execution_count": 19,
   "id": "ab02020b",
   "metadata": {},
   "outputs": [],
   "source": [
    "bucket='data-aman-use-case'  \n",
    "file_key = 'X.csv' \n",
    "  \n",
    "s3_client = boto3.client('s3')  \n",
    "obj = s3_client.get_object(Bucket=bucket, Key=file_key)  \n",
    "X = pd.read_csv(io.BytesIO(obj['Body'].read()))  "
   ]
  },
  {
   "cell_type": "code",
   "execution_count": 20,
   "id": "ea6a3c39",
   "metadata": {},
   "outputs": [],
   "source": [
    "bucket='data-aman-use-case'  \n",
    "file_key = 'y.csv' \n",
    "  \n",
    "s3_client = boto3.client('s3')  \n",
    "obj = s3_client.get_object(Bucket=bucket, Key=file_key)  \n",
    "y = pd.read_csv(io.BytesIO(obj['Body'].read()))  "
   ]
  },
  {
   "cell_type": "markdown",
   "id": "8c866f6e",
   "metadata": {},
   "source": [
    "### Load Data"
   ]
  },
  {
   "cell_type": "code",
   "execution_count": 21,
   "id": "33a6033f",
   "metadata": {},
   "outputs": [],
   "source": [
    "X = pd.read_csv(\"X.csv\")\n",
    "y = pd.read_csv(\"y.csv\")"
   ]
  },
  {
   "cell_type": "markdown",
   "id": "4393bec4",
   "metadata": {},
   "source": [
    "### Split the Train and Test Data "
   ]
  },
  {
   "cell_type": "code",
   "execution_count": 22,
   "id": "d25d68e0",
   "metadata": {},
   "outputs": [],
   "source": [
    "X_train, X_test, y_train, y_test = train_test_split(\n",
    "    X, y, test_size=0.30, random_state=1\n",
    ")"
   ]
  },
  {
   "cell_type": "code",
   "execution_count": 23,
   "id": "515a407d",
   "metadata": {},
   "outputs": [
    {
     "name": "stdout",
     "output_type": "stream",
     "text": [
      "Shape of Training set :  (194357, 143)\n",
      "Shape of test set :  (83297, 143)\n",
      "Percentage of classes in training set:\n",
      "Data_prediction\n",
      "0                  0.500116\n",
      "1                  0.499884\n",
      "dtype: float64\n",
      "Percentage of classes in test set:\n",
      "Data_prediction\n",
      "1                  0.50027\n",
      "0                  0.49973\n",
      "dtype: float64\n"
     ]
    }
   ],
   "source": [
    "print(\"Shape of Training set : \", X_train.shape)\n",
    "print(\"Shape of test set : \", X_test.shape)\n",
    "print(\"Percentage of classes in training set:\")\n",
    "print(y_train.value_counts(normalize=True))\n",
    "print(\"Percentage of classes in test set:\")\n",
    "print(y_test.value_counts(normalize=True))"
   ]
  },
  {
   "cell_type": "markdown",
   "id": "566cc075",
   "metadata": {},
   "source": [
    "Earlier we coverted 0 to being smooth and 1 being congested <br> Above we see that 70% of the data is in the Training set and 30% of the data is in the test set"
   ]
  },
  {
   "cell_type": "markdown",
   "id": "89374769",
   "metadata": {},
   "source": [
    "### Convert and upload data to S3"
   ]
  },
  {
   "cell_type": "code",
   "execution_count": 30,
   "id": "068b0cad",
   "metadata": {},
   "outputs": [],
   "source": [
    "X_train.to_csv('X_train.csv', index=False)\n",
    "y_train.to_csv('y_train.csv', index=False)\n",
    "X_test.to_csv('X_test.csv', index=False)\n",
    "y_test.to_csv('y_test.csv', index=False)"
   ]
  },
  {
   "cell_type": "code",
   "execution_count": 31,
   "id": "3731e034",
   "metadata": {},
   "outputs": [
    {
     "name": "stdout",
     "output_type": "stream",
     "text": [
      "None\n"
     ]
    }
   ],
   "source": [
    "s3 = session.resource('s3') \n",
    "local_path = 'X_train.csv' \n",
    "s3_filename =  'X_train.csv' \n",
    "result = s3.Bucket('data-aman-use-case').upload_file(local_path,s3_filename)  \n",
    "print(result)"
   ]
  },
  {
   "cell_type": "code",
   "execution_count": 32,
   "id": "1232c029",
   "metadata": {},
   "outputs": [
    {
     "name": "stdout",
     "output_type": "stream",
     "text": [
      "None\n"
     ]
    }
   ],
   "source": [
    "s3 = session.resource('s3') \n",
    "local_path = 'y_train.csv' \n",
    "s3_filename =  'y_train.csv' \n",
    "result = s3.Bucket('data-aman-use-case').upload_file(local_path,s3_filename)  \n",
    "print(result)"
   ]
  },
  {
   "cell_type": "code",
   "execution_count": 33,
   "id": "dd359185",
   "metadata": {},
   "outputs": [
    {
     "name": "stdout",
     "output_type": "stream",
     "text": [
      "None\n"
     ]
    }
   ],
   "source": [
    "s3 = session.resource('s3') \n",
    "local_path = 'X_test.csv' \n",
    "s3_filename =  'X_test.csv' \n",
    "result = s3.Bucket('data-aman-use-case').upload_file(local_path,s3_filename)  \n",
    "print(result)"
   ]
  },
  {
   "cell_type": "code",
   "execution_count": 34,
   "id": "7669db3a",
   "metadata": {},
   "outputs": [
    {
     "name": "stdout",
     "output_type": "stream",
     "text": [
      "None\n"
     ]
    }
   ],
   "source": [
    "s3 = session.resource('s3') \n",
    "local_path = 'y_test.csv' \n",
    "s3_filename =  'y_test.csv' \n",
    "result = s3.Bucket('data-aman-use-case').upload_file(local_path,s3_filename)  \n",
    "print(result)"
   ]
  },
  {
   "cell_type": "markdown",
   "id": "8d1a1479",
   "metadata": {},
   "source": [
    "### Defining functions to get the model performance metrics and build the confusion matrix "
   ]
  },
  {
   "cell_type": "code",
   "execution_count": 35,
   "id": "eb227289",
   "metadata": {},
   "outputs": [],
   "source": [
    "# defining a function to compute different metrics to check performance of a classification model built using sklearn\n",
    "def model_performance_classification_sklearn(model, predictors, target):\n",
    "    \"\"\"\n",
    "    Function to compute different metrics to check classification model performance\n",
    "\n",
    "    model: classifier\n",
    "    predictors: independent variables\n",
    "    target: dependent variable\n",
    "    \"\"\"\n",
    "\n",
    "    # predicting using the independent variables\n",
    "    pred = model.predict(predictors)\n",
    "\n",
    "    acc = accuracy_score(target, pred)  # to compute Accuracy\n",
    "    recall = recall_score(target, pred)  # to compute Recall\n",
    "    precision = precision_score(target, pred)  # to compute Precision\n",
    "    f1 = f1_score(target, pred)  # to compute F1-score\n",
    "\n",
    "    # creating a dataframe of metrics\n",
    "    df_perf = pd.DataFrame(\n",
    "        {\"Accuracy\": acc, \"Recall\": recall, \"Precision\": precision, \"F1\": f1,},\n",
    "        index=[0],\n",
    "    )\n",
    "\n",
    "    return df_perf"
   ]
  },
  {
   "cell_type": "code",
   "execution_count": 36,
   "id": "db6906c3",
   "metadata": {},
   "outputs": [],
   "source": [
    "#defining function to build the confusion matrix\n",
    "def confusion_matrix_sklearn(model, predictors, target):\n",
    "    \"\"\"\n",
    "    To plot the confusion_matrix with percentages\n",
    "\n",
    "    model: classifier\n",
    "    predictors: independent variables\n",
    "    target: dependent variable\n",
    "    \"\"\"\n",
    "    y_pred = model.predict(predictors)\n",
    "    cm = confusion_matrix(target, y_pred)\n",
    "    labels = np.asarray(\n",
    "        [\n",
    "            [\"{0:0.0f}\".format(item) + \"\\n{0:.2%}\".format(item / cm.flatten().sum())]\n",
    "            for item in cm.flatten()\n",
    "        ]\n",
    "    ).reshape(2, 2)\n",
    "\n",
    "    plt.figure(figsize=(6, 4))\n",
    "    sns.heatmap(cm, annot=labels, fmt=\"\")\n",
    "    plt.ylabel(\"True label\")\n",
    "    plt.xlabel(\"Predicted label\")"
   ]
  },
  {
   "cell_type": "markdown",
   "id": "c3fc6c8a",
   "metadata": {},
   "source": [
    "### Build Decision Tree Model "
   ]
  },
  {
   "cell_type": "code",
   "execution_count": 26,
   "id": "4f92c17d",
   "metadata": {},
   "outputs": [
    {
     "name": "stdout",
     "output_type": "stream",
     "text": [
      "Training performance:\n",
      "    Accuracy    Recall  Precision        F1\n",
      "0  0.994731  0.994329   0.995128  0.994728\n",
      "Testing performance:\n",
      "    Accuracy    Recall  Precision        F1\n",
      "0  0.994225  0.994145   0.994312  0.994228\n"
     ]
    },
    {
     "data": {
      "image/png": "[encoded data removed]",
      "text/plain": [
       "<Figure size 432x288 with 2 Axes>"
      ]
     },
     "metadata": {
      "needs_background": "light"
     },
     "output_type": "display_data"
    }
   ],
   "source": [
    "#Fitting the model\n",
    "d_tree = DecisionTreeClassifier(random_state=1)\n",
    "d_tree.fit(X_train,y_train)\n",
    "\n",
    "#Calculating different metrics\n",
    "d_tree_model_train_perf=model_performance_classification_sklearn(d_tree, X_train,y_train)\n",
    "print(\"Training performance:\\n\", d_tree_model_train_perf)\n",
    "d_tree_model_test_perf=model_performance_classification_sklearn(d_tree, X_test,y_test)\n",
    "print(\"Testing performance:\\n\", d_tree_model_test_perf)\n",
    "#Creating confusion matrix\n",
    "confusion_matrix_sklearn(d_tree,X_test,y_test)\n"
   ]
  },
  {
   "cell_type": "markdown",
   "id": "4e32f635",
   "metadata": {},
   "source": [
    "We get good results with around 99.5% accuracy on the training set and a similar 99.4% accuray on the testing set. <br> We also notice that all the metrics have more than 99% perfromance on both the training and the testing set. <br> To further check what features are most important we will check two more models using random forest classifier and XG Boost and we expect to obtain simmilar results in terms of performance."
   ]
  },
  {
   "cell_type": "markdown",
   "id": "f8dd44fc",
   "metadata": {},
   "source": [
    "### Save model"
   ]
  },
  {
   "cell_type": "code",
   "execution_count": 27,
   "id": "a181216e",
   "metadata": {},
   "outputs": [
    {
     "data": {
      "text/plain": [
       "['model.joblib']"
      ]
     },
     "execution_count": 27,
     "metadata": {},
     "output_type": "execute_result"
    }
   ],
   "source": [
    "path = os.path.join(\"model.joblib\")\n",
    "joblib.dump(d_tree, path)"
   ]
  },
  {
   "cell_type": "markdown",
   "id": "bab65d17",
   "metadata": {},
   "source": [
    "### SageMaker deployment"
   ]
  },
  {
   "cell_type": "code",
   "execution_count": 28,
   "id": "01a13d94",
   "metadata": {},
   "outputs": [],
   "source": [
    "with tarfile.open('model.tar.gz', \"w:gz\") as tar:\n",
    "    tar.add('model.joblib')"
   ]
  },
  {
   "cell_type": "code",
   "execution_count": 29,
   "id": "9fcbd796",
   "metadata": {},
   "outputs": [
    {
     "name": "stdout",
     "output_type": "stream",
     "text": [
      "None\n"
     ]
    }
   ],
   "source": [
    "session = boto3.Session()\n",
    "s3 = session.resource('s3')\n",
    "\n",
    "local_path = 'model.tar.gz' \n",
    "s3_filename =  'model.tar.gz' \n",
    "result = s3.Bucket(bucket).upload_file(local_path, s3_filename)  \n",
    "print(result)"
   ]
  },
  {
   "cell_type": "code",
   "execution_count": 39,
   "id": "04ea8239",
   "metadata": {},
   "outputs": [],
   "source": [
    "sm_model = SKLearnModel(\n",
    "    model_data='s3://' + bucket + '/model.tar.gz',\n",
    "    role=get_execution_role(),\n",
    "    entry_point='script.py',\n",
    "    framework_version='0.23-1')"
   ]
  },
  {
   "cell_type": "code",
   "execution_count": 41,
   "id": "5d24d53c",
   "metadata": {},
   "outputs": [
    {
     "name": "stdout",
     "output_type": "stream",
     "text": [
      "-----!"
     ]
    }
   ],
   "source": [
    "predictor = sm_model.deploy(\n",
    "    instance_type='ml.c5.large',\n",
    "    initial_instance_count=1)"
   ]
  },
  {
   "cell_type": "code",
   "execution_count": null,
   "id": "6bd1ad94",
   "metadata": {},
   "outputs": [],
   "source": [
    "pred_test = predictor.predict(X_test)"
   ]
  },
  {
   "cell_type": "code",
   "execution_count": null,
   "id": "85c6625a",
   "metadata": {},
   "outputs": [],
   "source": [
    "pred_test[0:10]"
   ]
  },
  {
   "cell_type": "markdown",
   "id": "92a91c7c",
   "metadata": {},
   "source": [
    "### Clean up"
   ]
  },
  {
   "cell_type": "code",
   "execution_count": null,
   "id": "dcbd41be",
   "metadata": {},
   "outputs": [],
   "source": [
    "predictor.delete_endpoint() "
   ]
  },
  {
   "cell_type": "code",
   "execution_count": null,
   "id": "9e2f263f",
   "metadata": {},
   "outputs": [],
   "source": [
    "predictor.delete_model()"
   ]
  },
  {
   "cell_type": "markdown",
   "id": "58536fa9",
   "metadata": {},
   "source": [
    "### Bussiness Insights  "
   ]
  },
  {
   "cell_type": "markdown",
   "id": "c3c2cc31",
   "metadata": {},
   "source": [
    "The Five most important features to build the model to predict the traffic status are as follows: <br> 1. Fastest Route Time <br> 2. Fastest Route Distance <br> 3. Destination Location <br> 4. Starting Location <br> 5. Day of the Week <br> With these features being given, current traffic situation can be predicted accurately."
   ]
  }
 ],
 "metadata": {
  "kernelspec": {
   "display_name": "conda_python3",
   "language": "python",
   "name": "conda_python3"
  },
  "language_info": {
   "codemirror_mode": {
    "name": "ipython",
    "version": 3
   },
   "file_extension": ".py",
   "mimetype": "text/x-python",
   "name": "python",
   "nbconvert_exporter": "python",
   "pygments_lexer": "ipython3",
   "version": "3.8.12"
  }
 },
 "nbformat": 4,
 "nbformat_minor": 5
}
