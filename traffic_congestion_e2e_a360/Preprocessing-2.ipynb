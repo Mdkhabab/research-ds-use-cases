{
 "cells": [
  {
   "cell_type": "markdown",
   "id": "6ea777f1",
   "metadata": {},
   "source": [
    "# 3. Data Preprocessing and Feature Engineering"
   ]
  },
  {
   "cell_type": "code",
   "execution_count": 6,
   "id": "7d31df0c-001d-43c1-b2cd-750fde97faab",
   "metadata": {},
   "outputs": [
    {
     "data": {
      "text/plain": [
       "<A360 AI Interface for project: use-case-logistics>"
      ]
     },
     "execution_count": 6,
     "metadata": {},
     "output_type": "execute_result"
    }
   ],
   "source": [
    "a360ai"
   ]
  },
  {
   "cell_type": "code",
   "execution_count": 7,
   "id": "52a7fe4e-a4dc-447d-af0f-a7ad30d5cfc5",
   "metadata": {},
   "outputs": [
    {
     "data": {
      "text/plain": [
       "'use-case-logistics'"
      ]
     },
     "execution_count": 7,
     "metadata": {},
     "output_type": "execute_result"
    }
   ],
   "source": [
    "# Get default data repo\n",
    "DATAREPO_LIST = a360ai.list_datarepos()\n",
    "DATAREPO = DATAREPO_LIST['name'][0]\n",
    "DATAREPO"
   ]
  },
  {
   "cell_type": "code",
   "execution_count": 8,
   "id": "87712048",
   "metadata": {},
   "outputs": [],
   "source": [
    "import numpy as np\n",
    "import pandas as pd\n",
    "from sklearn.preprocessing import OneHotEncoder"
   ]
  },
  {
   "cell_type": "markdown",
   "id": "1c90f1f5-22f5-476f-9008-7722795c7b66",
   "metadata": {},
   "source": [
    "## 1. Set Default Data Repo and load data"
   ]
  },
  {
   "cell_type": "code",
   "execution_count": 9,
   "id": "77280aec-4361-4900-8657-c14ef279d1e1",
   "metadata": {},
   "outputs": [],
   "source": [
    "a360ai.set_default_datarepo(DATAREPO)"
   ]
  },
  {
   "cell_type": "code",
   "execution_count": 10,
   "id": "78b4ba09-0998-40dc-ad55-4320741cdba4",
   "metadata": {},
   "outputs": [
    {
     "data": {
      "text/html": [
       "<div>\n",
       "<style scoped>\n",
       "    .dataframe tbody tr th:only-of-type {\n",
       "        vertical-align: middle;\n",
       "    }\n",
       "\n",
       "    .dataframe tbody tr th {\n",
       "        vertical-align: top;\n",
       "    }\n",
       "\n",
       "    .dataframe thead th {\n",
       "        text-align: right;\n",
       "    }\n",
       "</style>\n",
       "<table border=\"1\" class=\"dataframe\">\n",
       "  <thead>\n",
       "    <tr style=\"text-align: right;\">\n",
       "      <th></th>\n",
       "      <th>base_name</th>\n",
       "      <th>extension</th>\n",
       "      <th>size</th>\n",
       "    </tr>\n",
       "  </thead>\n",
       "  <tbody>\n",
       "    <tr>\n",
       "      <th>0</th>\n",
       "      <td>data_traffic_congestion_2020.csv</td>\n",
       "      <td>csv</td>\n",
       "      <td>36377405</td>\n",
       "    </tr>\n",
       "  </tbody>\n",
       "</table>\n",
       "</div>"
      ],
      "text/plain": [
       "                          base_name extension      size\n",
       "0  data_traffic_congestion_2020.csv       csv  36377405"
      ]
     },
     "execution_count": 10,
     "metadata": {},
     "output_type": "execute_result"
    }
   ],
   "source": [
    "a360ai.list_datasets()"
   ]
  },
  {
   "cell_type": "code",
   "execution_count": 11,
   "id": "76a95eac",
   "metadata": {},
   "outputs": [],
   "source": [
    "data = a360ai.load_dataset('data_traffic_congestion_2020.csv')"
   ]
  },
  {
   "cell_type": "code",
   "execution_count": 12,
   "id": "821480c2",
   "metadata": {},
   "outputs": [
    {
     "data": {
      "text/html": [
       "<div>\n",
       "<style scoped>\n",
       "    .dataframe tbody tr th:only-of-type {\n",
       "        vertical-align: middle;\n",
       "    }\n",
       "\n",
       "    .dataframe tbody tr th {\n",
       "        vertical-align: top;\n",
       "    }\n",
       "\n",
       "    .dataframe thead th {\n",
       "        text-align: right;\n",
       "    }\n",
       "</style>\n",
       "<table border=\"1\" class=\"dataframe\">\n",
       "  <thead>\n",
       "    <tr style=\"text-align: right;\">\n",
       "      <th></th>\n",
       "      <th>Date</th>\n",
       "      <th>Day</th>\n",
       "      <th>Destination_Location</th>\n",
       "      <th>Fastest_Route_Distance</th>\n",
       "      <th>Fastest_Route_Name</th>\n",
       "      <th>Fastest_Route_Time</th>\n",
       "      <th>Holiday</th>\n",
       "      <th>Special_Condition</th>\n",
       "      <th>Starting_Location</th>\n",
       "      <th>Sys_Time</th>\n",
       "      <th>Weather</th>\n",
       "      <th>Data_prediction</th>\n",
       "    </tr>\n",
       "  </thead>\n",
       "  <tbody>\n",
       "    <tr>\n",
       "      <th>0</th>\n",
       "      <td>13/02/2020</td>\n",
       "      <td>Thursday</td>\n",
       "      <td>9th_avenue</td>\n",
       "      <td>1000</td>\n",
       "      <td>Jinnah Avenue</td>\n",
       "      <td>60</td>\n",
       "      <td>no</td>\n",
       "      <td>no</td>\n",
       "      <td>capital_gymkhana</td>\n",
       "      <td>0:00:01</td>\n",
       "      <td>Showers</td>\n",
       "      <td>smooth</td>\n",
       "    </tr>\n",
       "    <tr>\n",
       "      <th>1</th>\n",
       "      <td>13/02/2020</td>\n",
       "      <td>Thursday</td>\n",
       "      <td>centaurus</td>\n",
       "      <td>1300</td>\n",
       "      <td>Jinnah Avenue</td>\n",
       "      <td>120</td>\n",
       "      <td>no</td>\n",
       "      <td>no</td>\n",
       "      <td>9th_avenue</td>\n",
       "      <td>0:00:09</td>\n",
       "      <td>Showers</td>\n",
       "      <td>highly congested</td>\n",
       "    </tr>\n",
       "    <tr>\n",
       "      <th>2</th>\n",
       "      <td>13/02/2020</td>\n",
       "      <td>Thursday</td>\n",
       "      <td>crown_plaza</td>\n",
       "      <td>1000</td>\n",
       "      <td>Jinnah Avenue and Faisal Avenue Flyover</td>\n",
       "      <td>60</td>\n",
       "      <td>no</td>\n",
       "      <td>no</td>\n",
       "      <td>centaurus</td>\n",
       "      <td>0:00:17</td>\n",
       "      <td>Showers</td>\n",
       "      <td>smooth</td>\n",
       "    </tr>\n",
       "    <tr>\n",
       "      <th>3</th>\n",
       "      <td>13/02/2020</td>\n",
       "      <td>Thursday</td>\n",
       "      <td>roshan_plaza</td>\n",
       "      <td>2700</td>\n",
       "      <td>Jinnah Ave</td>\n",
       "      <td>180</td>\n",
       "      <td>no</td>\n",
       "      <td>no</td>\n",
       "      <td>crown_plaza</td>\n",
       "      <td>0:00:24</td>\n",
       "      <td>Showers</td>\n",
       "      <td>smooth</td>\n",
       "    </tr>\n",
       "    <tr>\n",
       "      <th>4</th>\n",
       "      <td>13/02/2020</td>\n",
       "      <td>Thursday</td>\n",
       "      <td>salt_and_pepper</td>\n",
       "      <td>3900</td>\n",
       "      <td>Jinnah Ave</td>\n",
       "      <td>300</td>\n",
       "      <td>no</td>\n",
       "      <td>no</td>\n",
       "      <td>roshan_plaza</td>\n",
       "      <td>0:00:31</td>\n",
       "      <td>Showers</td>\n",
       "      <td>slightly congested</td>\n",
       "    </tr>\n",
       "  </tbody>\n",
       "</table>\n",
       "</div>"
      ],
      "text/plain": [
       "         Date       Day Destination_Location  Fastest_Route_Distance  \\\n",
       "0  13/02/2020  Thursday           9th_avenue                    1000   \n",
       "1  13/02/2020  Thursday            centaurus                    1300   \n",
       "2  13/02/2020  Thursday          crown_plaza                    1000   \n",
       "3  13/02/2020  Thursday         roshan_plaza                    2700   \n",
       "4  13/02/2020  Thursday      salt_and_pepper                    3900   \n",
       "\n",
       "                        Fastest_Route_Name  Fastest_Route_Time Holiday  \\\n",
       "0                            Jinnah Avenue                  60      no   \n",
       "1                            Jinnah Avenue                 120      no   \n",
       "2  Jinnah Avenue and Faisal Avenue Flyover                  60      no   \n",
       "3                               Jinnah Ave                 180      no   \n",
       "4                               Jinnah Ave                 300      no   \n",
       "\n",
       "  Special_Condition Starting_Location Sys_Time  Weather     Data_prediction  \n",
       "0                no  capital_gymkhana  0:00:01  Showers              smooth  \n",
       "1                no        9th_avenue  0:00:09  Showers    highly congested  \n",
       "2                no         centaurus  0:00:17  Showers              smooth  \n",
       "3                no       crown_plaza  0:00:24  Showers              smooth  \n",
       "4                no      roshan_plaza  0:00:31  Showers  slightly congested  "
      ]
     },
     "execution_count": 12,
     "metadata": {},
     "output_type": "execute_result"
    }
   ],
   "source": [
    "data.head()"
   ]
  },
  {
   "cell_type": "markdown",
   "id": "a79c1a71",
   "metadata": {},
   "source": [
    "#### Creating features for Date"
   ]
  },
  {
   "cell_type": "code",
   "execution_count": 13,
   "id": "c4e2d125",
   "metadata": {},
   "outputs": [],
   "source": [
    "data['Date'] = pd.to_datetime(data.Date, format='%d/%m/%Y')"
   ]
  },
  {
   "cell_type": "code",
   "execution_count": 14,
   "id": "ff32b81d",
   "metadata": {},
   "outputs": [],
   "source": [
    "#defining the fucntion\n",
    "def create_date_features(df):\n",
    "    df['month'] = df.Date.dt.month\n",
    "    df['day_of_month'] = df.Date.dt.day\n",
    "    df['day_of_year'] = df.Date.dt.dayofyear\n",
    "    df['week_of_year'] = df.Date.dt.weekofyear\n",
    "    df['year'] = df.Date.dt.year\n",
    "    #check\n",
    "    df[\"is_wknd\"] = df.Date.dt.weekday // 4\n",
    "    df['is_month_start'] = df.Date.dt.is_month_start.astype(int)\n",
    "    df['is_month_end'] = df.Date.dt.is_month_end.astype(int)\n",
    "    return df"
   ]
  },
  {
   "cell_type": "code",
   "execution_count": 15,
   "id": "11f93337",
   "metadata": {},
   "outputs": [],
   "source": [
    "#convertig to category reduces data space required\n",
    "data[\"Destination_Location\"]=data[\"Destination_Location\"].astype(\"category\")\n",
    "data[\"Day\"]=data[\"Day\"].astype(\"category\")\n",
    "data[\"Fastest_Route_Name\"]=data[\"Fastest_Route_Name\"].astype(\"category\")\n",
    "data[\"Starting_Location\"]=data[\"Starting_Location\"].astype(\"category\")\n",
    "data[\"Weather\"]=data[\"Weather\"].astype(\"category\")\n"
   ]
  },
  {
   "cell_type": "code",
   "execution_count": 16,
   "id": "78112a2b",
   "metadata": {},
   "outputs": [
    {
     "name": "stderr",
     "output_type": "stream",
     "text": [
      "/tmp/ipykernel_132/510484872.py:6: FutureWarning: Series.dt.weekofyear and Series.dt.week have been deprecated. Please use Series.dt.isocalendar().week instead.\n",
      "  df['week_of_year'] = df.Date.dt.weekofyear\n"
     ]
    }
   ],
   "source": [
    "data = create_date_features(data)"
   ]
  },
  {
   "cell_type": "code",
   "execution_count": 17,
   "id": "e04a6a1e",
   "metadata": {},
   "outputs": [
    {
     "data": {
      "text/html": [
       "<div>\n",
       "<style scoped>\n",
       "    .dataframe tbody tr th:only-of-type {\n",
       "        vertical-align: middle;\n",
       "    }\n",
       "\n",
       "    .dataframe tbody tr th {\n",
       "        vertical-align: top;\n",
       "    }\n",
       "\n",
       "    .dataframe thead th {\n",
       "        text-align: right;\n",
       "    }\n",
       "</style>\n",
       "<table border=\"1\" class=\"dataframe\">\n",
       "  <thead>\n",
       "    <tr style=\"text-align: right;\">\n",
       "      <th></th>\n",
       "      <th>Date</th>\n",
       "      <th>Day</th>\n",
       "      <th>Destination_Location</th>\n",
       "      <th>Fastest_Route_Distance</th>\n",
       "      <th>Fastest_Route_Name</th>\n",
       "      <th>Fastest_Route_Time</th>\n",
       "      <th>Holiday</th>\n",
       "      <th>Special_Condition</th>\n",
       "      <th>Starting_Location</th>\n",
       "      <th>Sys_Time</th>\n",
       "      <th>Weather</th>\n",
       "      <th>Data_prediction</th>\n",
       "      <th>month</th>\n",
       "      <th>day_of_month</th>\n",
       "      <th>day_of_year</th>\n",
       "      <th>week_of_year</th>\n",
       "      <th>year</th>\n",
       "      <th>is_wknd</th>\n",
       "      <th>is_month_start</th>\n",
       "      <th>is_month_end</th>\n",
       "    </tr>\n",
       "  </thead>\n",
       "  <tbody>\n",
       "    <tr>\n",
       "      <th>0</th>\n",
       "      <td>2020-02-13</td>\n",
       "      <td>Thursday</td>\n",
       "      <td>9th_avenue</td>\n",
       "      <td>1000</td>\n",
       "      <td>Jinnah Avenue</td>\n",
       "      <td>60</td>\n",
       "      <td>no</td>\n",
       "      <td>no</td>\n",
       "      <td>capital_gymkhana</td>\n",
       "      <td>0:00:01</td>\n",
       "      <td>Showers</td>\n",
       "      <td>smooth</td>\n",
       "      <td>2</td>\n",
       "      <td>13</td>\n",
       "      <td>44</td>\n",
       "      <td>7</td>\n",
       "      <td>2020</td>\n",
       "      <td>0</td>\n",
       "      <td>0</td>\n",
       "      <td>0</td>\n",
       "    </tr>\n",
       "    <tr>\n",
       "      <th>1</th>\n",
       "      <td>2020-02-13</td>\n",
       "      <td>Thursday</td>\n",
       "      <td>centaurus</td>\n",
       "      <td>1300</td>\n",
       "      <td>Jinnah Avenue</td>\n",
       "      <td>120</td>\n",
       "      <td>no</td>\n",
       "      <td>no</td>\n",
       "      <td>9th_avenue</td>\n",
       "      <td>0:00:09</td>\n",
       "      <td>Showers</td>\n",
       "      <td>highly congested</td>\n",
       "      <td>2</td>\n",
       "      <td>13</td>\n",
       "      <td>44</td>\n",
       "      <td>7</td>\n",
       "      <td>2020</td>\n",
       "      <td>0</td>\n",
       "      <td>0</td>\n",
       "      <td>0</td>\n",
       "    </tr>\n",
       "    <tr>\n",
       "      <th>2</th>\n",
       "      <td>2020-02-13</td>\n",
       "      <td>Thursday</td>\n",
       "      <td>crown_plaza</td>\n",
       "      <td>1000</td>\n",
       "      <td>Jinnah Avenue and Faisal Avenue Flyover</td>\n",
       "      <td>60</td>\n",
       "      <td>no</td>\n",
       "      <td>no</td>\n",
       "      <td>centaurus</td>\n",
       "      <td>0:00:17</td>\n",
       "      <td>Showers</td>\n",
       "      <td>smooth</td>\n",
       "      <td>2</td>\n",
       "      <td>13</td>\n",
       "      <td>44</td>\n",
       "      <td>7</td>\n",
       "      <td>2020</td>\n",
       "      <td>0</td>\n",
       "      <td>0</td>\n",
       "      <td>0</td>\n",
       "    </tr>\n",
       "    <tr>\n",
       "      <th>3</th>\n",
       "      <td>2020-02-13</td>\n",
       "      <td>Thursday</td>\n",
       "      <td>roshan_plaza</td>\n",
       "      <td>2700</td>\n",
       "      <td>Jinnah Ave</td>\n",
       "      <td>180</td>\n",
       "      <td>no</td>\n",
       "      <td>no</td>\n",
       "      <td>crown_plaza</td>\n",
       "      <td>0:00:24</td>\n",
       "      <td>Showers</td>\n",
       "      <td>smooth</td>\n",
       "      <td>2</td>\n",
       "      <td>13</td>\n",
       "      <td>44</td>\n",
       "      <td>7</td>\n",
       "      <td>2020</td>\n",
       "      <td>0</td>\n",
       "      <td>0</td>\n",
       "      <td>0</td>\n",
       "    </tr>\n",
       "    <tr>\n",
       "      <th>4</th>\n",
       "      <td>2020-02-13</td>\n",
       "      <td>Thursday</td>\n",
       "      <td>salt_and_pepper</td>\n",
       "      <td>3900</td>\n",
       "      <td>Jinnah Ave</td>\n",
       "      <td>300</td>\n",
       "      <td>no</td>\n",
       "      <td>no</td>\n",
       "      <td>roshan_plaza</td>\n",
       "      <td>0:00:31</td>\n",
       "      <td>Showers</td>\n",
       "      <td>slightly congested</td>\n",
       "      <td>2</td>\n",
       "      <td>13</td>\n",
       "      <td>44</td>\n",
       "      <td>7</td>\n",
       "      <td>2020</td>\n",
       "      <td>0</td>\n",
       "      <td>0</td>\n",
       "      <td>0</td>\n",
       "    </tr>\n",
       "    <tr>\n",
       "      <th>...</th>\n",
       "      <td>...</td>\n",
       "      <td>...</td>\n",
       "      <td>...</td>\n",
       "      <td>...</td>\n",
       "      <td>...</td>\n",
       "      <td>...</td>\n",
       "      <td>...</td>\n",
       "      <td>...</td>\n",
       "      <td>...</td>\n",
       "      <td>...</td>\n",
       "      <td>...</td>\n",
       "      <td>...</td>\n",
       "      <td>...</td>\n",
       "      <td>...</td>\n",
       "      <td>...</td>\n",
       "      <td>...</td>\n",
       "      <td>...</td>\n",
       "      <td>...</td>\n",
       "      <td>...</td>\n",
       "      <td>...</td>\n",
       "    </tr>\n",
       "    <tr>\n",
       "      <th>317107</th>\n",
       "      <td>2020-02-29</td>\n",
       "      <td>Saturday</td>\n",
       "      <td>IJP road</td>\n",
       "      <td>4400</td>\n",
       "      <td>Murree Rd and I.J.P. Road</td>\n",
       "      <td>540</td>\n",
       "      <td>no</td>\n",
       "      <td>no</td>\n",
       "      <td>mehran hotel</td>\n",
       "      <td>23:57:23</td>\n",
       "      <td>Mostly Cloudy</td>\n",
       "      <td>slightly congested</td>\n",
       "      <td>2</td>\n",
       "      <td>29</td>\n",
       "      <td>60</td>\n",
       "      <td>9</td>\n",
       "      <td>2020</td>\n",
       "      <td>1</td>\n",
       "      <td>0</td>\n",
       "      <td>1</td>\n",
       "    </tr>\n",
       "    <tr>\n",
       "      <th>317108</th>\n",
       "      <td>2020-02-29</td>\n",
       "      <td>Saturday</td>\n",
       "      <td>Jamia Masjid Bilal</td>\n",
       "      <td>1000</td>\n",
       "      <td>I.J.P. Road</td>\n",
       "      <td>180</td>\n",
       "      <td>no</td>\n",
       "      <td>no</td>\n",
       "      <td>IJP road</td>\n",
       "      <td>23:57:36</td>\n",
       "      <td>Mostly Cloudy</td>\n",
       "      <td>congested</td>\n",
       "      <td>2</td>\n",
       "      <td>29</td>\n",
       "      <td>60</td>\n",
       "      <td>9</td>\n",
       "      <td>2020</td>\n",
       "      <td>1</td>\n",
       "      <td>0</td>\n",
       "      <td>1</td>\n",
       "    </tr>\n",
       "    <tr>\n",
       "      <th>317109</th>\n",
       "      <td>2020-02-29</td>\n",
       "      <td>Saturday</td>\n",
       "      <td>eventox_event_management</td>\n",
       "      <td>1000</td>\n",
       "      <td>Sufi Tabasum Rd and Service Rd W</td>\n",
       "      <td>120</td>\n",
       "      <td>no</td>\n",
       "      <td>no</td>\n",
       "      <td>STroad_start_stop</td>\n",
       "      <td>23:57:46</td>\n",
       "      <td>Mostly Cloudy</td>\n",
       "      <td>highly congested</td>\n",
       "      <td>2</td>\n",
       "      <td>29</td>\n",
       "      <td>60</td>\n",
       "      <td>9</td>\n",
       "      <td>2020</td>\n",
       "      <td>1</td>\n",
       "      <td>0</td>\n",
       "      <td>1</td>\n",
       "    </tr>\n",
       "    <tr>\n",
       "      <th>317110</th>\n",
       "      <td>2020-02-29</td>\n",
       "      <td>Saturday</td>\n",
       "      <td>Al_hateem_palace</td>\n",
       "      <td>1100</td>\n",
       "      <td>Service Rd South I 8</td>\n",
       "      <td>120</td>\n",
       "      <td>no</td>\n",
       "      <td>no</td>\n",
       "      <td>IJP_metro</td>\n",
       "      <td>23:58:18</td>\n",
       "      <td>Mostly Cloudy</td>\n",
       "      <td>highly congested</td>\n",
       "      <td>2</td>\n",
       "      <td>29</td>\n",
       "      <td>60</td>\n",
       "      <td>9</td>\n",
       "      <td>2020</td>\n",
       "      <td>1</td>\n",
       "      <td>0</td>\n",
       "      <td>1</td>\n",
       "    </tr>\n",
       "    <tr>\n",
       "      <th>317111</th>\n",
       "      <td>2020-02-29</td>\n",
       "      <td>Saturday</td>\n",
       "      <td>last_stop</td>\n",
       "      <td>1400</td>\n",
       "      <td>I.J.P. Road</td>\n",
       "      <td>180</td>\n",
       "      <td>no</td>\n",
       "      <td>no</td>\n",
       "      <td>Al_hateem_palace</td>\n",
       "      <td>23:58:25</td>\n",
       "      <td>Mostly Cloudy</td>\n",
       "      <td>smooth</td>\n",
       "      <td>2</td>\n",
       "      <td>29</td>\n",
       "      <td>60</td>\n",
       "      <td>9</td>\n",
       "      <td>2020</td>\n",
       "      <td>1</td>\n",
       "      <td>0</td>\n",
       "      <td>1</td>\n",
       "    </tr>\n",
       "  </tbody>\n",
       "</table>\n",
       "<p>317112 rows × 20 columns</p>\n",
       "</div>"
      ],
      "text/plain": [
       "             Date       Day      Destination_Location  Fastest_Route_Distance  \\\n",
       "0      2020-02-13  Thursday                9th_avenue                    1000   \n",
       "1      2020-02-13  Thursday                 centaurus                    1300   \n",
       "2      2020-02-13  Thursday               crown_plaza                    1000   \n",
       "3      2020-02-13  Thursday              roshan_plaza                    2700   \n",
       "4      2020-02-13  Thursday           salt_and_pepper                    3900   \n",
       "...           ...       ...                       ...                     ...   \n",
       "317107 2020-02-29  Saturday                  IJP road                    4400   \n",
       "317108 2020-02-29  Saturday        Jamia Masjid Bilal                    1000   \n",
       "317109 2020-02-29  Saturday  eventox_event_management                    1000   \n",
       "317110 2020-02-29  Saturday          Al_hateem_palace                    1100   \n",
       "317111 2020-02-29  Saturday                 last_stop                    1400   \n",
       "\n",
       "                             Fastest_Route_Name  Fastest_Route_Time Holiday  \\\n",
       "0                                 Jinnah Avenue                  60      no   \n",
       "1                                 Jinnah Avenue                 120      no   \n",
       "2       Jinnah Avenue and Faisal Avenue Flyover                  60      no   \n",
       "3                                    Jinnah Ave                 180      no   \n",
       "4                                    Jinnah Ave                 300      no   \n",
       "...                                         ...                 ...     ...   \n",
       "317107                Murree Rd and I.J.P. Road                 540      no   \n",
       "317108                              I.J.P. Road                 180      no   \n",
       "317109         Sufi Tabasum Rd and Service Rd W                 120      no   \n",
       "317110                     Service Rd South I 8                 120      no   \n",
       "317111                              I.J.P. Road                 180      no   \n",
       "\n",
       "       Special_Condition  Starting_Location  Sys_Time        Weather  \\\n",
       "0                     no   capital_gymkhana   0:00:01        Showers   \n",
       "1                     no         9th_avenue   0:00:09        Showers   \n",
       "2                     no          centaurus   0:00:17        Showers   \n",
       "3                     no        crown_plaza   0:00:24        Showers   \n",
       "4                     no       roshan_plaza   0:00:31        Showers   \n",
       "...                  ...                ...       ...            ...   \n",
       "317107                no       mehran hotel  23:57:23  Mostly Cloudy   \n",
       "317108                no           IJP road  23:57:36  Mostly Cloudy   \n",
       "317109                no  STroad_start_stop  23:57:46  Mostly Cloudy   \n",
       "317110                no          IJP_metro  23:58:18  Mostly Cloudy   \n",
       "317111                no   Al_hateem_palace  23:58:25  Mostly Cloudy   \n",
       "\n",
       "           Data_prediction  month  day_of_month  day_of_year  week_of_year  \\\n",
       "0                   smooth      2            13           44             7   \n",
       "1         highly congested      2            13           44             7   \n",
       "2                   smooth      2            13           44             7   \n",
       "3                   smooth      2            13           44             7   \n",
       "4       slightly congested      2            13           44             7   \n",
       "...                    ...    ...           ...          ...           ...   \n",
       "317107  slightly congested      2            29           60             9   \n",
       "317108           congested      2            29           60             9   \n",
       "317109    highly congested      2            29           60             9   \n",
       "317110    highly congested      2            29           60             9   \n",
       "317111              smooth      2            29           60             9   \n",
       "\n",
       "        year  is_wknd  is_month_start  is_month_end  \n",
       "0       2020        0               0             0  \n",
       "1       2020        0               0             0  \n",
       "2       2020        0               0             0  \n",
       "3       2020        0               0             0  \n",
       "4       2020        0               0             0  \n",
       "...      ...      ...             ...           ...  \n",
       "317107  2020        1               0             1  \n",
       "317108  2020        1               0             1  \n",
       "317109  2020        1               0             1  \n",
       "317110  2020        1               0             1  \n",
       "317111  2020        1               0             1  \n",
       "\n",
       "[317112 rows x 20 columns]"
      ]
     },
     "execution_count": 17,
     "metadata": {},
     "output_type": "execute_result"
    }
   ],
   "source": [
    "data"
   ]
  },
  {
   "cell_type": "markdown",
   "id": "dfd967c9",
   "metadata": {},
   "source": [
    "### Removing outliers"
   ]
  },
  {
   "cell_type": "code",
   "execution_count": 18,
   "id": "132dde92",
   "metadata": {},
   "outputs": [],
   "source": [
    "# functions to treat outliers by flooring and capping\n",
    "\n",
    "\n",
    "def treat_outliers(df, col):\n",
    "    \"\"\"\n",
    "    Treats outliers in a variable\n",
    "\n",
    "    df: dataframe\n",
    "    col: dataframe column\n",
    "    \"\"\"\n",
    "    Q1 = df[col].quantile(0.25)  # 25th quantile\n",
    "    Q3 = df[col].quantile(0.75)  # 75th quantile\n",
    "    IQR = Q3 - Q1\n",
    "    Lower_Whisker = Q1 - 1.5 * IQR\n",
    "    Upper_Whisker = Q3 + 1.5 * IQR\n",
    "\n",
    "    # all the values smaller than Lower_Whisker will be assigned the value of Lower_Whisker\n",
    "    # all the values greater than Upper_Whisker will be assigned the value of Upper_Whisker\n",
    "    df[col] = np.clip(df[col], Lower_Whisker, Upper_Whisker)\n",
    "\n",
    "    return df\n",
    "\n",
    "\n",
    "def treat_outliers_all(df, col_list):\n",
    "    \"\"\"\n",
    "    Treat outliers in a list of variables\n",
    "\n",
    "    df: dataframe\n",
    "    col_list: list of dataframe columns\n",
    "    \"\"\"\n",
    "    for c in col_list:\n",
    "        df = treat_outliers(df, c)\n",
    "\n",
    "    return df"
   ]
  },
  {
   "cell_type": "code",
   "execution_count": 19,
   "id": "3adbbda0",
   "metadata": {},
   "outputs": [],
   "source": [
    "numerical_col = data.select_dtypes(include=np.number).columns.tolist()\n",
    "data = treat_outliers_all(data, numerical_col)"
   ]
  },
  {
   "cell_type": "markdown",
   "id": "80d50b0b",
   "metadata": {},
   "source": [
    "#### Reducing Number of Disntinct Unique values in Data Prediction"
   ]
  },
  {
   "cell_type": "code",
   "execution_count": 20,
   "id": "4a3107a5",
   "metadata": {},
   "outputs": [
    {
     "data": {
      "text/plain": [
       "array(['smooth', 'highly congested', 'slightly congested', 'congested',\n",
       "       'blockage'], dtype=object)"
      ]
     },
     "execution_count": 20,
     "metadata": {},
     "output_type": "execute_result"
    }
   ],
   "source": [
    "data.Data_prediction.unique()"
   ]
  },
  {
   "cell_type": "markdown",
   "id": "21228d39",
   "metadata": {},
   "source": [
    "We notice that our target variable has 5 unique values and since we are only keen about identifying weather the traffic is congested or smooth, we will convert the values of \"highly congested\", \"slightly congested\", \"congested\", \"blockage\" to just being \"congested\""
   ]
  },
  {
   "cell_type": "code",
   "execution_count": 21,
   "id": "c9186fb7",
   "metadata": {},
   "outputs": [],
   "source": [
    "congested = [ \"highly congested\", \"slightly congested\", \"congested\", \"blockage\"]\n",
    "smooth = [\"smooth\"]\n",
    "\n",
    "def reduce_marital_status(x):\n",
    "    if x in congested:\n",
    "        return \"congested\"\n",
    "    elif x in smooth:\n",
    "        return \"smooth\"\n",
    "    else:\n",
    "        return x"
   ]
  },
  {
   "cell_type": "markdown",
   "id": "273181e6",
   "metadata": {},
   "source": [
    "In the line above, a function has been created to change the features listed in congested and smooth above to replace the exisiting names with \"congested\" and \"smooth\"\n",
    "This is done to have two target variables instead of 5"
   ]
  },
  {
   "cell_type": "code",
   "execution_count": 22,
   "id": "f06ecdbf",
   "metadata": {},
   "outputs": [
    {
     "data": {
      "text/html": [
       "<div>\n",
       "<style scoped>\n",
       "    .dataframe tbody tr th:only-of-type {\n",
       "        vertical-align: middle;\n",
       "    }\n",
       "\n",
       "    .dataframe tbody tr th {\n",
       "        vertical-align: top;\n",
       "    }\n",
       "\n",
       "    .dataframe thead th {\n",
       "        text-align: right;\n",
       "    }\n",
       "</style>\n",
       "<table border=\"1\" class=\"dataframe\">\n",
       "  <thead>\n",
       "    <tr style=\"text-align: right;\">\n",
       "      <th></th>\n",
       "      <th>Date</th>\n",
       "      <th>Day</th>\n",
       "      <th>Destination_Location</th>\n",
       "      <th>Fastest_Route_Distance</th>\n",
       "      <th>Fastest_Route_Name</th>\n",
       "      <th>Fastest_Route_Time</th>\n",
       "      <th>Holiday</th>\n",
       "      <th>Special_Condition</th>\n",
       "      <th>Starting_Location</th>\n",
       "      <th>Sys_Time</th>\n",
       "      <th>Weather</th>\n",
       "      <th>Data_prediction</th>\n",
       "      <th>month</th>\n",
       "      <th>day_of_month</th>\n",
       "      <th>day_of_year</th>\n",
       "      <th>week_of_year</th>\n",
       "      <th>year</th>\n",
       "      <th>is_wknd</th>\n",
       "      <th>is_month_start</th>\n",
       "      <th>is_month_end</th>\n",
       "    </tr>\n",
       "  </thead>\n",
       "  <tbody>\n",
       "    <tr>\n",
       "      <th>0</th>\n",
       "      <td>2020-02-13</td>\n",
       "      <td>Thursday</td>\n",
       "      <td>9th_avenue</td>\n",
       "      <td>1000.0</td>\n",
       "      <td>Jinnah Avenue</td>\n",
       "      <td>60.0</td>\n",
       "      <td>no</td>\n",
       "      <td>no</td>\n",
       "      <td>capital_gymkhana</td>\n",
       "      <td>0:00:01</td>\n",
       "      <td>Showers</td>\n",
       "      <td>smooth</td>\n",
       "      <td>2</td>\n",
       "      <td>13</td>\n",
       "      <td>44</td>\n",
       "      <td>7</td>\n",
       "      <td>2020</td>\n",
       "      <td>0</td>\n",
       "      <td>0</td>\n",
       "      <td>0.0</td>\n",
       "    </tr>\n",
       "    <tr>\n",
       "      <th>1</th>\n",
       "      <td>2020-02-13</td>\n",
       "      <td>Thursday</td>\n",
       "      <td>centaurus</td>\n",
       "      <td>1300.0</td>\n",
       "      <td>Jinnah Avenue</td>\n",
       "      <td>120.0</td>\n",
       "      <td>no</td>\n",
       "      <td>no</td>\n",
       "      <td>9th_avenue</td>\n",
       "      <td>0:00:09</td>\n",
       "      <td>Showers</td>\n",
       "      <td>highly congested</td>\n",
       "      <td>2</td>\n",
       "      <td>13</td>\n",
       "      <td>44</td>\n",
       "      <td>7</td>\n",
       "      <td>2020</td>\n",
       "      <td>0</td>\n",
       "      <td>0</td>\n",
       "      <td>0.0</td>\n",
       "    </tr>\n",
       "    <tr>\n",
       "      <th>2</th>\n",
       "      <td>2020-02-13</td>\n",
       "      <td>Thursday</td>\n",
       "      <td>crown_plaza</td>\n",
       "      <td>1000.0</td>\n",
       "      <td>Jinnah Avenue and Faisal Avenue Flyover</td>\n",
       "      <td>60.0</td>\n",
       "      <td>no</td>\n",
       "      <td>no</td>\n",
       "      <td>centaurus</td>\n",
       "      <td>0:00:17</td>\n",
       "      <td>Showers</td>\n",
       "      <td>smooth</td>\n",
       "      <td>2</td>\n",
       "      <td>13</td>\n",
       "      <td>44</td>\n",
       "      <td>7</td>\n",
       "      <td>2020</td>\n",
       "      <td>0</td>\n",
       "      <td>0</td>\n",
       "      <td>0.0</td>\n",
       "    </tr>\n",
       "    <tr>\n",
       "      <th>3</th>\n",
       "      <td>2020-02-13</td>\n",
       "      <td>Thursday</td>\n",
       "      <td>roshan_plaza</td>\n",
       "      <td>2500.0</td>\n",
       "      <td>Jinnah Ave</td>\n",
       "      <td>180.0</td>\n",
       "      <td>no</td>\n",
       "      <td>no</td>\n",
       "      <td>crown_plaza</td>\n",
       "      <td>0:00:24</td>\n",
       "      <td>Showers</td>\n",
       "      <td>smooth</td>\n",
       "      <td>2</td>\n",
       "      <td>13</td>\n",
       "      <td>44</td>\n",
       "      <td>7</td>\n",
       "      <td>2020</td>\n",
       "      <td>0</td>\n",
       "      <td>0</td>\n",
       "      <td>0.0</td>\n",
       "    </tr>\n",
       "    <tr>\n",
       "      <th>4</th>\n",
       "      <td>2020-02-13</td>\n",
       "      <td>Thursday</td>\n",
       "      <td>salt_and_pepper</td>\n",
       "      <td>2500.0</td>\n",
       "      <td>Jinnah Ave</td>\n",
       "      <td>270.0</td>\n",
       "      <td>no</td>\n",
       "      <td>no</td>\n",
       "      <td>roshan_plaza</td>\n",
       "      <td>0:00:31</td>\n",
       "      <td>Showers</td>\n",
       "      <td>slightly congested</td>\n",
       "      <td>2</td>\n",
       "      <td>13</td>\n",
       "      <td>44</td>\n",
       "      <td>7</td>\n",
       "      <td>2020</td>\n",
       "      <td>0</td>\n",
       "      <td>0</td>\n",
       "      <td>0.0</td>\n",
       "    </tr>\n",
       "  </tbody>\n",
       "</table>\n",
       "</div>"
      ],
      "text/plain": [
       "        Date       Day Destination_Location  Fastest_Route_Distance  \\\n",
       "0 2020-02-13  Thursday           9th_avenue                  1000.0   \n",
       "1 2020-02-13  Thursday            centaurus                  1300.0   \n",
       "2 2020-02-13  Thursday          crown_plaza                  1000.0   \n",
       "3 2020-02-13  Thursday         roshan_plaza                  2500.0   \n",
       "4 2020-02-13  Thursday      salt_and_pepper                  2500.0   \n",
       "\n",
       "                        Fastest_Route_Name  Fastest_Route_Time Holiday  \\\n",
       "0                            Jinnah Avenue                60.0      no   \n",
       "1                            Jinnah Avenue               120.0      no   \n",
       "2  Jinnah Avenue and Faisal Avenue Flyover                60.0      no   \n",
       "3                               Jinnah Ave               180.0      no   \n",
       "4                               Jinnah Ave               270.0      no   \n",
       "\n",
       "  Special_Condition Starting_Location Sys_Time  Weather     Data_prediction  \\\n",
       "0                no  capital_gymkhana  0:00:01  Showers              smooth   \n",
       "1                no        9th_avenue  0:00:09  Showers    highly congested   \n",
       "2                no         centaurus  0:00:17  Showers              smooth   \n",
       "3                no       crown_plaza  0:00:24  Showers              smooth   \n",
       "4                no      roshan_plaza  0:00:31  Showers  slightly congested   \n",
       "\n",
       "   month  day_of_month  day_of_year  week_of_year  year  is_wknd  \\\n",
       "0      2            13           44             7  2020        0   \n",
       "1      2            13           44             7  2020        0   \n",
       "2      2            13           44             7  2020        0   \n",
       "3      2            13           44             7  2020        0   \n",
       "4      2            13           44             7  2020        0   \n",
       "\n",
       "   is_month_start  is_month_end  \n",
       "0               0           0.0  \n",
       "1               0           0.0  \n",
       "2               0           0.0  \n",
       "3               0           0.0  \n",
       "4               0           0.0  "
      ]
     },
     "execution_count": 22,
     "metadata": {},
     "output_type": "execute_result"
    }
   ],
   "source": [
    "data.head()"
   ]
  },
  {
   "cell_type": "code",
   "execution_count": 23,
   "id": "5a7e175e",
   "metadata": {},
   "outputs": [],
   "source": [
    "data.Data_prediction = data.Data_prediction.apply(reduce_marital_status)"
   ]
  },
  {
   "cell_type": "code",
   "execution_count": 24,
   "id": "caac7708",
   "metadata": {},
   "outputs": [
    {
     "data": {
      "text/plain": [
       "array(['smooth', 'congested'], dtype=object)"
      ]
     },
     "execution_count": 24,
     "metadata": {},
     "output_type": "execute_result"
    }
   ],
   "source": [
    "data.Data_prediction.unique()"
   ]
  },
  {
   "cell_type": "markdown",
   "id": "82cb432a",
   "metadata": {},
   "source": [
    "We see that now our target variable congested has 2 unique variables instead of 5 earlier"
   ]
  },
  {
   "cell_type": "markdown",
   "id": "b95d1e26",
   "metadata": {},
   "source": [
    "### One Hot Encoding"
   ]
  },
  {
   "cell_type": "markdown",
   "id": "6b96f455",
   "metadata": {},
   "source": [
    "We one hot encode the categroical values to convert them to intergers. <br> They unique values represented by 0 and 1, although this creates 128 new columns, this is insignificant compared to the 317112 rows in our dataset."
   ]
  },
  {
   "cell_type": "code",
   "execution_count": 25,
   "id": "2b736fa0",
   "metadata": {},
   "outputs": [
    {
     "data": {
      "text/plain": [
       "(317112, 20)"
      ]
     },
     "execution_count": 25,
     "metadata": {},
     "output_type": "execute_result"
    }
   ],
   "source": [
    "data.shape"
   ]
  },
  {
   "cell_type": "code",
   "execution_count": 26,
   "id": "cd615499",
   "metadata": {},
   "outputs": [
    {
     "data": {
      "text/html": [
       "<div>\n",
       "<style scoped>\n",
       "    .dataframe tbody tr th:only-of-type {\n",
       "        vertical-align: middle;\n",
       "    }\n",
       "\n",
       "    .dataframe tbody tr th {\n",
       "        vertical-align: top;\n",
       "    }\n",
       "\n",
       "    .dataframe thead th {\n",
       "        text-align: right;\n",
       "    }\n",
       "</style>\n",
       "<table border=\"1\" class=\"dataframe\">\n",
       "  <thead>\n",
       "    <tr style=\"text-align: right;\">\n",
       "      <th></th>\n",
       "      <th>Date</th>\n",
       "      <th>Fastest_Route_Distance</th>\n",
       "      <th>Fastest_Route_Time</th>\n",
       "      <th>Holiday</th>\n",
       "      <th>Special_Condition</th>\n",
       "      <th>Sys_Time</th>\n",
       "      <th>Data_prediction</th>\n",
       "      <th>month</th>\n",
       "      <th>day_of_month</th>\n",
       "      <th>day_of_year</th>\n",
       "      <th>...</th>\n",
       "      <th>Starting_Location_zaman_khan_khokha</th>\n",
       "      <th>Weather_Clear</th>\n",
       "      <th>Weather_Cloudy</th>\n",
       "      <th>Weather_Mostly Clear</th>\n",
       "      <th>Weather_Mostly Cloudy</th>\n",
       "      <th>Weather_Mostly Sunny</th>\n",
       "      <th>Weather_Partly Cloudy</th>\n",
       "      <th>Weather_Rain</th>\n",
       "      <th>Weather_Showers</th>\n",
       "      <th>Weather_Sunny</th>\n",
       "    </tr>\n",
       "  </thead>\n",
       "  <tbody>\n",
       "    <tr>\n",
       "      <th>0</th>\n",
       "      <td>2020-02-13</td>\n",
       "      <td>1000.0</td>\n",
       "      <td>60.0</td>\n",
       "      <td>no</td>\n",
       "      <td>no</td>\n",
       "      <td>0:00:01</td>\n",
       "      <td>smooth</td>\n",
       "      <td>2</td>\n",
       "      <td>13</td>\n",
       "      <td>44</td>\n",
       "      <td>...</td>\n",
       "      <td>0</td>\n",
       "      <td>0</td>\n",
       "      <td>0</td>\n",
       "      <td>0</td>\n",
       "      <td>0</td>\n",
       "      <td>0</td>\n",
       "      <td>0</td>\n",
       "      <td>0</td>\n",
       "      <td>1</td>\n",
       "      <td>0</td>\n",
       "    </tr>\n",
       "    <tr>\n",
       "      <th>1</th>\n",
       "      <td>2020-02-13</td>\n",
       "      <td>1300.0</td>\n",
       "      <td>120.0</td>\n",
       "      <td>no</td>\n",
       "      <td>no</td>\n",
       "      <td>0:00:09</td>\n",
       "      <td>congested</td>\n",
       "      <td>2</td>\n",
       "      <td>13</td>\n",
       "      <td>44</td>\n",
       "      <td>...</td>\n",
       "      <td>0</td>\n",
       "      <td>0</td>\n",
       "      <td>0</td>\n",
       "      <td>0</td>\n",
       "      <td>0</td>\n",
       "      <td>0</td>\n",
       "      <td>0</td>\n",
       "      <td>0</td>\n",
       "      <td>1</td>\n",
       "      <td>0</td>\n",
       "    </tr>\n",
       "    <tr>\n",
       "      <th>2</th>\n",
       "      <td>2020-02-13</td>\n",
       "      <td>1000.0</td>\n",
       "      <td>60.0</td>\n",
       "      <td>no</td>\n",
       "      <td>no</td>\n",
       "      <td>0:00:17</td>\n",
       "      <td>smooth</td>\n",
       "      <td>2</td>\n",
       "      <td>13</td>\n",
       "      <td>44</td>\n",
       "      <td>...</td>\n",
       "      <td>0</td>\n",
       "      <td>0</td>\n",
       "      <td>0</td>\n",
       "      <td>0</td>\n",
       "      <td>0</td>\n",
       "      <td>0</td>\n",
       "      <td>0</td>\n",
       "      <td>0</td>\n",
       "      <td>1</td>\n",
       "      <td>0</td>\n",
       "    </tr>\n",
       "    <tr>\n",
       "      <th>3</th>\n",
       "      <td>2020-02-13</td>\n",
       "      <td>2500.0</td>\n",
       "      <td>180.0</td>\n",
       "      <td>no</td>\n",
       "      <td>no</td>\n",
       "      <td>0:00:24</td>\n",
       "      <td>smooth</td>\n",
       "      <td>2</td>\n",
       "      <td>13</td>\n",
       "      <td>44</td>\n",
       "      <td>...</td>\n",
       "      <td>0</td>\n",
       "      <td>0</td>\n",
       "      <td>0</td>\n",
       "      <td>0</td>\n",
       "      <td>0</td>\n",
       "      <td>0</td>\n",
       "      <td>0</td>\n",
       "      <td>0</td>\n",
       "      <td>1</td>\n",
       "      <td>0</td>\n",
       "    </tr>\n",
       "    <tr>\n",
       "      <th>4</th>\n",
       "      <td>2020-02-13</td>\n",
       "      <td>2500.0</td>\n",
       "      <td>270.0</td>\n",
       "      <td>no</td>\n",
       "      <td>no</td>\n",
       "      <td>0:00:31</td>\n",
       "      <td>congested</td>\n",
       "      <td>2</td>\n",
       "      <td>13</td>\n",
       "      <td>44</td>\n",
       "      <td>...</td>\n",
       "      <td>0</td>\n",
       "      <td>0</td>\n",
       "      <td>0</td>\n",
       "      <td>0</td>\n",
       "      <td>0</td>\n",
       "      <td>0</td>\n",
       "      <td>0</td>\n",
       "      <td>0</td>\n",
       "      <td>1</td>\n",
       "      <td>0</td>\n",
       "    </tr>\n",
       "  </tbody>\n",
       "</table>\n",
       "<p>5 rows × 148 columns</p>\n",
       "</div>"
      ],
      "text/plain": [
       "        Date  Fastest_Route_Distance  Fastest_Route_Time Holiday  \\\n",
       "0 2020-02-13                  1000.0                60.0      no   \n",
       "1 2020-02-13                  1300.0               120.0      no   \n",
       "2 2020-02-13                  1000.0                60.0      no   \n",
       "3 2020-02-13                  2500.0               180.0      no   \n",
       "4 2020-02-13                  2500.0               270.0      no   \n",
       "\n",
       "  Special_Condition Sys_Time Data_prediction  month  day_of_month  \\\n",
       "0                no  0:00:01          smooth      2            13   \n",
       "1                no  0:00:09       congested      2            13   \n",
       "2                no  0:00:17          smooth      2            13   \n",
       "3                no  0:00:24          smooth      2            13   \n",
       "4                no  0:00:31       congested      2            13   \n",
       "\n",
       "   day_of_year  ...  Starting_Location_zaman_khan_khokha  Weather_Clear  \\\n",
       "0           44  ...                                    0              0   \n",
       "1           44  ...                                    0              0   \n",
       "2           44  ...                                    0              0   \n",
       "3           44  ...                                    0              0   \n",
       "4           44  ...                                    0              0   \n",
       "\n",
       "   Weather_Cloudy  Weather_Mostly Clear  Weather_Mostly Cloudy  \\\n",
       "0               0                     0                      0   \n",
       "1               0                     0                      0   \n",
       "2               0                     0                      0   \n",
       "3               0                     0                      0   \n",
       "4               0                     0                      0   \n",
       "\n",
       "   Weather_Mostly Sunny  Weather_Partly Cloudy  Weather_Rain  Weather_Showers  \\\n",
       "0                     0                      0             0                1   \n",
       "1                     0                      0             0                1   \n",
       "2                     0                      0             0                1   \n",
       "3                     0                      0             0                1   \n",
       "4                     0                      0             0                1   \n",
       "\n",
       "   Weather_Sunny  \n",
       "0              0  \n",
       "1              0  \n",
       "2              0  \n",
       "3              0  \n",
       "4              0  \n",
       "\n",
       "[5 rows x 148 columns]"
      ]
     },
     "execution_count": 26,
     "metadata": {},
     "output_type": "execute_result"
    }
   ],
   "source": [
    "data = pd.get_dummies(data, columns=['Destination_Location','Day','Fastest_Route_Name','Starting_Location','Weather'])\n",
    "data.head()"
   ]
  },
  {
   "cell_type": "code",
   "execution_count": 27,
   "id": "834ec480",
   "metadata": {},
   "outputs": [
    {
     "data": {
      "text/plain": [
       "(317112, 148)"
      ]
     },
     "execution_count": 27,
     "metadata": {},
     "output_type": "execute_result"
    }
   ],
   "source": [
    "data.shape"
   ]
  },
  {
   "cell_type": "markdown",
   "id": "17c2f8ee",
   "metadata": {},
   "source": [
    "We notice that the new colums have now been created by looking the the head and shape of the data"
   ]
  },
  {
   "cell_type": "code",
   "execution_count": 28,
   "id": "6941566a",
   "metadata": {},
   "outputs": [],
   "source": [
    "data.drop([\"Holiday\",\"Special_Condition\",\"Sys_Time\",\"Date\"], axis = 1, inplace = True)"
   ]
  },
  {
   "cell_type": "markdown",
   "id": "3473a0e0",
   "metadata": {},
   "source": [
    "These columns are dropped as: <br>1. Holiday and Special_Condition do not have any unique values <br>2. Sys_Time is not neccesary in the dataset for the model we are building <br>3. Date was converted into having new columns representing the other features such as day which we described a function for above"
   ]
  },
  {
   "cell_type": "markdown",
   "id": "c730989b",
   "metadata": {},
   "source": [
    "### Fixing Imbalance in Target variable by under sampling"
   ]
  },
  {
   "cell_type": "code",
   "execution_count": 29,
   "id": "aeefb754",
   "metadata": {},
   "outputs": [
    {
     "name": "stdout",
     "output_type": "stream",
     "text": [
      "class congested: (178285, 144)\n",
      "class smooth: (138827, 144)\n"
     ]
    }
   ],
   "source": [
    "# class count\n",
    "class_count_congested, class_count_smooth = data['Data_prediction'].value_counts()\n",
    "\n",
    "# Separate class\n",
    "class_congested = data[data['Data_prediction'] == \"congested\"]\n",
    "class_smooth = data[data['Data_prediction'] == \"smooth\"]# print the shape of the class\n",
    "print('class congested:', class_congested.shape)\n",
    "print('class smooth:', class_smooth.shape)"
   ]
  },
  {
   "cell_type": "markdown",
   "id": "23591cba",
   "metadata": {},
   "source": [
    "We notice that there are 178285 rows in class congested and 138827 in class smooth. <br> This shows us that there is an imbalance in the data available. <br> To fix this issue we undersample"
   ]
  },
  {
   "cell_type": "code",
   "execution_count": 30,
   "id": "725ab979",
   "metadata": {},
   "outputs": [
    {
     "name": "stdout",
     "output_type": "stream",
     "text": [
      "total class of smooth and congested: congested    138827\n",
      "smooth       138827\n",
      "Name: Data_prediction, dtype: int64\n"
     ]
    },
    {
     "data": {
      "text/plain": [
       "<AxesSubplot:title={'center':'count (Data_prediction)'}>"
      ]
     },
     "execution_count": 30,
     "metadata": {},
     "output_type": "execute_result"
    },
    {
     "data": {
      "image/png": "[encoded data removed]",
      "text/plain": [
       "<Figure size 432x288 with 1 Axes>"
      ]
     },
     "metadata": {
      "needs_background": "light"
     },
     "output_type": "display_data"
    }
   ],
   "source": [
    "class_congested_under = class_congested.sample(class_count_smooth)\n",
    "\n",
    "data = pd.concat([class_congested_under, class_smooth], axis=0)\n",
    "\n",
    "print(\"total class of smooth and congested:\",data['Data_prediction'].value_counts())# plot the count after under-sampeling\n",
    "data['Data_prediction'].value_counts().plot(kind='bar', title='count (Data_prediction)')"
   ]
  },
  {
   "cell_type": "code",
   "execution_count": 31,
   "id": "86f53912",
   "metadata": {},
   "outputs": [
    {
     "data": {
      "text/plain": [
       "(277654, 144)"
      ]
     },
     "execution_count": 31,
     "metadata": {},
     "output_type": "execute_result"
    }
   ],
   "source": [
    "data.shape"
   ]
  },
  {
   "cell_type": "markdown",
   "id": "c1278176",
   "metadata": {},
   "source": [
    "We notice now that the data we have is balanced in terms of the target variables"
   ]
  },
  {
   "cell_type": "code",
   "execution_count": 32,
   "id": "e3d8c608",
   "metadata": {},
   "outputs": [],
   "source": [
    "data['Data_prediction'] = data['Data_prediction'].replace(['smooth','congested'],[0,1])"
   ]
  },
  {
   "cell_type": "code",
   "execution_count": 33,
   "id": "3171579e",
   "metadata": {},
   "outputs": [
    {
     "data": {
      "text/html": [
       "<div>\n",
       "<style scoped>\n",
       "    .dataframe tbody tr th:only-of-type {\n",
       "        vertical-align: middle;\n",
       "    }\n",
       "\n",
       "    .dataframe tbody tr th {\n",
       "        vertical-align: top;\n",
       "    }\n",
       "\n",
       "    .dataframe thead th {\n",
       "        text-align: right;\n",
       "    }\n",
       "</style>\n",
       "<table border=\"1\" class=\"dataframe\">\n",
       "  <thead>\n",
       "    <tr style=\"text-align: right;\">\n",
       "      <th></th>\n",
       "      <th>Fastest_Route_Distance</th>\n",
       "      <th>Fastest_Route_Time</th>\n",
       "      <th>Data_prediction</th>\n",
       "      <th>month</th>\n",
       "      <th>day_of_month</th>\n",
       "      <th>day_of_year</th>\n",
       "      <th>week_of_year</th>\n",
       "      <th>year</th>\n",
       "      <th>is_wknd</th>\n",
       "      <th>is_month_start</th>\n",
       "      <th>...</th>\n",
       "      <th>Starting_Location_zaman_khan_khokha</th>\n",
       "      <th>Weather_Clear</th>\n",
       "      <th>Weather_Cloudy</th>\n",
       "      <th>Weather_Mostly Clear</th>\n",
       "      <th>Weather_Mostly Cloudy</th>\n",
       "      <th>Weather_Mostly Sunny</th>\n",
       "      <th>Weather_Partly Cloudy</th>\n",
       "      <th>Weather_Rain</th>\n",
       "      <th>Weather_Showers</th>\n",
       "      <th>Weather_Sunny</th>\n",
       "    </tr>\n",
       "  </thead>\n",
       "  <tbody>\n",
       "    <tr>\n",
       "      <th>264057</th>\n",
       "      <td>1000.0</td>\n",
       "      <td>270.0</td>\n",
       "      <td>1</td>\n",
       "      <td>2</td>\n",
       "      <td>18</td>\n",
       "      <td>49</td>\n",
       "      <td>8</td>\n",
       "      <td>2020</td>\n",
       "      <td>0</td>\n",
       "      <td>0</td>\n",
       "      <td>...</td>\n",
       "      <td>0</td>\n",
       "      <td>0</td>\n",
       "      <td>0</td>\n",
       "      <td>0</td>\n",
       "      <td>0</td>\n",
       "      <td>0</td>\n",
       "      <td>1</td>\n",
       "      <td>0</td>\n",
       "      <td>0</td>\n",
       "      <td>0</td>\n",
       "    </tr>\n",
       "    <tr>\n",
       "      <th>10901</th>\n",
       "      <td>2500.0</td>\n",
       "      <td>270.0</td>\n",
       "      <td>1</td>\n",
       "      <td>2</td>\n",
       "      <td>15</td>\n",
       "      <td>46</td>\n",
       "      <td>7</td>\n",
       "      <td>2020</td>\n",
       "      <td>1</td>\n",
       "      <td>0</td>\n",
       "      <td>...</td>\n",
       "      <td>0</td>\n",
       "      <td>0</td>\n",
       "      <td>0</td>\n",
       "      <td>0</td>\n",
       "      <td>0</td>\n",
       "      <td>0</td>\n",
       "      <td>0</td>\n",
       "      <td>0</td>\n",
       "      <td>0</td>\n",
       "      <td>1</td>\n",
       "    </tr>\n",
       "    <tr>\n",
       "      <th>100937</th>\n",
       "      <td>1300.0</td>\n",
       "      <td>120.0</td>\n",
       "      <td>1</td>\n",
       "      <td>2</td>\n",
       "      <td>23</td>\n",
       "      <td>54</td>\n",
       "      <td>8</td>\n",
       "      <td>2020</td>\n",
       "      <td>1</td>\n",
       "      <td>0</td>\n",
       "      <td>...</td>\n",
       "      <td>0</td>\n",
       "      <td>1</td>\n",
       "      <td>0</td>\n",
       "      <td>0</td>\n",
       "      <td>0</td>\n",
       "      <td>0</td>\n",
       "      <td>0</td>\n",
       "      <td>0</td>\n",
       "      <td>0</td>\n",
       "      <td>0</td>\n",
       "    </tr>\n",
       "    <tr>\n",
       "      <th>107981</th>\n",
       "      <td>1000.0</td>\n",
       "      <td>120.0</td>\n",
       "      <td>1</td>\n",
       "      <td>2</td>\n",
       "      <td>24</td>\n",
       "      <td>55</td>\n",
       "      <td>9</td>\n",
       "      <td>2020</td>\n",
       "      <td>0</td>\n",
       "      <td>0</td>\n",
       "      <td>...</td>\n",
       "      <td>0</td>\n",
       "      <td>1</td>\n",
       "      <td>0</td>\n",
       "      <td>0</td>\n",
       "      <td>0</td>\n",
       "      <td>0</td>\n",
       "      <td>0</td>\n",
       "      <td>0</td>\n",
       "      <td>0</td>\n",
       "      <td>0</td>\n",
       "    </tr>\n",
       "    <tr>\n",
       "      <th>191692</th>\n",
       "      <td>1100.0</td>\n",
       "      <td>120.0</td>\n",
       "      <td>1</td>\n",
       "      <td>2</td>\n",
       "      <td>16</td>\n",
       "      <td>47</td>\n",
       "      <td>7</td>\n",
       "      <td>2020</td>\n",
       "      <td>1</td>\n",
       "      <td>0</td>\n",
       "      <td>...</td>\n",
       "      <td>0</td>\n",
       "      <td>0</td>\n",
       "      <td>0</td>\n",
       "      <td>1</td>\n",
       "      <td>0</td>\n",
       "      <td>0</td>\n",
       "      <td>0</td>\n",
       "      <td>0</td>\n",
       "      <td>0</td>\n",
       "      <td>0</td>\n",
       "    </tr>\n",
       "  </tbody>\n",
       "</table>\n",
       "<p>5 rows × 144 columns</p>\n",
       "</div>"
      ],
      "text/plain": [
       "        Fastest_Route_Distance  Fastest_Route_Time  Data_prediction  month  \\\n",
       "264057                  1000.0               270.0                1      2   \n",
       "10901                   2500.0               270.0                1      2   \n",
       "100937                  1300.0               120.0                1      2   \n",
       "107981                  1000.0               120.0                1      2   \n",
       "191692                  1100.0               120.0                1      2   \n",
       "\n",
       "        day_of_month  day_of_year  week_of_year  year  is_wknd  \\\n",
       "264057            18           49             8  2020        0   \n",
       "10901             15           46             7  2020        1   \n",
       "100937            23           54             8  2020        1   \n",
       "107981            24           55             9  2020        0   \n",
       "191692            16           47             7  2020        1   \n",
       "\n",
       "        is_month_start  ...  Starting_Location_zaman_khan_khokha  \\\n",
       "264057               0  ...                                    0   \n",
       "10901                0  ...                                    0   \n",
       "100937               0  ...                                    0   \n",
       "107981               0  ...                                    0   \n",
       "191692               0  ...                                    0   \n",
       "\n",
       "        Weather_Clear  Weather_Cloudy  Weather_Mostly Clear  \\\n",
       "264057              0               0                     0   \n",
       "10901               0               0                     0   \n",
       "100937              1               0                     0   \n",
       "107981              1               0                     0   \n",
       "191692              0               0                     1   \n",
       "\n",
       "        Weather_Mostly Cloudy  Weather_Mostly Sunny  Weather_Partly Cloudy  \\\n",
       "264057                      0                     0                      1   \n",
       "10901                       0                     0                      0   \n",
       "100937                      0                     0                      0   \n",
       "107981                      0                     0                      0   \n",
       "191692                      0                     0                      0   \n",
       "\n",
       "        Weather_Rain  Weather_Showers  Weather_Sunny  \n",
       "264057             0                0              0  \n",
       "10901              0                0              1  \n",
       "100937             0                0              0  \n",
       "107981             0                0              0  \n",
       "191692             0                0              0  \n",
       "\n",
       "[5 rows x 144 columns]"
      ]
     },
     "execution_count": 33,
     "metadata": {},
     "output_type": "execute_result"
    }
   ],
   "source": [
    "data.head()"
   ]
  },
  {
   "cell_type": "code",
   "execution_count": 34,
   "id": "f659f94a",
   "metadata": {},
   "outputs": [
    {
     "data": {
      "text/plain": [
       "array([1, 0])"
      ]
     },
     "execution_count": 34,
     "metadata": {},
     "output_type": "execute_result"
    }
   ],
   "source": [
    "data.Data_prediction.unique()"
   ]
  },
  {
   "cell_type": "code",
   "execution_count": 35,
   "id": "6172f060",
   "metadata": {},
   "outputs": [
    {
     "data": {
      "text/plain": [
       "dtype('int64')"
      ]
     },
     "execution_count": 35,
     "metadata": {},
     "output_type": "execute_result"
    }
   ],
   "source": [
    "data['Data_prediction'].dtypes"
   ]
  },
  {
   "cell_type": "code",
   "execution_count": 36,
   "id": "1c98fd4e",
   "metadata": {},
   "outputs": [
    {
     "name": "stdout",
     "output_type": "stream",
     "text": [
      "<class 'pandas.core.frame.DataFrame'>\n",
      "Int64Index: 277654 entries, 264057 to 317111\n",
      "Columns: 144 entries, Fastest_Route_Distance to Weather_Sunny\n",
      "dtypes: float64(3), int64(8), uint8(133)\n",
      "memory usage: 60.6 MB\n"
     ]
    }
   ],
   "source": [
    "data.info()"
   ]
  },
  {
   "cell_type": "markdown",
   "id": "1e4a8d8e",
   "metadata": {},
   "source": [
    "### Export Data for Model Training"
   ]
  },
  {
   "cell_type": "code",
   "execution_count": 37,
   "id": "705f2196",
   "metadata": {},
   "outputs": [],
   "source": [
    "X = data.drop([\"Data_prediction\"], axis=1)\n",
    "y = data[\"Data_prediction\"]"
   ]
  },
  {
   "cell_type": "code",
   "execution_count": 38,
   "id": "485dbac3",
   "metadata": {},
   "outputs": [
    {
     "data": {
      "text/plain": [
       "Index(['Fastest_Route_Distance', 'Fastest_Route_Time', 'month', 'day_of_month',\n",
       "       'day_of_year', 'week_of_year', 'year', 'is_wknd', 'is_month_start',\n",
       "       'is_month_end',\n",
       "       ...\n",
       "       'Starting_Location_zaman_khan_khokha', 'Weather_Clear',\n",
       "       'Weather_Cloudy', 'Weather_Mostly Clear', 'Weather_Mostly Cloudy',\n",
       "       'Weather_Mostly Sunny', 'Weather_Partly Cloudy', 'Weather_Rain',\n",
       "       'Weather_Showers', 'Weather_Sunny'],\n",
       "      dtype='object', length=143)"
      ]
     },
     "execution_count": 38,
     "metadata": {},
     "output_type": "execute_result"
    }
   ],
   "source": [
    "X.columns"
   ]
  },
  {
   "cell_type": "markdown",
   "id": "17583cd9-5df8-42be-8277-5ddc209812bc",
   "metadata": {},
   "source": [
    "## Write dataaset to Data Repo"
   ]
  },
  {
   "cell_type": "code",
   "execution_count": 39,
   "id": "61dc9637-2f24-4a95-bd5c-3f763d2762d2",
   "metadata": {},
   "outputs": [
    {
     "data": {
      "text/plain": [
       "True"
      ]
     },
     "execution_count": 39,
     "metadata": {},
     "output_type": "execute_result"
    }
   ],
   "source": [
    "a360ai.write_dataset(X,\"X\", overwrite=True)\n",
    "a360ai.write_dataset(y,\"y\", overwrite=True)"
   ]
  }
 ],
 "metadata": {
  "kernelspec": {
   "display_name": "Python 3 (ipykernel)",
   "language": "python",
   "name": "python3"
  },
  "language_info": {
   "codemirror_mode": {
    "name": "ipython",
    "version": 3
   },
   "file_extension": ".py",
   "mimetype": "text/x-python",
   "name": "python",
   "nbconvert_exporter": "python",
   "pygments_lexer": "ipython3",
   "version": "3.9.12"
  }
 },
 "nbformat": 4,
 "nbformat_minor": 5
}
