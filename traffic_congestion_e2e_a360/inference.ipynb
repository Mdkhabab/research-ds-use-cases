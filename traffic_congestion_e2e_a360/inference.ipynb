{
 "cells": [
  {
   "cell_type": "markdown",
   "id": "80bcb0e4-81f4-4a02-b235-a7b84af328e8",
   "metadata": {},
   "source": [
    "# 5. Inference using Random Forest Model"
   ]
  },
  {
   "cell_type": "markdown",
   "id": "13afd485-8592-4bd0-8add-736034d15428",
   "metadata": {},
   "source": [
    "## A360 MDK interface"
   ]
  },
  {
   "cell_type": "code",
   "execution_count": 1,
   "id": "860e8035-5c26-43f6-9b6d-88dfa572e8a7",
   "metadata": {},
   "outputs": [
    {
     "data": {
      "text/plain": [
       "<A360 AI Interface for project: use-case-logistics>"
      ]
     },
     "execution_count": 1,
     "metadata": {},
     "output_type": "execute_result"
    }
   ],
   "source": [
    "a360ai"
   ]
  },
  {
   "cell_type": "code",
   "execution_count": 2,
   "id": "ed46044d-32bf-4797-8b7d-641cff6c91ca",
   "metadata": {},
   "outputs": [
    {
     "data": {
      "text/plain": [
       "'use-case-logistics'"
      ]
     },
     "execution_count": 2,
     "metadata": {},
     "output_type": "execute_result"
    }
   ],
   "source": [
    "DATAREPO_LIST = a360ai.list_datarepos()\n",
    "DATAREPO = DATAREPO_LIST['name'][0]\n",
    "DATAREPO"
   ]
  },
  {
   "cell_type": "code",
   "execution_count": 3,
   "id": "216ee347-5bbe-4194-8685-a33a6def2107",
   "metadata": {},
   "outputs": [],
   "source": [
    "import requests\n",
    "import json\n",
    "import pandas as pd"
   ]
  },
  {
   "cell_type": "markdown",
   "id": "bbff8401-6e92-4ddc-bef9-4c78de0544ac",
   "metadata": {},
   "source": [
    "## Set Default Data Repo and load data"
   ]
  },
  {
   "cell_type": "code",
   "execution_count": 4,
   "id": "365b13ae-f008-4386-8b18-cfa4aabaa609",
   "metadata": {},
   "outputs": [],
   "source": [
    "a360ai.set_default_datarepo(DATAREPO)"
   ]
  },
  {
   "cell_type": "code",
   "execution_count": 5,
   "id": "4eaa0d89-1c38-4bbc-829c-c50fe00184e6",
   "metadata": {},
   "outputs": [
    {
     "data": {
      "text/html": [
       "<div>\n",
       "<style scoped>\n",
       "    .dataframe tbody tr th:only-of-type {\n",
       "        vertical-align: middle;\n",
       "    }\n",
       "\n",
       "    .dataframe tbody tr th {\n",
       "        vertical-align: top;\n",
       "    }\n",
       "\n",
       "    .dataframe thead th {\n",
       "        text-align: right;\n",
       "    }\n",
       "</style>\n",
       "<table border=\"1\" class=\"dataframe\">\n",
       "  <thead>\n",
       "    <tr style=\"text-align: right;\">\n",
       "      <th></th>\n",
       "      <th>base_name</th>\n",
       "      <th>extension</th>\n",
       "      <th>size</th>\n",
       "    </tr>\n",
       "  </thead>\n",
       "  <tbody>\n",
       "    <tr>\n",
       "      <th>1</th>\n",
       "      <td>X.parquet</td>\n",
       "      <td>parquet</td>\n",
       "      <td>3213246.0</td>\n",
       "    </tr>\n",
       "    <tr>\n",
       "      <th>2</th>\n",
       "      <td>data_traffic_congestion_2020.csv</td>\n",
       "      <td>csv</td>\n",
       "      <td>36377405.0</td>\n",
       "    </tr>\n",
       "    <tr>\n",
       "      <th>3</th>\n",
       "      <td>y.parquet</td>\n",
       "      <td>parquet</td>\n",
       "      <td>1503289.0</td>\n",
       "    </tr>\n",
       "  </tbody>\n",
       "</table>\n",
       "</div>"
      ],
      "text/plain": [
       "                          base_name extension        size\n",
       "1                         X.parquet   parquet   3213246.0\n",
       "2  data_traffic_congestion_2020.csv       csv  36377405.0\n",
       "3                         y.parquet   parquet   1503289.0"
      ]
     },
     "execution_count": 5,
     "metadata": {},
     "output_type": "execute_result"
    }
   ],
   "source": [
    "a360ai.list_datasets()"
   ]
  },
  {
   "cell_type": "code",
   "execution_count": 6,
   "id": "3bd88b74-57df-43eb-b58e-c4da24eb3741",
   "metadata": {},
   "outputs": [],
   "source": [
    "df = a360ai.load_dataset(\"X.parquet\")"
   ]
  },
  {
   "cell_type": "markdown",
   "id": "66bc2220-dd74-437d-a881-f5d045a4ebce",
   "metadata": {},
   "source": [
    "## Test one data point"
   ]
  },
  {
   "cell_type": "code",
   "execution_count": 7,
   "id": "4707e2e6-ea40-4fab-8179-e575036aa70b",
   "metadata": {},
   "outputs": [],
   "source": [
    "url = \"https://qa-models.a360.ai/use-case-logistics-logistics-dt-1/\"\n",
    "with open('header.json') as json_file:\n",
    "    headers = json.load(json_file)"
   ]
  },
  {
   "cell_type": "code",
   "execution_count": 8,
   "id": "e2910e65-abbf-4f11-8c84-0d2d10e76547",
   "metadata": {},
   "outputs": [],
   "source": [
    "data = df.iloc[2]\n",
    "out = data.to_json() \n",
    "prediction = requests.post(url,data=out,headers=headers).text.split(':')[-1].split(\"}\")[0]"
   ]
  },
  {
   "cell_type": "code",
   "execution_count": 9,
   "id": "01ed6a4b-0d1b-4fe0-862a-9d9e272246dd",
   "metadata": {},
   "outputs": [
    {
     "data": {
      "text/plain": [
       "'1.0'"
      ]
     },
     "execution_count": 9,
     "metadata": {},
     "output_type": "execute_result"
    }
   ],
   "source": [
    "prediction"
   ]
  }
 ],
 "metadata": {
  "kernelspec": {
   "display_name": "Python 3 (ipykernel)",
   "language": "python",
   "name": "python3"
  },
  "language_info": {
   "codemirror_mode": {
    "name": "ipython",
    "version": 3
   },
   "file_extension": ".py",
   "mimetype": "text/x-python",
   "name": "python",
   "nbconvert_exporter": "python",
   "pygments_lexer": "ipython3",
   "version": "3.9.12"
  }
 },
 "nbformat": 4,
 "nbformat_minor": 5
}
