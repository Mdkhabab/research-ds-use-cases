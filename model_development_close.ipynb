{
 "cells": [
  {
   "cell_type": "markdown",
   "id": "39a82e18",
   "metadata": {},
   "source": [
    "# 3.a Model Development (Close)"
   ]
  },
  {
   "cell_type": "code",
   "execution_count": 2,
   "id": "47fafbfa",
   "metadata": {},
   "outputs": [],
   "source": [
    "import numpy as np\n",
    "import math\n",
    "import pandas as pd\n",
    "from sklearn.preprocessing import MinMaxScaler \n",
    "import matplotlib.pyplot as plt\n",
    "import seaborn as sns\n",
    "from sklearn.model_selection import train_test_split\n",
    "import boto3 \n",
    "import io  \n",
    "from sagemaker import get_execution_role\n",
    "role = get_execution_role()\n",
    "import tensorflow as tf\n",
    "from tensorflow import keras\n",
    "from tensorflow.keras import layers"
   ]
  },
  {
   "cell_type": "code",
   "execution_count": 3,
   "id": "36159692",
   "metadata": {},
   "outputs": [
    {
     "data": {
      "text/plain": [
       "'arn:aws:iam::190183093544:role/service-role/AmazonSageMaker-ExecutionRole-20220602T141236'"
      ]
     },
     "execution_count": 3,
     "metadata": {},
     "output_type": "execute_result"
    }
   ],
   "source": [
    "role"
   ]
  },
  {
   "cell_type": "code",
   "execution_count": 4,
   "id": "ea28dcc8",
   "metadata": {},
   "outputs": [],
   "source": [
    "session = boto3.Session()"
   ]
  },
  {
   "cell_type": "markdown",
   "id": "9fb7a5ce",
   "metadata": {},
   "source": [
    "### Load the Data from S3"
   ]
  },
  {
   "cell_type": "code",
   "execution_count": 5,
   "id": "618eb29b",
   "metadata": {},
   "outputs": [
    {
     "name": "stderr",
     "output_type": "stream",
     "text": [
      "/home/ec2-user/anaconda3/envs/amazonei_tensorflow2_p36/lib/python3.6/site-packages/boto3/compat.py:88: PythonDeprecationWarning: Boto3 will no longer support Python 3.6 starting May 30, 2022. To continue receiving service updates, bug fixes, and security updates please upgrade to Python 3.7 or later. More information can be found here: https://aws.amazon.com/blogs/developer/python-support-policy-updates-for-aws-sdks-and-tools/\n",
      "  warnings.warn(warning, PythonDeprecationWarning)\n"
     ]
    }
   ],
   "source": [
    "bucket='data-aman-use-case'  \n",
    "file_key = 'x_train_close.npy' \n",
    "  \n",
    "s3_client = boto3.client('s3')  \n",
    "obj = s3_client.get_object(Bucket=bucket, Key=file_key)  \n",
    "x_train_close = np.load(io.BytesIO(obj['Body'].read()))  "
   ]
  },
  {
   "cell_type": "code",
   "execution_count": 6,
   "id": "31399eba",
   "metadata": {},
   "outputs": [],
   "source": [
    "bucket='data-aman-use-case'  \n",
    "file_key = 'x_test_close.npy' \n",
    "  \n",
    "s3_client = boto3.client('s3')  \n",
    "obj = s3_client.get_object(Bucket=bucket, Key=file_key)  \n",
    "x_test_close = np.load(io.BytesIO(obj['Body'].read()))  "
   ]
  },
  {
   "cell_type": "code",
   "execution_count": 7,
   "id": "5a07670e",
   "metadata": {},
   "outputs": [],
   "source": [
    "bucket='data-aman-use-case'  \n",
    "file_key = 'y_train_close.npy' \n",
    "  \n",
    "s3_client = boto3.client('s3')  \n",
    "obj = s3_client.get_object(Bucket=bucket, Key=file_key)  \n",
    "y_train_close = np.load(io.BytesIO(obj['Body'].read()))  "
   ]
  },
  {
   "cell_type": "code",
   "execution_count": 8,
   "id": "7d9b52a0",
   "metadata": {},
   "outputs": [],
   "source": [
    "bucket='data-aman-use-case'  \n",
    "file_key = 'y_test_close.npy' \n",
    "  \n",
    "s3_client = boto3.client('s3')  \n",
    "obj = s3_client.get_object(Bucket=bucket, Key=file_key)  \n",
    "y_test_close = np.load(io.BytesIO(obj['Body'].read()))  "
   ]
  },
  {
   "cell_type": "markdown",
   "id": "7d020234",
   "metadata": {},
   "source": [
    "### Building the LSTM RNN Model for close prices"
   ]
  },
  {
   "cell_type": "code",
   "execution_count": 13,
   "id": "e94034b6",
   "metadata": {},
   "outputs": [
    {
     "name": "stdout",
     "output_type": "stream",
     "text": [
      "Model: \"sequential_1\"\n",
      "_________________________________________________________________\n",
      "Layer (type)                 Output Shape              Param #   \n",
      "=================================================================\n",
      "lstm_6 (LSTM)                (None, 60, 100)           40800     \n",
      "_________________________________________________________________\n",
      "lstm_7 (LSTM)                (None, 100)               80400     \n",
      "_________________________________________________________________\n",
      "dense_1 (Dense)              (None, 25)                2525      \n",
      "_________________________________________________________________\n",
      "dense_2 (Dense)              (None, 1)                 26        \n",
      "=================================================================\n",
      "Total params: 123,751\n",
      "Trainable params: 123,751\n",
      "Non-trainable params: 0\n",
      "_________________________________________________________________\n"
     ]
    }
   ],
   "source": [
    "\n",
    "model = keras.Sequential()\n",
    "model.add(layers.LSTM(100, return_sequences=True, input_shape=(x_train_close.shape[1], 1)))\n",
    "model.add(layers.LSTM(100, return_sequences=False))\n",
    "model.add(layers.Dense(25))\n",
    "model.add(layers.Dense(1))\n",
    "model.summary()\n"
   ]
  },
  {
   "cell_type": "code",
   "execution_count": 14,
   "id": "2cd345f8",
   "metadata": {},
   "outputs": [
    {
     "data": {
      "text/plain": [
       "'\\nregressor = keras.Sequential()\\n# LSTM layer 1\\nregressor.add(layers.LSTM(units = 50, return_sequences=True, input_shape = (x_train_close.shape[1], 1)))\\nregressor.add(layers.Dropout(0.2))\\n# LSTM layer 2,3,4\\nregressor.add(layers.LSTM(units = 50, return_sequences=True))\\nregressor.add(layers.Dropout(0.2))\\nregressor.add(layers.LSTM(units = 50, return_sequences=True))\\nregressor.add(layers.Dropout(0.2))\\nregressor.add(layers.LSTM(units = 50, return_sequences=True))\\nregressor.add(layers.Dropout(0.2))\\nregressor.add(layers.LSTM(units = 50, return_sequences=True))\\nregressor.add(layers.Dropout(0.2))\\n# LSTM layer 5\\nregressor.add(layers.LSTM(units = 50))\\nregressor.add(layers.Dropout(0.2))\\n# Fully connected layer\\nregressor.add(layers.Dense(units = 1))\\nregressor.summary()\\n'"
      ]
     },
     "execution_count": 14,
     "metadata": {},
     "output_type": "execute_result"
    }
   ],
   "source": [
    "\"\"\"\n",
    "regressor = keras.Sequential()\n",
    "# LSTM layer 1\n",
    "regressor.add(layers.LSTM(units = 50, return_sequences=True, input_shape = (x_train_close.shape[1], 1)))\n",
    "regressor.add(layers.Dropout(0.2))\n",
    "# LSTM layer 2,3,4\n",
    "regressor.add(layers.LSTM(units = 50, return_sequences=True))\n",
    "regressor.add(layers.Dropout(0.2))\n",
    "regressor.add(layers.LSTM(units = 50, return_sequences=True))\n",
    "regressor.add(layers.Dropout(0.2))\n",
    "regressor.add(layers.LSTM(units = 50, return_sequences=True))\n",
    "regressor.add(layers.Dropout(0.2))\n",
    "regressor.add(layers.LSTM(units = 50, return_sequences=True))\n",
    "regressor.add(layers.Dropout(0.2))\n",
    "# LSTM layer 5\n",
    "regressor.add(layers.LSTM(units = 50))\n",
    "regressor.add(layers.Dropout(0.2))\n",
    "# Fully connected layer\n",
    "regressor.add(layers.Dense(units = 1))\n",
    "regressor.summary()\n",
    "\"\"\""
   ]
  },
  {
   "cell_type": "markdown",
   "id": "287ed55c",
   "metadata": {},
   "source": [
    "### Compiling and fitting the LSTM RNN Model"
   ]
  },
  {
   "cell_type": "code",
   "execution_count": 15,
   "id": "2a44b942",
   "metadata": {},
   "outputs": [
    {
     "name": "stdout",
     "output_type": "stream",
     "text": [
      "Epoch 1/12\n",
      "2216/2216 [==============================] - 68s 31ms/step - loss: 1.6931e-04\n",
      "Epoch 2/12\n",
      "2216/2216 [==============================] - 66s 30ms/step - loss: 8.7171e-05\n",
      "Epoch 3/12\n",
      "2216/2216 [==============================] - 63s 29ms/step - loss: 8.6133e-05\n",
      "Epoch 4/12\n",
      "2216/2216 [==============================] - 64s 29ms/step - loss: 5.2935e-05\n",
      "Epoch 5/12\n",
      "2216/2216 [==============================] - 66s 30ms/step - loss: 5.7265e-05\n",
      "Epoch 6/12\n",
      "2216/2216 [==============================] - 64s 29ms/step - loss: 5.7784e-05\n",
      "Epoch 7/12\n",
      "2216/2216 [==============================] - 64s 29ms/step - loss: 5.0098e-05\n",
      "Epoch 8/12\n",
      "2216/2216 [==============================] - 64s 29ms/step - loss: 4.9319e-05\n",
      "Epoch 9/12\n",
      "2216/2216 [==============================] - 67s 30ms/step - loss: 4.5039e-05\n",
      "Epoch 10/12\n",
      "2216/2216 [==============================] - 64s 29ms/step - loss: 4.5707e-05\n",
      "Epoch 11/12\n",
      "2216/2216 [==============================] - 64s 29ms/step - loss: 4.7181e-05\n",
      "Epoch 12/12\n",
      "2216/2216 [==============================] - 64s 29ms/step - loss: 3.9381e-05\n"
     ]
    },
    {
     "data": {
      "text/plain": [
       "<tensorflow.python.keras.callbacks.History at 0x7fbe981d2dd8>"
      ]
     },
     "execution_count": 15,
     "metadata": {},
     "output_type": "execute_result"
    }
   ],
   "source": [
    "model.compile(optimizer='adam', loss='mean_squared_error')\n",
    "model.fit(x_train_close, y_train_close, batch_size= 1, epochs=12)"
   ]
  },
  {
   "cell_type": "markdown",
   "id": "3be3c8e7",
   "metadata": {},
   "source": [
    "### Scaling values in local env"
   ]
  },
  {
   "cell_type": "code",
   "execution_count": 16,
   "id": "a8026b68",
   "metadata": {},
   "outputs": [],
   "source": [
    "btc = f'https://query1.finance.yahoo.com/v7/finance/download/BTC-USD?period1=1410912000&period2=1656633600&interval=1d&events=history&includeAdjustedClose=true'"
   ]
  },
  {
   "cell_type": "code",
   "execution_count": 17,
   "id": "b458aaf7",
   "metadata": {},
   "outputs": [],
   "source": [
    "data= pd.read_csv(btc, parse_dates=['Date'], index_col=['Date'])"
   ]
  },
  {
   "cell_type": "code",
   "execution_count": 18,
   "id": "944da1a3",
   "metadata": {},
   "outputs": [],
   "source": [
    "close_prices = data['Close']\n",
    "values = close_prices.values\n",
    "training_data_len_close = math.ceil(len(values)* 0.8)\n",
    "\n",
    "scaler = MinMaxScaler(feature_range=(0,1))\n",
    "scaled_data_close = scaler.fit_transform(values.reshape(-1, 1))\n",
    "train_data_close = scaled_data_close[0: training_data_len_close, :]\n",
    "\n",
    "x_train_close = []\n",
    "y_train_close = []\n",
    "\n",
    "for i in range(60, len(train_data_close)):\n",
    "    x_train_close.append(train_data_close[i-60:i, 0])\n",
    "    y_train_close.append(train_data_close[i, 0])\n",
    "x_train_close, y_train_close = np.array(x_train_close), np.array(y_train_close)\n",
    "x_train_close = np.reshape(x_train_close, (x_train_close.shape[0], x_train_close.shape[1], 1))"
   ]
  },
  {
   "cell_type": "code",
   "execution_count": 19,
   "id": "8bbcf278",
   "metadata": {},
   "outputs": [],
   "source": [
    "test_data_close = scaled_data_close[training_data_len_close-60: , : ]\n",
    "x_test_close = []\n",
    "y_test_close = values[training_data_len_close:]\n",
    "\n",
    "for i in range(60, len(test_data_close)):\n",
    "    x_test_close.append(test_data_close[i-60:i, 0])\n",
    "\n",
    "x_test_close = np.array(x_test_close)\n",
    "x_test_close = np.reshape(x_test_close, (x_test_close.shape[0], x_test_close.shape[1], 1))"
   ]
  },
  {
   "cell_type": "markdown",
   "id": "1d6a2c95",
   "metadata": {},
   "source": [
    "### Making predictions and looking at the RMSE"
   ]
  },
  {
   "cell_type": "code",
   "execution_count": 20,
   "id": "d39ab387",
   "metadata": {},
   "outputs": [
    {
     "data": {
      "text/plain": [
       "2139.0868060391035"
      ]
     },
     "execution_count": 20,
     "metadata": {},
     "output_type": "execute_result"
    }
   ],
   "source": [
    "predictions = model.predict(x_test_close)\n",
    "predictions = scaler.inverse_transform(predictions)\n",
    "rmse = np.sqrt(np.mean(predictions - y_test_close)**2)\n",
    "rmse"
   ]
  },
  {
   "cell_type": "markdown",
   "id": "2c053441",
   "metadata": {},
   "source": [
    "### Visualizing model performance"
   ]
  },
  {
   "cell_type": "code",
   "execution_count": 21,
   "id": "a786ad56",
   "metadata": {},
   "outputs": [
    {
     "name": "stderr",
     "output_type": "stream",
     "text": [
      "/home/ec2-user/anaconda3/envs/amazonei_tensorflow2_p36/lib/python3.6/site-packages/ipykernel/__main__.py:4: SettingWithCopyWarning: \n",
      "A value is trying to be set on a copy of a slice from a DataFrame.\n",
      "Try using .loc[row_indexer,col_indexer] = value instead\n",
      "\n",
      "See the caveats in the documentation: https://pandas.pydata.org/pandas-docs/stable/user_guide/indexing.html#returning-a-view-versus-a-copy\n"
     ]
    },
    {
     "data": {
      "image/png": "[encoded data removed]",
      "text/plain": [
       "<Figure size 1152x576 with 1 Axes>"
      ]
     },
     "metadata": {
      "needs_background": "light"
     },
     "output_type": "display_data"
    }
   ],
   "source": [
    "data = data.filter(['Close'])\n",
    "train = data[:training_data_len_close]\n",
    "validation = data[training_data_len_close:]\n",
    "validation['Predictions'] = predictions\n",
    "plt.figure(figsize=(16,8))\n",
    "plt.title('Model')\n",
    "plt.xlabel('Date')\n",
    "plt.ylabel('Close Price USD ($)')\n",
    "plt.plot(train)\n",
    "plt.plot(validation[['Close', 'Predictions']])\n",
    "plt.legend(['Train', 'Val', 'Predictions'], loc='lower right')\n",
    "plt.show()"
   ]
  },
  {
   "cell_type": "code",
   "execution_count": null,
   "id": "d623b26c",
   "metadata": {},
   "outputs": [],
   "source": []
  }
 ],
 "metadata": {
  "kernelspec": {
   "display_name": "conda_amazonei_tensorflow2_p36",
   "language": "python",
   "name": "conda_amazonei_tensorflow2_p36"
  },
  "language_info": {
   "codemirror_mode": {
    "name": "ipython",
    "version": 3
   },
   "file_extension": ".py",
   "mimetype": "text/x-python",
   "name": "python",
   "nbconvert_exporter": "python",
   "pygments_lexer": "ipython3",
   "version": "3.6.13"
  }
 },
 "nbformat": 4,
 "nbformat_minor": 5
}
