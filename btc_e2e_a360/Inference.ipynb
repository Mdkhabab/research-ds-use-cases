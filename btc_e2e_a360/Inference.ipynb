{
 "cells": [
  {
   "cell_type": "markdown",
   "id": "7fc51756-ad95-4dbd-919b-e364e5a34344",
   "metadata": {},
   "source": [
    "# 5. Inference using Random Forest Model"
   ]
  },
  {
   "cell_type": "markdown",
   "id": "3e33e23b-95fc-4535-9ef9-a4fd7511f486",
   "metadata": {},
   "source": [
    "## A360 MDK interface"
   ]
  },
  {
   "cell_type": "code",
   "execution_count": 1,
   "id": "875fc0be-477f-4e5a-b127-d5fe8a9631b0",
   "metadata": {},
   "outputs": [
    {
     "data": {
      "text/plain": [
       "<A360 AI Interface for project: Btc-price>"
      ]
     },
     "execution_count": 1,
     "metadata": {},
     "output_type": "execute_result"
    }
   ],
   "source": [
    "a360ai"
   ]
  },
  {
   "cell_type": "code",
   "execution_count": 2,
   "id": "0bb1afad-57f8-48d7-908a-6e7d8a4e1914",
   "metadata": {},
   "outputs": [
    {
     "data": {
      "text/plain": [
       "'a360-btc-use-case'"
      ]
     },
     "execution_count": 2,
     "metadata": {},
     "output_type": "execute_result"
    }
   ],
   "source": [
    "DATAREPO_LIST = a360ai.list_datarepos()\n",
    "DATAREPO = DATAREPO_LIST['name'][0]\n",
    "DATAREPO"
   ]
  },
  {
   "cell_type": "code",
   "execution_count": 3,
   "id": "e55004f6-6aef-4f76-82ac-9ce4af604644",
   "metadata": {},
   "outputs": [],
   "source": [
    "import requests\n",
    "import json\n",
    "import pandas as pd"
   ]
  },
  {
   "cell_type": "markdown",
   "id": "13430471-ac05-4a35-865a-8b5417444708",
   "metadata": {},
   "source": [
    "## Set Default Data Repo and load data"
   ]
  },
  {
   "cell_type": "code",
   "execution_count": 4,
   "id": "b9279364-cc61-45e5-899e-1d2abb5651da",
   "metadata": {},
   "outputs": [],
   "source": [
    "a360ai.set_default_datarepo(DATAREPO)"
   ]
  },
  {
   "cell_type": "code",
   "execution_count": 5,
   "id": "ecd803de-6ce7-49c0-bc1c-34a4aa34562a",
   "metadata": {},
   "outputs": [
    {
     "data": {
      "text/html": [
       "<div>\n",
       "<style scoped>\n",
       "    .dataframe tbody tr th:only-of-type {\n",
       "        vertical-align: middle;\n",
       "    }\n",
       "\n",
       "    .dataframe tbody tr th {\n",
       "        vertical-align: top;\n",
       "    }\n",
       "\n",
       "    .dataframe thead th {\n",
       "        text-align: right;\n",
       "    }\n",
       "</style>\n",
       "<table border=\"1\" class=\"dataframe\">\n",
       "  <thead>\n",
       "    <tr style=\"text-align: right;\">\n",
       "      <th></th>\n",
       "      <th>base_name</th>\n",
       "      <th>extension</th>\n",
       "      <th>size</th>\n",
       "    </tr>\n",
       "  </thead>\n",
       "  <tbody>\n",
       "    <tr>\n",
       "      <th>1</th>\n",
       "      <td>X_test_close.parquet</td>\n",
       "      <td>parquet</td>\n",
       "      <td>217947.0</td>\n",
       "    </tr>\n",
       "    <tr>\n",
       "      <th>2</th>\n",
       "      <td>X_train_close.parquet</td>\n",
       "      <td>parquet</td>\n",
       "      <td>477090.0</td>\n",
       "    </tr>\n",
       "    <tr>\n",
       "      <th>3</th>\n",
       "      <td>X_val_close.parquet</td>\n",
       "      <td>parquet</td>\n",
       "      <td>25276.0</td>\n",
       "    </tr>\n",
       "    <tr>\n",
       "      <th>4</th>\n",
       "      <td>trained model.h5</td>\n",
       "      <td>h5</td>\n",
       "      <td>1533920.0</td>\n",
       "    </tr>\n",
       "    <tr>\n",
       "      <th>5</th>\n",
       "      <td>x_test_close.npy</td>\n",
       "      <td>npy</td>\n",
       "      <td>273248.0</td>\n",
       "    </tr>\n",
       "    <tr>\n",
       "      <th>6</th>\n",
       "      <td>x_train_close.npy</td>\n",
       "      <td>npy</td>\n",
       "      <td>1063808.0</td>\n",
       "    </tr>\n",
       "    <tr>\n",
       "      <th>7</th>\n",
       "      <td>y_test_close.npy</td>\n",
       "      <td>npy</td>\n",
       "      <td>4680.0</td>\n",
       "    </tr>\n",
       "    <tr>\n",
       "      <th>8</th>\n",
       "      <td>y_test_close.parquet</td>\n",
       "      <td>parquet</td>\n",
       "      <td>13168.0</td>\n",
       "    </tr>\n",
       "    <tr>\n",
       "      <th>9</th>\n",
       "      <td>y_train_close.npy</td>\n",
       "      <td>npy</td>\n",
       "      <td>17856.0</td>\n",
       "    </tr>\n",
       "    <tr>\n",
       "      <th>10</th>\n",
       "      <td>y_train_close.parquet</td>\n",
       "      <td>parquet</td>\n",
       "      <td>27716.0</td>\n",
       "    </tr>\n",
       "    <tr>\n",
       "      <th>11</th>\n",
       "      <td>y_val_close.parquet</td>\n",
       "      <td>parquet</td>\n",
       "      <td>1892.0</td>\n",
       "    </tr>\n",
       "  </tbody>\n",
       "</table>\n",
       "</div>"
      ],
      "text/plain": [
       "                base_name extension       size\n",
       "1    X_test_close.parquet   parquet   217947.0\n",
       "2   X_train_close.parquet   parquet   477090.0\n",
       "3     X_val_close.parquet   parquet    25276.0\n",
       "4        trained model.h5        h5  1533920.0\n",
       "5        x_test_close.npy       npy   273248.0\n",
       "6       x_train_close.npy       npy  1063808.0\n",
       "7        y_test_close.npy       npy     4680.0\n",
       "8    y_test_close.parquet   parquet    13168.0\n",
       "9       y_train_close.npy       npy    17856.0\n",
       "10  y_train_close.parquet   parquet    27716.0\n",
       "11    y_val_close.parquet   parquet     1892.0"
      ]
     },
     "execution_count": 5,
     "metadata": {},
     "output_type": "execute_result"
    }
   ],
   "source": [
    "a360ai.list_datasets()"
   ]
  },
  {
   "cell_type": "code",
   "execution_count": 6,
   "id": "ed8c7317-c78d-4ded-8395-dc0106682325",
   "metadata": {},
   "outputs": [],
   "source": [
    "x = a360ai.load_dataset(\"X_test_close.parquet\")"
   ]
  },
  {
   "cell_type": "markdown",
   "id": "20407589-948c-4097-bcc3-ff25529dccf9",
   "metadata": {},
   "source": [
    "## Test one data point"
   ]
  },
  {
   "cell_type": "code",
   "execution_count": 7,
   "id": "978df1a6-9c4d-498b-8b7a-7772afe1f46a",
   "metadata": {},
   "outputs": [],
   "source": [
    "url = \"https://qa-models.a360.ai/btc-price-btc-reg-1-1/\"\n",
    "with open('header.json') as json_file:\n",
    "    headers = json.load(json_file)"
   ]
  },
  {
   "cell_type": "code",
   "execution_count": 8,
   "id": "e33bc1d2-c21f-4ce5-b0d2-95c181dd8c9d",
   "metadata": {},
   "outputs": [],
   "source": [
    "data = x.iloc[355]\n",
    "out = data.to_json() \n",
    "prediction = requests.post(url,data=out,headers=headers).text.split(':')[-1].split(\"}\")[0]"
   ]
  },
  {
   "cell_type": "code",
   "execution_count": 9,
   "id": "0562d7cb-c0a1-43f1-bac2-89572e54abe4",
   "metadata": {},
   "outputs": [
    {
     "data": {
      "text/plain": [
       "0     56048.937500\n",
       "1     58323.953125\n",
       "2     58245.003906\n",
       "3     59793.234375\n",
       "4     60204.964844\n",
       "5     59893.453125\n",
       "6     63503.457031\n",
       "7     63109.695313\n",
       "8     63314.011719\n",
       "9     61572.789063\n",
       "10    60683.820313\n",
       "11    56216.183594\n",
       "12    55724.265625\n",
       "13    56473.031250\n",
       "14    53906.089844\n",
       "15    51762.273438\n",
       "16    51093.652344\n",
       "17    50050.867188\n",
       "18    49004.253906\n",
       "19    54021.753906\n",
       "20    55033.117188\n",
       "21    54824.703125\n",
       "22    53555.109375\n",
       "23    57750.175781\n",
       "24    57828.050781\n",
       "25    56631.078125\n",
       "26    57200.292969\n",
       "27    53333.539063\n",
       "28    57424.007813\n",
       "29    56396.515625\n",
       "Name: 2394, dtype: float64"
      ]
     },
     "execution_count": 9,
     "metadata": {},
     "output_type": "execute_result"
    }
   ],
   "source": [
    "data"
   ]
  },
  {
   "cell_type": "code",
   "execution_count": 10,
   "id": "ae348f9c-9a23-417e-a22c-8f4bbbc236f1",
   "metadata": {},
   "outputs": [
    {
     "data": {
      "text/plain": [
       "'56921.21875'"
      ]
     },
     "execution_count": 10,
     "metadata": {},
     "output_type": "execute_result"
    }
   ],
   "source": [
    "prediction"
   ]
  }
 ],
 "metadata": {
  "kernelspec": {
   "display_name": "Python 3 (ipykernel)",
   "language": "python",
   "name": "python3"
  },
  "language_info": {
   "codemirror_mode": {
    "name": "ipython",
    "version": 3
   },
   "file_extension": ".py",
   "mimetype": "text/x-python",
   "name": "python",
   "nbconvert_exporter": "python",
   "pygments_lexer": "ipython3",
   "version": "3.9.12"
  }
 },
 "nbformat": 4,
 "nbformat_minor": 5
}
